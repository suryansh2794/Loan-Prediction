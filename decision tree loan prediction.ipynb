{
 "cells": [
  {
   "cell_type": "code",
   "execution_count": 1,
   "metadata": {},
   "outputs": [],
   "source": [
    "import numpy as np\n",
    "import pandas as pd\n",
    "import matplotlib.pyplot as plt\n",
    "import seaborn as sns\n",
    "%matplotlib inline"
   ]
  },
  {
   "cell_type": "code",
   "execution_count": 2,
   "metadata": {},
   "outputs": [
    {
     "data": {
      "text/html": [
       "<div>\n",
       "<style scoped>\n",
       "    .dataframe tbody tr th:only-of-type {\n",
       "        vertical-align: middle;\n",
       "    }\n",
       "\n",
       "    .dataframe tbody tr th {\n",
       "        vertical-align: top;\n",
       "    }\n",
       "\n",
       "    .dataframe thead th {\n",
       "        text-align: right;\n",
       "    }\n",
       "</style>\n",
       "<table border=\"1\" class=\"dataframe\">\n",
       "  <thead>\n",
       "    <tr style=\"text-align: right;\">\n",
       "      <th></th>\n",
       "      <th>Loan_ID</th>\n",
       "      <th>Gender</th>\n",
       "      <th>Married</th>\n",
       "      <th>Dependents</th>\n",
       "      <th>Education</th>\n",
       "      <th>Self_Employed</th>\n",
       "      <th>ApplicantIncome</th>\n",
       "      <th>CoapplicantIncome</th>\n",
       "      <th>LoanAmount</th>\n",
       "      <th>Loan_Amount_Term</th>\n",
       "      <th>Credit_History</th>\n",
       "      <th>Property_Area</th>\n",
       "      <th>Loan_Status</th>\n",
       "    </tr>\n",
       "  </thead>\n",
       "  <tbody>\n",
       "    <tr>\n",
       "      <th>0</th>\n",
       "      <td>LP001002</td>\n",
       "      <td>Male</td>\n",
       "      <td>No</td>\n",
       "      <td>0</td>\n",
       "      <td>Graduate</td>\n",
       "      <td>No</td>\n",
       "      <td>5849</td>\n",
       "      <td>0.0</td>\n",
       "      <td>NaN</td>\n",
       "      <td>360.0</td>\n",
       "      <td>1.0</td>\n",
       "      <td>Urban</td>\n",
       "      <td>Y</td>\n",
       "    </tr>\n",
       "    <tr>\n",
       "      <th>1</th>\n",
       "      <td>LP001003</td>\n",
       "      <td>Male</td>\n",
       "      <td>Yes</td>\n",
       "      <td>1</td>\n",
       "      <td>Graduate</td>\n",
       "      <td>No</td>\n",
       "      <td>4583</td>\n",
       "      <td>1508.0</td>\n",
       "      <td>128.0</td>\n",
       "      <td>360.0</td>\n",
       "      <td>1.0</td>\n",
       "      <td>Rural</td>\n",
       "      <td>N</td>\n",
       "    </tr>\n",
       "    <tr>\n",
       "      <th>2</th>\n",
       "      <td>LP001005</td>\n",
       "      <td>Male</td>\n",
       "      <td>Yes</td>\n",
       "      <td>0</td>\n",
       "      <td>Graduate</td>\n",
       "      <td>Yes</td>\n",
       "      <td>3000</td>\n",
       "      <td>0.0</td>\n",
       "      <td>66.0</td>\n",
       "      <td>360.0</td>\n",
       "      <td>1.0</td>\n",
       "      <td>Urban</td>\n",
       "      <td>Y</td>\n",
       "    </tr>\n",
       "    <tr>\n",
       "      <th>3</th>\n",
       "      <td>LP001006</td>\n",
       "      <td>Male</td>\n",
       "      <td>Yes</td>\n",
       "      <td>0</td>\n",
       "      <td>Not Graduate</td>\n",
       "      <td>No</td>\n",
       "      <td>2583</td>\n",
       "      <td>2358.0</td>\n",
       "      <td>120.0</td>\n",
       "      <td>360.0</td>\n",
       "      <td>1.0</td>\n",
       "      <td>Urban</td>\n",
       "      <td>Y</td>\n",
       "    </tr>\n",
       "    <tr>\n",
       "      <th>4</th>\n",
       "      <td>LP001008</td>\n",
       "      <td>Male</td>\n",
       "      <td>No</td>\n",
       "      <td>0</td>\n",
       "      <td>Graduate</td>\n",
       "      <td>No</td>\n",
       "      <td>6000</td>\n",
       "      <td>0.0</td>\n",
       "      <td>141.0</td>\n",
       "      <td>360.0</td>\n",
       "      <td>1.0</td>\n",
       "      <td>Urban</td>\n",
       "      <td>Y</td>\n",
       "    </tr>\n",
       "  </tbody>\n",
       "</table>\n",
       "</div>"
      ],
      "text/plain": [
       "    Loan_ID Gender Married Dependents     Education Self_Employed  \\\n",
       "0  LP001002   Male      No          0      Graduate            No   \n",
       "1  LP001003   Male     Yes          1      Graduate            No   \n",
       "2  LP001005   Male     Yes          0      Graduate           Yes   \n",
       "3  LP001006   Male     Yes          0  Not Graduate            No   \n",
       "4  LP001008   Male      No          0      Graduate            No   \n",
       "\n",
       "   ApplicantIncome  CoapplicantIncome  LoanAmount  Loan_Amount_Term  \\\n",
       "0             5849                0.0         NaN             360.0   \n",
       "1             4583             1508.0       128.0             360.0   \n",
       "2             3000                0.0        66.0             360.0   \n",
       "3             2583             2358.0       120.0             360.0   \n",
       "4             6000                0.0       141.0             360.0   \n",
       "\n",
       "   Credit_History Property_Area Loan_Status  \n",
       "0             1.0         Urban           Y  \n",
       "1             1.0         Rural           N  \n",
       "2             1.0         Urban           Y  \n",
       "3             1.0         Urban           Y  \n",
       "4             1.0         Urban           Y  "
      ]
     },
     "execution_count": 2,
     "metadata": {},
     "output_type": "execute_result"
    }
   ],
   "source": [
    "df_train = pd.read_csv('train.csv')\n",
    "df_train.head()"
   ]
  },
  {
   "cell_type": "code",
   "execution_count": 3,
   "metadata": {},
   "outputs": [
    {
     "data": {
      "text/html": [
       "<div>\n",
       "<style scoped>\n",
       "    .dataframe tbody tr th:only-of-type {\n",
       "        vertical-align: middle;\n",
       "    }\n",
       "\n",
       "    .dataframe tbody tr th {\n",
       "        vertical-align: top;\n",
       "    }\n",
       "\n",
       "    .dataframe thead th {\n",
       "        text-align: right;\n",
       "    }\n",
       "</style>\n",
       "<table border=\"1\" class=\"dataframe\">\n",
       "  <thead>\n",
       "    <tr style=\"text-align: right;\">\n",
       "      <th></th>\n",
       "      <th>column_name</th>\n",
       "      <th>values</th>\n",
       "      <th>percent</th>\n",
       "    </tr>\n",
       "  </thead>\n",
       "  <tbody>\n",
       "    <tr>\n",
       "      <th>0</th>\n",
       "      <td>Credit_History</td>\n",
       "      <td>50</td>\n",
       "      <td>8.143322</td>\n",
       "    </tr>\n",
       "    <tr>\n",
       "      <th>1</th>\n",
       "      <td>Self_Employed</td>\n",
       "      <td>32</td>\n",
       "      <td>5.211726</td>\n",
       "    </tr>\n",
       "    <tr>\n",
       "      <th>2</th>\n",
       "      <td>LoanAmount</td>\n",
       "      <td>22</td>\n",
       "      <td>3.583062</td>\n",
       "    </tr>\n",
       "    <tr>\n",
       "      <th>3</th>\n",
       "      <td>Dependents</td>\n",
       "      <td>15</td>\n",
       "      <td>2.442997</td>\n",
       "    </tr>\n",
       "    <tr>\n",
       "      <th>4</th>\n",
       "      <td>Loan_Amount_Term</td>\n",
       "      <td>14</td>\n",
       "      <td>2.280130</td>\n",
       "    </tr>\n",
       "    <tr>\n",
       "      <th>5</th>\n",
       "      <td>Gender</td>\n",
       "      <td>13</td>\n",
       "      <td>2.117264</td>\n",
       "    </tr>\n",
       "    <tr>\n",
       "      <th>6</th>\n",
       "      <td>Married</td>\n",
       "      <td>3</td>\n",
       "      <td>0.488599</td>\n",
       "    </tr>\n",
       "    <tr>\n",
       "      <th>7</th>\n",
       "      <td>Loan_Status</td>\n",
       "      <td>0</td>\n",
       "      <td>0.000000</td>\n",
       "    </tr>\n",
       "    <tr>\n",
       "      <th>8</th>\n",
       "      <td>Property_Area</td>\n",
       "      <td>0</td>\n",
       "      <td>0.000000</td>\n",
       "    </tr>\n",
       "    <tr>\n",
       "      <th>9</th>\n",
       "      <td>CoapplicantIncome</td>\n",
       "      <td>0</td>\n",
       "      <td>0.000000</td>\n",
       "    </tr>\n",
       "    <tr>\n",
       "      <th>10</th>\n",
       "      <td>ApplicantIncome</td>\n",
       "      <td>0</td>\n",
       "      <td>0.000000</td>\n",
       "    </tr>\n",
       "    <tr>\n",
       "      <th>11</th>\n",
       "      <td>Education</td>\n",
       "      <td>0</td>\n",
       "      <td>0.000000</td>\n",
       "    </tr>\n",
       "    <tr>\n",
       "      <th>12</th>\n",
       "      <td>Loan_ID</td>\n",
       "      <td>0</td>\n",
       "      <td>0.000000</td>\n",
       "    </tr>\n",
       "  </tbody>\n",
       "</table>\n",
       "</div>"
      ],
      "text/plain": [
       "          column_name  values   percent\n",
       "0      Credit_History      50  8.143322\n",
       "1       Self_Employed      32  5.211726\n",
       "2          LoanAmount      22  3.583062\n",
       "3          Dependents      15  2.442997\n",
       "4    Loan_Amount_Term      14  2.280130\n",
       "5              Gender      13  2.117264\n",
       "6             Married       3  0.488599\n",
       "7         Loan_Status       0  0.000000\n",
       "8       Property_Area       0  0.000000\n",
       "9   CoapplicantIncome       0  0.000000\n",
       "10    ApplicantIncome       0  0.000000\n",
       "11          Education       0  0.000000\n",
       "12            Loan_ID       0  0.000000"
      ]
     },
     "execution_count": 3,
     "metadata": {},
     "output_type": "execute_result"
    }
   ],
   "source": [
    "null_values = pd.DataFrame(df_train.isnull().sum().sort_values(ascending = False)).reset_index()\n",
    "null_values.columns = ['column_name','values']\n",
    "percent = pd.DataFrame(df_train.isnull().sum().sort_values(ascending = False)/len(df_train)*100).reset_index()\n",
    "percent.columns = ['column_name','percent']\n",
    "percent_1 = pd.DataFrame(percent.loc[:,'percent'])\n",
    "\n",
    "null_df = pd.concat([null_values,percent_1],axis = 1)\n",
    "null_df"
   ]
  },
  {
   "cell_type": "code",
   "execution_count": 4,
   "metadata": {},
   "outputs": [],
   "source": [
    "\n",
    "df_train['Self_Employed'] = df_train['Self_Employed'].fillna(method = 'bfill')\n",
    "df_train['LoanAmount'] = df_train['LoanAmount'].fillna(df_train['LoanAmount'].mean())\n",
    "df_train['Dependents'] = df_train['Dependents'].fillna(method = 'bfill')\n",
    "df_train['Loan_Amount_Term'] = df_train['Loan_Amount_Term'].fillna(method = 'bfill')\n",
    "#df_train['Gender'] = df_train['Gender'].fillna(method = 'ffill')\n",
    "#df_train['Married'] = df_train['Married'].fillna(method = 'bfill')\n"
   ]
  },
  {
   "cell_type": "code",
   "execution_count": 5,
   "metadata": {},
   "outputs": [],
   "source": [
    "df_train['Credit_History'] = df_train['Credit_History'].fillna(method = 'bfill')"
   ]
  },
  {
   "cell_type": "code",
   "execution_count": 6,
   "metadata": {},
   "outputs": [],
   "source": [
    "df_train['Gender'] = df_train['Gender'].fillna(method = 'bfill')\n",
    "df_train['Married'] = df_train['Married'].fillna(method = 'bfill')"
   ]
  },
  {
   "cell_type": "code",
   "execution_count": 7,
   "metadata": {},
   "outputs": [],
   "source": [
    "features = ['ApplicantIncome','CoapplicantIncome','LoanAmount']\n",
    "normalized_df = df_train[features]\n",
    "normalized_df = normalized_df - normalized_df.mean()/normalized_df.std()\n"
   ]
  },
  {
   "cell_type": "code",
   "execution_count": 8,
   "metadata": {},
   "outputs": [],
   "source": [
    "df_train['Gender'] = df_train['Gender'].map({'Male': 1,'Female': 0})\n",
    "df_train['Married'] = df_train['Married'].map({'Yes': 1,'No': 0})\n",
    "df_train['Self_Employed'] = df_train['Self_Employed'].map({'Yes': 1,'No': 0})\n",
    "df_train['Loan_Status'] = df_train['Loan_Status'].map({'Y': 1,'N': 0})\n",
    "df_train['Loan_Amount_Term'] = df_train['Loan_Amount_Term'].map({360.0 : \"30 Years\",180.0:'15 Years',480.0:'40 Years',300.0:'25 Years',84.0:'7 Years',240.0:'20 Years',120.0:'10 Years',36.0:'3 Years',60.0:'5 Years',12.0:'1 Year'})"
   ]
  },
  {
   "cell_type": "code",
   "execution_count": 9,
   "metadata": {},
   "outputs": [],
   "source": [
    "df_train = df_train.replace({'Dependents':{'0':'dep_None','2':'dep_Two','1':'dep_One','3+':'dep_More_than_three'}})"
   ]
  },
  {
   "cell_type": "code",
   "execution_count": 10,
   "metadata": {},
   "outputs": [],
   "source": [
    "df_train['Education'] =df_train['Education'].map({'Graduate':1,'Not Graduate':0}) "
   ]
  },
  {
   "cell_type": "code",
   "execution_count": 11,
   "metadata": {},
   "outputs": [
    {
     "name": "stdout",
     "output_type": "stream",
     "text": [
      "<class 'pandas.core.frame.DataFrame'>\n",
      "RangeIndex: 614 entries, 0 to 613\n",
      "Data columns (total 13 columns):\n",
      "Loan_ID              614 non-null object\n",
      "Gender               614 non-null int64\n",
      "Married              614 non-null int64\n",
      "Dependents           614 non-null object\n",
      "Education            614 non-null int64\n",
      "Self_Employed        614 non-null int64\n",
      "ApplicantIncome      614 non-null int64\n",
      "CoapplicantIncome    614 non-null float64\n",
      "LoanAmount           614 non-null float64\n",
      "Loan_Amount_Term     614 non-null object\n",
      "Credit_History       614 non-null float64\n",
      "Property_Area        614 non-null object\n",
      "Loan_Status          614 non-null int64\n",
      "dtypes: float64(3), int64(6), object(4)\n",
      "memory usage: 62.4+ KB\n"
     ]
    }
   ],
   "source": [
    "df_train.info()"
   ]
  },
  {
   "cell_type": "code",
   "execution_count": 12,
   "metadata": {},
   "outputs": [],
   "source": [
    "## dummy variables(gender,dependents,education,Loan_Amount_Term,Property_Area)\n",
    "#gen = pd.get_dummies(df_train['Gender'],drop_first = True)\n",
    "dep = pd.get_dummies(df_train['Dependents'],drop_first = True)\n",
    "#ed = pd.get_dummies(df_train['Education'],drop_first = True)\n",
    "lat = pd.get_dummies(df_train['Loan_Amount_Term'],drop_first = True)\n",
    "pa = pd.get_dummies(df_train['Property_Area'],drop_first = True)\n",
    "\n",
    "df_train = pd.concat([df_train,dep,lat,pa],axis = 1)"
   ]
  },
  {
   "cell_type": "code",
   "execution_count": 13,
   "metadata": {},
   "outputs": [],
   "source": [
    "from sklearn.preprocessing import StandardScaler"
   ]
  },
  {
   "cell_type": "code",
   "execution_count": 14,
   "metadata": {},
   "outputs": [],
   "source": [
    "df_train = df_train.drop(['Dependents','Loan_Amount_Term','Property_Area','ApplicantIncome','CoapplicantIncome','LoanAmount'],axis = 1)\n"
   ]
  },
  {
   "cell_type": "code",
   "execution_count": 15,
   "metadata": {},
   "outputs": [
    {
     "name": "stdout",
     "output_type": "stream",
     "text": [
      "<class 'pandas.core.frame.DataFrame'>\n",
      "RangeIndex: 614 entries, 0 to 613\n",
      "Data columns (total 24 columns):\n",
      "Loan_ID              614 non-null object\n",
      "Gender               614 non-null int64\n",
      "Married              614 non-null int64\n",
      "Education            614 non-null int64\n",
      "Self_Employed        614 non-null int64\n",
      "Credit_History       614 non-null float64\n",
      "Loan_Status          614 non-null int64\n",
      "dep_None             614 non-null uint8\n",
      "dep_One              614 non-null uint8\n",
      "dep_Two              614 non-null uint8\n",
      "10 Years             614 non-null uint8\n",
      "15 Years             614 non-null uint8\n",
      "20 Years             614 non-null uint8\n",
      "25 Years             614 non-null uint8\n",
      "3 Years              614 non-null uint8\n",
      "30 Years             614 non-null uint8\n",
      "40 Years             614 non-null uint8\n",
      "5 Years              614 non-null uint8\n",
      "7 Years              614 non-null uint8\n",
      "Semiurban            614 non-null uint8\n",
      "Urban                614 non-null uint8\n",
      "ApplicantIncome      614 non-null float64\n",
      "CoapplicantIncome    614 non-null float64\n",
      "LoanAmount           614 non-null float64\n",
      "dtypes: float64(4), int64(5), object(1), uint8(14)\n",
      "memory usage: 56.4+ KB\n"
     ]
    }
   ],
   "source": [
    "df_train = pd.concat([df_train,normalized_df],axis = 1)\n",
    "df_train.info()"
   ]
  },
  {
   "cell_type": "code",
   "execution_count": 28,
   "metadata": {},
   "outputs": [],
   "source": [
    "from sklearn import tree\n",
    "from sklearn.tree import DecisionTreeClassifier\n",
    "from sklearn.model_selection import train_test_split\n",
    "from sklearn import metrics\n",
    "from sklearn.metrics import accuracy_score,f1_score,recall_score,precision_score"
   ]
  },
  {
   "cell_type": "code",
   "execution_count": 21,
   "metadata": {},
   "outputs": [],
   "source": [
    "X = df_train.drop(['Loan_ID','Loan_Status'],axis = 1)\n",
    "y = df_train['Loan_Status']"
   ]
  },
  {
   "cell_type": "code",
   "execution_count": 22,
   "metadata": {},
   "outputs": [],
   "source": [
    "X_train,X_test,y_train,y_test = train_test_split(X,y,test_size = 0.3,random_state = 5)"
   ]
  },
  {
   "cell_type": "code",
   "execution_count": 23,
   "metadata": {},
   "outputs": [],
   "source": [
    "#X_test and y_test are for validation:"
   ]
  },
  {
   "cell_type": "code",
   "execution_count": 18,
   "metadata": {},
   "outputs": [],
   "source": [
    "## gini and max depth:"
   ]
  },
  {
   "cell_type": "code",
   "execution_count": 45,
   "metadata": {},
   "outputs": [
    {
     "name": "stdout",
     "output_type": "stream",
     "text": [
      "max_depth: 1\n",
      "accuracy: 0.7948717948717948\n",
      "max_depth: 2\n",
      "accuracy: 0.8041958041958042\n",
      "max_depth: 3\n",
      "accuracy: 0.8088578088578089\n",
      "max_depth: 4\n",
      "accuracy: 0.8135198135198135\n"
     ]
    }
   ],
   "source": [
    "num = range(1,5,1)\n",
    "for i in num:\n",
    "    dec = tree.DecisionTreeClassifier(criterion = 'gini',max_depth = i)\n",
    "    dec.fit(X_train,y_train)\n",
    "    ypred = dec.predict(X_train)\n",
    "    score = accuracy_score(y_train,ypred)\n",
    "    \n",
    "    print('max_depth:',dec.tree_.max_depth)\n",
    "    print('accuracy:',score)"
   ]
  },
  {
   "cell_type": "code",
   "execution_count": 34,
   "metadata": {},
   "outputs": [],
   "source": [
    "#on training data:"
   ]
  },
  {
   "cell_type": "code",
   "execution_count": 43,
   "metadata": {},
   "outputs": [
    {
     "name": "stdout",
     "output_type": "stream",
     "text": [
      "    depth  accuracy    recall  precision  f1_score  false positive rate\n",
      "15   15.0  0.948718  0.968504   0.872340  2.905512             0.059603\n",
      "16   16.0  0.962704  0.984496   0.900709  2.953488             0.046667\n",
      "17   17.0  0.981352  1.000000   0.943262  3.000000             0.027027\n",
      "18   18.0  0.986014  0.965517   0.992908  2.896552             0.003521\n",
      "19   19.0  0.993007  1.000000   0.978723  3.000000             0.010309\n",
      "20   20.0  0.995338  0.986014   1.000000  2.958042             0.000000\n",
      "21   21.0  0.997669  0.992958   1.000000  2.978873             0.000000\n",
      "22   22.0  1.000000  1.000000   1.000000  3.000000             0.000000\n"
     ]
    }
   ],
   "source": [
    "cutoff_df = pd.DataFrame( columns = ['depth','accuracy','recall','precision','f1_score','false positive rate'])\n",
    "from sklearn.metrics import confusion_matrix\n",
    "num = range(15,23,1)\n",
    "for i in num:\n",
    "    dec = tree.DecisionTreeClassifier(criterion = 'gini',max_depth = i)\n",
    "    dec.fit(X_train,y_train)\n",
    "    ypred = dec.predict(X_train)\n",
    "    cm1 = metrics.confusion_matrix( y_train,ypred)\n",
    "    total1=sum(sum(cm1))\n",
    "    accuracy = (cm1[0,0]+cm1[1,1])/total1\n",
    "    rec = cm1[0,0]/(cm1[0,0]+cm1[1,0])\n",
    "    pre = cm1[0,0]/(cm1[0,0]+cm1[0,1])\n",
    "    fsc = (cm1[0,0]/(cm1[0,0]+cm1[0,1]))*(cm1[0,0]/(cm1[0,0]+cm1[1,0]))/(cm1[0,0]/(cm1[0,0]+cm1[0,1]))+(cm1[0,0]/(cm1[0,0]+cm1[1,0]))*2\n",
    "    fpr = cm1[0,1]/(cm1[0,1]+cm1[1,1])\n",
    "    cutoff_df.loc[i] =[ i ,accuracy,rec,pre,fsc,fpr]\n",
    "print(cutoff_df)"
   ]
  },
  {
   "cell_type": "code",
   "execution_count": 44,
   "metadata": {},
   "outputs": [
    {
     "data": {
      "text/plain": [
       "<matplotlib.axes._subplots.AxesSubplot at 0x1afac384208>"
      ]
     },
     "execution_count": 44,
     "metadata": {},
     "output_type": "execute_result"
    },
    {
     "data": {
      "text/plain": [
       "<Figure size 1080x504 with 0 Axes>"
      ]
     },
     "metadata": {},
     "output_type": "display_data"
    },
    {
     "data": {
      "image/png": "[encoded data removed]",
      "text/plain": [
       "<Figure size 432x288 with 1 Axes>"
      ]
     },
     "metadata": {
      "needs_background": "light"
     },
     "output_type": "display_data"
    }
   ],
   "source": [
    "# Let's plot accuracy recall precision f1 score and false positive rate for various depths.\n",
    "plt.figure(figsize = (15,7))\n",
    "cutoff_df.plot.line(x='depth', y=['accuracy','recall','precision','f1_score','false positive rate'])"
   ]
  },
  {
   "cell_type": "code",
   "execution_count": 46,
   "metadata": {},
   "outputs": [],
   "source": [
    "## entropy and parameters."
   ]
  },
  {
   "cell_type": "code",
   "execution_count": 67,
   "metadata": {},
   "outputs": [
    {
     "name": "stdout",
     "output_type": "stream",
     "text": [
      "    depth  accuracy    recall  precision  f1_score  false positive rate\n",
      "1     1.0  0.794872  0.907692   0.418440  2.723077             0.225275\n",
      "2     2.0  0.797203  0.921875   0.418440  2.765625             0.224658\n",
      "3     3.0  0.808858  0.927536   0.453901  2.782609             0.213889\n",
      "4     4.0  0.811189  0.941176   0.453901  2.823529             0.213296\n",
      "5     5.0  0.825175  0.945946   0.496454  2.837838             0.200000\n",
      "6     6.0  0.827506  0.958904   0.496454  2.876712             0.199438\n",
      "7     7.0  0.832168  0.972603   0.503546  2.917808             0.196629\n",
      "8     8.0  0.848485  0.913043   0.595745  2.739130             0.169139\n",
      "9     9.0  0.883450  0.882353   0.744681  2.647059             0.116129\n",
      "10   10.0  0.906760  0.917355   0.787234  2.752066             0.097403\n",
      "11   11.0  0.944056  0.953488   0.872340  2.860465             0.060000\n",
      "12   12.0  0.953380  0.954887   0.900709  2.864662             0.047297\n",
      "13   13.0  0.967366  0.992248   0.907801  2.976744             0.043333\n",
      "14   14.0  0.979021  1.000000   0.936170  3.000000             0.030303\n",
      "15   15.0  0.981352  1.000000   0.943262  3.000000             0.027027\n",
      "16   16.0  0.990676  0.979021   0.992908  2.937063             0.003497\n",
      "17   17.0  0.997669  0.992958   1.000000  2.978873             0.000000\n",
      "18   18.0  1.000000  1.000000   1.000000  3.000000             0.000000\n",
      "19   19.0  1.000000  1.000000   1.000000  3.000000             0.000000\n",
      "20   20.0  1.000000  1.000000   1.000000  3.000000             0.000000\n",
      "21   21.0  1.000000  1.000000   1.000000  3.000000             0.000000\n",
      "22   22.0  1.000000  1.000000   1.000000  3.000000             0.000000\n",
      "23   23.0  1.000000  1.000000   1.000000  3.000000             0.000000\n",
      "24   24.0  1.000000  1.000000   1.000000  3.000000             0.000000\n"
     ]
    }
   ],
   "source": [
    "cutoff_df = pd.DataFrame( columns = ['depth','accuracy','recall','precision','f1_score','false positive rate'])\n",
    "from sklearn.metrics import confusion_matrix\n",
    "num = range(1,25,1)\n",
    "for i in num:\n",
    "    dec = tree.DecisionTreeClassifier(criterion = 'entropy',max_depth = i)\n",
    "    dec.fit(X_train,y_train)\n",
    "    ypred = dec.predict(X_train)\n",
    "    cm1 = metrics.confusion_matrix( y_train,ypred)\n",
    "    total1=sum(sum(cm1))\n",
    "    accuracy = (cm1[0,0]+cm1[1,1])/total1\n",
    "    rec = cm1[0,0]/(cm1[0,0]+cm1[1,0])\n",
    "    pre = cm1[0,0]/(cm1[0,0]+cm1[0,1])\n",
    "    fsc = (cm1[0,0]/(cm1[0,0]+cm1[0,1]))*(cm1[0,0]/(cm1[0,0]+cm1[1,0]))/(cm1[0,0]/(cm1[0,0]+cm1[0,1]))+(cm1[0,0]/(cm1[0,0]+cm1[1,0]))*2\n",
    "    fpr = cm1[0,1]/(cm1[0,1]+cm1[1,1])\n",
    "    cutoff_df.loc[i] =[ i ,accuracy,rec,pre,fsc,fpr]\n",
    "print(cutoff_df)"
   ]
  },
  {
   "cell_type": "code",
   "execution_count": 69,
   "metadata": {},
   "outputs": [
    {
     "data": {
      "text/plain": [
       "<matplotlib.axes._subplots.AxesSubplot at 0x1afac671c50>"
      ]
     },
     "execution_count": 69,
     "metadata": {},
     "output_type": "execute_result"
    },
    {
     "data": {
      "text/plain": [
       "<Figure size 1080x504 with 0 Axes>"
      ]
     },
     "metadata": {},
     "output_type": "display_data"
    },
    {
     "data": {
      "image/png": "[encoded data removed]",
      "text/plain": [
       "<Figure size 432x288 with 1 Axes>"
      ]
     },
     "metadata": {
      "needs_background": "light"
     },
     "output_type": "display_data"
    }
   ],
   "source": [
    "# Let's plot accuracy recall precision f1 score and false positive rate for various depths.\n",
    "plt.figure(figsize = (15,7))\n",
    "cutoff_df.plot.line(x='depth', y=['accuracy','recall','precision','f1_score','false positive rate'])"
   ]
  },
  {
   "cell_type": "code",
   "execution_count": 73,
   "metadata": {},
   "outputs": [
    {
     "data": {
      "text/html": [
       "<div>\n",
       "<style scoped>\n",
       "    .dataframe tbody tr th:only-of-type {\n",
       "        vertical-align: middle;\n",
       "    }\n",
       "\n",
       "    .dataframe tbody tr th {\n",
       "        vertical-align: top;\n",
       "    }\n",
       "\n",
       "    .dataframe thead th {\n",
       "        text-align: right;\n",
       "    }\n",
       "</style>\n",
       "<table border=\"1\" class=\"dataframe\">\n",
       "  <thead>\n",
       "    <tr style=\"text-align: right;\">\n",
       "      <th></th>\n",
       "      <th>depth</th>\n",
       "      <th>accuracy</th>\n",
       "      <th>recall</th>\n",
       "      <th>precision</th>\n",
       "      <th>f1_score</th>\n",
       "      <th>false positive rate</th>\n",
       "    </tr>\n",
       "  </thead>\n",
       "  <tbody>\n",
       "    <tr>\n",
       "      <th>1</th>\n",
       "      <td>1.0</td>\n",
       "      <td>0.794872</td>\n",
       "      <td>0.907692</td>\n",
       "      <td>0.418440</td>\n",
       "      <td>2.723077</td>\n",
       "      <td>0.225275</td>\n",
       "    </tr>\n",
       "    <tr>\n",
       "      <th>2</th>\n",
       "      <td>2.0</td>\n",
       "      <td>0.797203</td>\n",
       "      <td>0.921875</td>\n",
       "      <td>0.418440</td>\n",
       "      <td>2.765625</td>\n",
       "      <td>0.224658</td>\n",
       "    </tr>\n",
       "    <tr>\n",
       "      <th>3</th>\n",
       "      <td>3.0</td>\n",
       "      <td>0.808858</td>\n",
       "      <td>0.927536</td>\n",
       "      <td>0.453901</td>\n",
       "      <td>2.782609</td>\n",
       "      <td>0.213889</td>\n",
       "    </tr>\n",
       "    <tr>\n",
       "      <th>4</th>\n",
       "      <td>4.0</td>\n",
       "      <td>0.811189</td>\n",
       "      <td>0.941176</td>\n",
       "      <td>0.453901</td>\n",
       "      <td>2.823529</td>\n",
       "      <td>0.213296</td>\n",
       "    </tr>\n",
       "    <tr>\n",
       "      <th>5</th>\n",
       "      <td>5.0</td>\n",
       "      <td>0.825175</td>\n",
       "      <td>0.945946</td>\n",
       "      <td>0.496454</td>\n",
       "      <td>2.837838</td>\n",
       "      <td>0.200000</td>\n",
       "    </tr>\n",
       "    <tr>\n",
       "      <th>6</th>\n",
       "      <td>6.0</td>\n",
       "      <td>0.827506</td>\n",
       "      <td>0.958904</td>\n",
       "      <td>0.496454</td>\n",
       "      <td>2.876712</td>\n",
       "      <td>0.199438</td>\n",
       "    </tr>\n",
       "    <tr>\n",
       "      <th>7</th>\n",
       "      <td>7.0</td>\n",
       "      <td>0.832168</td>\n",
       "      <td>0.972603</td>\n",
       "      <td>0.503546</td>\n",
       "      <td>2.917808</td>\n",
       "      <td>0.196629</td>\n",
       "    </tr>\n",
       "    <tr>\n",
       "      <th>8</th>\n",
       "      <td>8.0</td>\n",
       "      <td>0.848485</td>\n",
       "      <td>0.913043</td>\n",
       "      <td>0.595745</td>\n",
       "      <td>2.739130</td>\n",
       "      <td>0.169139</td>\n",
       "    </tr>\n",
       "    <tr>\n",
       "      <th>9</th>\n",
       "      <td>9.0</td>\n",
       "      <td>0.883450</td>\n",
       "      <td>0.882353</td>\n",
       "      <td>0.744681</td>\n",
       "      <td>2.647059</td>\n",
       "      <td>0.116129</td>\n",
       "    </tr>\n",
       "    <tr>\n",
       "      <th>10</th>\n",
       "      <td>10.0</td>\n",
       "      <td>0.906760</td>\n",
       "      <td>0.917355</td>\n",
       "      <td>0.787234</td>\n",
       "      <td>2.752066</td>\n",
       "      <td>0.097403</td>\n",
       "    </tr>\n",
       "    <tr>\n",
       "      <th>11</th>\n",
       "      <td>11.0</td>\n",
       "      <td>0.944056</td>\n",
       "      <td>0.953488</td>\n",
       "      <td>0.872340</td>\n",
       "      <td>2.860465</td>\n",
       "      <td>0.060000</td>\n",
       "    </tr>\n",
       "    <tr>\n",
       "      <th>12</th>\n",
       "      <td>12.0</td>\n",
       "      <td>0.953380</td>\n",
       "      <td>0.954887</td>\n",
       "      <td>0.900709</td>\n",
       "      <td>2.864662</td>\n",
       "      <td>0.047297</td>\n",
       "    </tr>\n",
       "    <tr>\n",
       "      <th>13</th>\n",
       "      <td>13.0</td>\n",
       "      <td>0.967366</td>\n",
       "      <td>0.992248</td>\n",
       "      <td>0.907801</td>\n",
       "      <td>2.976744</td>\n",
       "      <td>0.043333</td>\n",
       "    </tr>\n",
       "    <tr>\n",
       "      <th>14</th>\n",
       "      <td>14.0</td>\n",
       "      <td>0.979021</td>\n",
       "      <td>1.000000</td>\n",
       "      <td>0.936170</td>\n",
       "      <td>3.000000</td>\n",
       "      <td>0.030303</td>\n",
       "    </tr>\n",
       "    <tr>\n",
       "      <th>15</th>\n",
       "      <td>15.0</td>\n",
       "      <td>0.981352</td>\n",
       "      <td>1.000000</td>\n",
       "      <td>0.943262</td>\n",
       "      <td>3.000000</td>\n",
       "      <td>0.027027</td>\n",
       "    </tr>\n",
       "    <tr>\n",
       "      <th>16</th>\n",
       "      <td>16.0</td>\n",
       "      <td>0.990676</td>\n",
       "      <td>0.979021</td>\n",
       "      <td>0.992908</td>\n",
       "      <td>2.937063</td>\n",
       "      <td>0.003497</td>\n",
       "    </tr>\n",
       "    <tr>\n",
       "      <th>17</th>\n",
       "      <td>17.0</td>\n",
       "      <td>0.997669</td>\n",
       "      <td>0.992958</td>\n",
       "      <td>1.000000</td>\n",
       "      <td>2.978873</td>\n",
       "      <td>0.000000</td>\n",
       "    </tr>\n",
       "    <tr>\n",
       "      <th>18</th>\n",
       "      <td>18.0</td>\n",
       "      <td>1.000000</td>\n",
       "      <td>1.000000</td>\n",
       "      <td>1.000000</td>\n",
       "      <td>3.000000</td>\n",
       "      <td>0.000000</td>\n",
       "    </tr>\n",
       "    <tr>\n",
       "      <th>19</th>\n",
       "      <td>19.0</td>\n",
       "      <td>1.000000</td>\n",
       "      <td>1.000000</td>\n",
       "      <td>1.000000</td>\n",
       "      <td>3.000000</td>\n",
       "      <td>0.000000</td>\n",
       "    </tr>\n",
       "    <tr>\n",
       "      <th>20</th>\n",
       "      <td>20.0</td>\n",
       "      <td>1.000000</td>\n",
       "      <td>1.000000</td>\n",
       "      <td>1.000000</td>\n",
       "      <td>3.000000</td>\n",
       "      <td>0.000000</td>\n",
       "    </tr>\n",
       "    <tr>\n",
       "      <th>21</th>\n",
       "      <td>21.0</td>\n",
       "      <td>1.000000</td>\n",
       "      <td>1.000000</td>\n",
       "      <td>1.000000</td>\n",
       "      <td>3.000000</td>\n",
       "      <td>0.000000</td>\n",
       "    </tr>\n",
       "    <tr>\n",
       "      <th>22</th>\n",
       "      <td>22.0</td>\n",
       "      <td>1.000000</td>\n",
       "      <td>1.000000</td>\n",
       "      <td>1.000000</td>\n",
       "      <td>3.000000</td>\n",
       "      <td>0.000000</td>\n",
       "    </tr>\n",
       "    <tr>\n",
       "      <th>23</th>\n",
       "      <td>23.0</td>\n",
       "      <td>1.000000</td>\n",
       "      <td>1.000000</td>\n",
       "      <td>1.000000</td>\n",
       "      <td>3.000000</td>\n",
       "      <td>0.000000</td>\n",
       "    </tr>\n",
       "    <tr>\n",
       "      <th>24</th>\n",
       "      <td>24.0</td>\n",
       "      <td>1.000000</td>\n",
       "      <td>1.000000</td>\n",
       "      <td>1.000000</td>\n",
       "      <td>3.000000</td>\n",
       "      <td>0.000000</td>\n",
       "    </tr>\n",
       "  </tbody>\n",
       "</table>\n",
       "</div>"
      ],
      "text/plain": [
       "    depth  accuracy    recall  precision  f1_score  false positive rate\n",
       "1     1.0  0.794872  0.907692   0.418440  2.723077             0.225275\n",
       "2     2.0  0.797203  0.921875   0.418440  2.765625             0.224658\n",
       "3     3.0  0.808858  0.927536   0.453901  2.782609             0.213889\n",
       "4     4.0  0.811189  0.941176   0.453901  2.823529             0.213296\n",
       "5     5.0  0.825175  0.945946   0.496454  2.837838             0.200000\n",
       "6     6.0  0.827506  0.958904   0.496454  2.876712             0.199438\n",
       "7     7.0  0.832168  0.972603   0.503546  2.917808             0.196629\n",
       "8     8.0  0.848485  0.913043   0.595745  2.739130             0.169139\n",
       "9     9.0  0.883450  0.882353   0.744681  2.647059             0.116129\n",
       "10   10.0  0.906760  0.917355   0.787234  2.752066             0.097403\n",
       "11   11.0  0.944056  0.953488   0.872340  2.860465             0.060000\n",
       "12   12.0  0.953380  0.954887   0.900709  2.864662             0.047297\n",
       "13   13.0  0.967366  0.992248   0.907801  2.976744             0.043333\n",
       "14   14.0  0.979021  1.000000   0.936170  3.000000             0.030303\n",
       "15   15.0  0.981352  1.000000   0.943262  3.000000             0.027027\n",
       "16   16.0  0.990676  0.979021   0.992908  2.937063             0.003497\n",
       "17   17.0  0.997669  0.992958   1.000000  2.978873             0.000000\n",
       "18   18.0  1.000000  1.000000   1.000000  3.000000             0.000000\n",
       "19   19.0  1.000000  1.000000   1.000000  3.000000             0.000000\n",
       "20   20.0  1.000000  1.000000   1.000000  3.000000             0.000000\n",
       "21   21.0  1.000000  1.000000   1.000000  3.000000             0.000000\n",
       "22   22.0  1.000000  1.000000   1.000000  3.000000             0.000000\n",
       "23   23.0  1.000000  1.000000   1.000000  3.000000             0.000000\n",
       "24   24.0  1.000000  1.000000   1.000000  3.000000             0.000000"
      ]
     },
     "execution_count": 73,
     "metadata": {},
     "output_type": "execute_result"
    }
   ],
   "source": [
    "cutoff_df"
   ]
  },
  {
   "cell_type": "code",
   "execution_count": 55,
   "metadata": {},
   "outputs": [],
   "source": [
    "## now computing validation segment:"
   ]
  },
  {
   "cell_type": "code",
   "execution_count": 60,
   "metadata": {},
   "outputs": [
    {
     "name": "stdout",
     "output_type": "stream",
     "text": [
      "    depth  accuracy    recall  precision  f1_score  false positive rate\n",
      "1     1.0  0.821622  0.781250   0.490196  2.343750             0.169935\n",
      "2     2.0  0.821622  0.781250   0.490196  2.343750             0.169935\n",
      "3     3.0  0.821622  0.781250   0.490196  2.343750             0.169935\n",
      "4     4.0  0.821622  0.781250   0.490196  2.343750             0.169935\n",
      "5     5.0  0.810811  0.735294   0.490196  2.205882             0.172185\n",
      "6     6.0  0.810811  0.735294   0.490196  2.205882             0.172185\n",
      "7     7.0  0.805405  0.727273   0.470588  2.181818             0.177632\n",
      "8     8.0  0.794595  0.666667   0.509804  2.000000             0.171233\n",
      "9     9.0  0.762162  0.577778   0.509804  1.733333             0.178571\n",
      "10   10.0  0.751351  0.558140   0.470588  1.674419             0.190141\n",
      "11   11.0  0.735135  0.519231   0.529412  1.557692             0.180451\n",
      "12   12.0  0.729730  0.509091   0.549020  1.527273             0.176923\n",
      "13   13.0  0.745946  0.535714   0.588235  1.607143             0.162791\n",
      "14   14.0  0.729730  0.509091   0.549020  1.527273             0.176923\n",
      "15   15.0  0.740541  0.526316   0.588235  1.578947             0.164062\n",
      "16   16.0  0.697297  0.457627   0.529412  1.372881             0.190476\n",
      "17   17.0  0.713514  0.481481   0.509804  1.444444             0.190840\n",
      "18   18.0  0.745946  0.535714   0.588235  1.607143             0.162791\n",
      "19   19.0  0.745946  0.534483   0.607843  1.603448             0.157480\n",
      "20   20.0  0.735135  0.517241   0.588235  1.551724             0.165354\n",
      "21   21.0  0.713514  0.482759   0.549020  1.448276             0.181102\n",
      "22   22.0  0.745946  0.533333   0.627451  1.600000             0.152000\n",
      "23   23.0  0.724324  0.500000   0.529412  1.500000             0.183206\n",
      "24   24.0  0.718919  0.490909   0.529412  1.472727             0.184615\n"
     ]
    }
   ],
   "source": [
    "cutoff_df1 = pd.DataFrame( columns = ['depth','accuracy','recall','precision','f1_score','false positive rate'])\n",
    "from sklearn.metrics import confusion_matrix\n",
    "num = range(1,25,1)\n",
    "for i in num:\n",
    "    dec = tree.DecisionTreeClassifier(criterion = 'entropy',max_depth = i)\n",
    "    dec.fit(X_train,y_train)\n",
    "    ypred1 = dec.predict(X_test)\n",
    "    cm1 = metrics.confusion_matrix( y_test,ypred1)\n",
    "    total1=sum(sum(cm1))\n",
    "    accuracy = (cm1[0,0]+cm1[1,1])/total1\n",
    "    rec = cm1[0,0]/(cm1[0,0]+cm1[1,0])\n",
    "    pre = cm1[0,0]/(cm1[0,0]+cm1[0,1])\n",
    "    fsc = (cm1[0,0]/(cm1[0,0]+cm1[0,1]))*(cm1[0,0]/(cm1[0,0]+cm1[1,0]))/(cm1[0,0]/(cm1[0,0]+cm1[0,1]))+(cm1[0,0]/(cm1[0,0]+cm1[1,0]))*2\n",
    "    fpr = cm1[0,1]/(cm1[0,1]+cm1[1,1])\n",
    "    cutoff_df1.loc[i] =[ i ,accuracy,rec,pre,fsc,fpr]\n",
    "print(cutoff_df1)"
   ]
  },
  {
   "cell_type": "code",
   "execution_count": 61,
   "metadata": {},
   "outputs": [
    {
     "data": {
      "text/plain": [
       "<matplotlib.axes._subplots.AxesSubplot at 0x1afac694e10>"
      ]
     },
     "execution_count": 61,
     "metadata": {},
     "output_type": "execute_result"
    },
    {
     "data": {
      "image/png": "[encoded data removed]",
      "text/plain": [
       "<Figure size 432x288 with 1 Axes>"
      ]
     },
     "metadata": {
      "needs_background": "light"
     },
     "output_type": "display_data"
    }
   ],
   "source": [
    "cutoff_df1.plot.line(x='depth', y=['accuracy','recall','precision','f1_score','false positive rate'])"
   ]
  },
  {
   "cell_type": "code",
   "execution_count": 72,
   "metadata": {},
   "outputs": [
    {
     "data": {
      "text/html": [
       "<div>\n",
       "<style scoped>\n",
       "    .dataframe tbody tr th:only-of-type {\n",
       "        vertical-align: middle;\n",
       "    }\n",
       "\n",
       "    .dataframe tbody tr th {\n",
       "        vertical-align: top;\n",
       "    }\n",
       "\n",
       "    .dataframe thead th {\n",
       "        text-align: right;\n",
       "    }\n",
       "</style>\n",
       "<table border=\"1\" class=\"dataframe\">\n",
       "  <thead>\n",
       "    <tr style=\"text-align: right;\">\n",
       "      <th></th>\n",
       "      <th>depth</th>\n",
       "      <th>accuracy</th>\n",
       "      <th>recall</th>\n",
       "      <th>precision</th>\n",
       "      <th>f1_score</th>\n",
       "      <th>false positive rate</th>\n",
       "    </tr>\n",
       "  </thead>\n",
       "  <tbody>\n",
       "    <tr>\n",
       "      <th>1</th>\n",
       "      <td>1.0</td>\n",
       "      <td>0.821622</td>\n",
       "      <td>0.781250</td>\n",
       "      <td>0.490196</td>\n",
       "      <td>2.343750</td>\n",
       "      <td>0.169935</td>\n",
       "    </tr>\n",
       "    <tr>\n",
       "      <th>2</th>\n",
       "      <td>2.0</td>\n",
       "      <td>0.821622</td>\n",
       "      <td>0.781250</td>\n",
       "      <td>0.490196</td>\n",
       "      <td>2.343750</td>\n",
       "      <td>0.169935</td>\n",
       "    </tr>\n",
       "    <tr>\n",
       "      <th>3</th>\n",
       "      <td>3.0</td>\n",
       "      <td>0.821622</td>\n",
       "      <td>0.781250</td>\n",
       "      <td>0.490196</td>\n",
       "      <td>2.343750</td>\n",
       "      <td>0.169935</td>\n",
       "    </tr>\n",
       "    <tr>\n",
       "      <th>4</th>\n",
       "      <td>4.0</td>\n",
       "      <td>0.821622</td>\n",
       "      <td>0.781250</td>\n",
       "      <td>0.490196</td>\n",
       "      <td>2.343750</td>\n",
       "      <td>0.169935</td>\n",
       "    </tr>\n",
       "    <tr>\n",
       "      <th>5</th>\n",
       "      <td>5.0</td>\n",
       "      <td>0.810811</td>\n",
       "      <td>0.735294</td>\n",
       "      <td>0.490196</td>\n",
       "      <td>2.205882</td>\n",
       "      <td>0.172185</td>\n",
       "    </tr>\n",
       "    <tr>\n",
       "      <th>6</th>\n",
       "      <td>6.0</td>\n",
       "      <td>0.810811</td>\n",
       "      <td>0.735294</td>\n",
       "      <td>0.490196</td>\n",
       "      <td>2.205882</td>\n",
       "      <td>0.172185</td>\n",
       "    </tr>\n",
       "    <tr>\n",
       "      <th>7</th>\n",
       "      <td>7.0</td>\n",
       "      <td>0.805405</td>\n",
       "      <td>0.727273</td>\n",
       "      <td>0.470588</td>\n",
       "      <td>2.181818</td>\n",
       "      <td>0.177632</td>\n",
       "    </tr>\n",
       "    <tr>\n",
       "      <th>8</th>\n",
       "      <td>8.0</td>\n",
       "      <td>0.794595</td>\n",
       "      <td>0.666667</td>\n",
       "      <td>0.509804</td>\n",
       "      <td>2.000000</td>\n",
       "      <td>0.171233</td>\n",
       "    </tr>\n",
       "    <tr>\n",
       "      <th>9</th>\n",
       "      <td>9.0</td>\n",
       "      <td>0.762162</td>\n",
       "      <td>0.577778</td>\n",
       "      <td>0.509804</td>\n",
       "      <td>1.733333</td>\n",
       "      <td>0.178571</td>\n",
       "    </tr>\n",
       "    <tr>\n",
       "      <th>10</th>\n",
       "      <td>10.0</td>\n",
       "      <td>0.751351</td>\n",
       "      <td>0.558140</td>\n",
       "      <td>0.470588</td>\n",
       "      <td>1.674419</td>\n",
       "      <td>0.190141</td>\n",
       "    </tr>\n",
       "    <tr>\n",
       "      <th>11</th>\n",
       "      <td>11.0</td>\n",
       "      <td>0.735135</td>\n",
       "      <td>0.519231</td>\n",
       "      <td>0.529412</td>\n",
       "      <td>1.557692</td>\n",
       "      <td>0.180451</td>\n",
       "    </tr>\n",
       "    <tr>\n",
       "      <th>12</th>\n",
       "      <td>12.0</td>\n",
       "      <td>0.729730</td>\n",
       "      <td>0.509091</td>\n",
       "      <td>0.549020</td>\n",
       "      <td>1.527273</td>\n",
       "      <td>0.176923</td>\n",
       "    </tr>\n",
       "    <tr>\n",
       "      <th>13</th>\n",
       "      <td>13.0</td>\n",
       "      <td>0.745946</td>\n",
       "      <td>0.535714</td>\n",
       "      <td>0.588235</td>\n",
       "      <td>1.607143</td>\n",
       "      <td>0.162791</td>\n",
       "    </tr>\n",
       "    <tr>\n",
       "      <th>14</th>\n",
       "      <td>14.0</td>\n",
       "      <td>0.729730</td>\n",
       "      <td>0.509091</td>\n",
       "      <td>0.549020</td>\n",
       "      <td>1.527273</td>\n",
       "      <td>0.176923</td>\n",
       "    </tr>\n",
       "    <tr>\n",
       "      <th>15</th>\n",
       "      <td>15.0</td>\n",
       "      <td>0.740541</td>\n",
       "      <td>0.526316</td>\n",
       "      <td>0.588235</td>\n",
       "      <td>1.578947</td>\n",
       "      <td>0.164062</td>\n",
       "    </tr>\n",
       "    <tr>\n",
       "      <th>16</th>\n",
       "      <td>16.0</td>\n",
       "      <td>0.697297</td>\n",
       "      <td>0.457627</td>\n",
       "      <td>0.529412</td>\n",
       "      <td>1.372881</td>\n",
       "      <td>0.190476</td>\n",
       "    </tr>\n",
       "    <tr>\n",
       "      <th>17</th>\n",
       "      <td>17.0</td>\n",
       "      <td>0.713514</td>\n",
       "      <td>0.481481</td>\n",
       "      <td>0.509804</td>\n",
       "      <td>1.444444</td>\n",
       "      <td>0.190840</td>\n",
       "    </tr>\n",
       "    <tr>\n",
       "      <th>18</th>\n",
       "      <td>18.0</td>\n",
       "      <td>0.745946</td>\n",
       "      <td>0.535714</td>\n",
       "      <td>0.588235</td>\n",
       "      <td>1.607143</td>\n",
       "      <td>0.162791</td>\n",
       "    </tr>\n",
       "    <tr>\n",
       "      <th>19</th>\n",
       "      <td>19.0</td>\n",
       "      <td>0.745946</td>\n",
       "      <td>0.534483</td>\n",
       "      <td>0.607843</td>\n",
       "      <td>1.603448</td>\n",
       "      <td>0.157480</td>\n",
       "    </tr>\n",
       "    <tr>\n",
       "      <th>20</th>\n",
       "      <td>20.0</td>\n",
       "      <td>0.735135</td>\n",
       "      <td>0.517241</td>\n",
       "      <td>0.588235</td>\n",
       "      <td>1.551724</td>\n",
       "      <td>0.165354</td>\n",
       "    </tr>\n",
       "    <tr>\n",
       "      <th>21</th>\n",
       "      <td>21.0</td>\n",
       "      <td>0.713514</td>\n",
       "      <td>0.482759</td>\n",
       "      <td>0.549020</td>\n",
       "      <td>1.448276</td>\n",
       "      <td>0.181102</td>\n",
       "    </tr>\n",
       "    <tr>\n",
       "      <th>22</th>\n",
       "      <td>22.0</td>\n",
       "      <td>0.745946</td>\n",
       "      <td>0.533333</td>\n",
       "      <td>0.627451</td>\n",
       "      <td>1.600000</td>\n",
       "      <td>0.152000</td>\n",
       "    </tr>\n",
       "    <tr>\n",
       "      <th>23</th>\n",
       "      <td>23.0</td>\n",
       "      <td>0.724324</td>\n",
       "      <td>0.500000</td>\n",
       "      <td>0.529412</td>\n",
       "      <td>1.500000</td>\n",
       "      <td>0.183206</td>\n",
       "    </tr>\n",
       "    <tr>\n",
       "      <th>24</th>\n",
       "      <td>24.0</td>\n",
       "      <td>0.718919</td>\n",
       "      <td>0.490909</td>\n",
       "      <td>0.529412</td>\n",
       "      <td>1.472727</td>\n",
       "      <td>0.184615</td>\n",
       "    </tr>\n",
       "  </tbody>\n",
       "</table>\n",
       "</div>"
      ],
      "text/plain": [
       "    depth  accuracy    recall  precision  f1_score  false positive rate\n",
       "1     1.0  0.821622  0.781250   0.490196  2.343750             0.169935\n",
       "2     2.0  0.821622  0.781250   0.490196  2.343750             0.169935\n",
       "3     3.0  0.821622  0.781250   0.490196  2.343750             0.169935\n",
       "4     4.0  0.821622  0.781250   0.490196  2.343750             0.169935\n",
       "5     5.0  0.810811  0.735294   0.490196  2.205882             0.172185\n",
       "6     6.0  0.810811  0.735294   0.490196  2.205882             0.172185\n",
       "7     7.0  0.805405  0.727273   0.470588  2.181818             0.177632\n",
       "8     8.0  0.794595  0.666667   0.509804  2.000000             0.171233\n",
       "9     9.0  0.762162  0.577778   0.509804  1.733333             0.178571\n",
       "10   10.0  0.751351  0.558140   0.470588  1.674419             0.190141\n",
       "11   11.0  0.735135  0.519231   0.529412  1.557692             0.180451\n",
       "12   12.0  0.729730  0.509091   0.549020  1.527273             0.176923\n",
       "13   13.0  0.745946  0.535714   0.588235  1.607143             0.162791\n",
       "14   14.0  0.729730  0.509091   0.549020  1.527273             0.176923\n",
       "15   15.0  0.740541  0.526316   0.588235  1.578947             0.164062\n",
       "16   16.0  0.697297  0.457627   0.529412  1.372881             0.190476\n",
       "17   17.0  0.713514  0.481481   0.509804  1.444444             0.190840\n",
       "18   18.0  0.745946  0.535714   0.588235  1.607143             0.162791\n",
       "19   19.0  0.745946  0.534483   0.607843  1.603448             0.157480\n",
       "20   20.0  0.735135  0.517241   0.588235  1.551724             0.165354\n",
       "21   21.0  0.713514  0.482759   0.549020  1.448276             0.181102\n",
       "22   22.0  0.745946  0.533333   0.627451  1.600000             0.152000\n",
       "23   23.0  0.724324  0.500000   0.529412  1.500000             0.183206\n",
       "24   24.0  0.718919  0.490909   0.529412  1.472727             0.184615"
      ]
     },
     "execution_count": 72,
     "metadata": {},
     "output_type": "execute_result"
    }
   ],
   "source": [
    "cutoff_df1"
   ]
  },
  {
   "cell_type": "code",
   "execution_count": 92,
   "metadata": {},
   "outputs": [
    {
     "data": {
      "text/html": [
       "<div>\n",
       "<style scoped>\n",
       "    .dataframe tbody tr th:only-of-type {\n",
       "        vertical-align: middle;\n",
       "    }\n",
       "\n",
       "    .dataframe tbody tr th {\n",
       "        vertical-align: top;\n",
       "    }\n",
       "\n",
       "    .dataframe thead th {\n",
       "        text-align: right;\n",
       "    }\n",
       "</style>\n",
       "<table border=\"1\" class=\"dataframe\">\n",
       "  <thead>\n",
       "    <tr style=\"text-align: right;\">\n",
       "      <th></th>\n",
       "      <th>acc_train</th>\n",
       "      <th>acc_validate</th>\n",
       "      <th>index</th>\n",
       "    </tr>\n",
       "  </thead>\n",
       "  <tbody>\n",
       "    <tr>\n",
       "      <th>1</th>\n",
       "      <td>0.794872</td>\n",
       "      <td>0.821622</td>\n",
       "      <td>2.0</td>\n",
       "    </tr>\n",
       "    <tr>\n",
       "      <th>2</th>\n",
       "      <td>0.797203</td>\n",
       "      <td>0.821622</td>\n",
       "      <td>3.0</td>\n",
       "    </tr>\n",
       "    <tr>\n",
       "      <th>3</th>\n",
       "      <td>0.808858</td>\n",
       "      <td>0.821622</td>\n",
       "      <td>4.0</td>\n",
       "    </tr>\n",
       "    <tr>\n",
       "      <th>4</th>\n",
       "      <td>0.811189</td>\n",
       "      <td>0.821622</td>\n",
       "      <td>5.0</td>\n",
       "    </tr>\n",
       "    <tr>\n",
       "      <th>5</th>\n",
       "      <td>0.825175</td>\n",
       "      <td>0.810811</td>\n",
       "      <td>6.0</td>\n",
       "    </tr>\n",
       "  </tbody>\n",
       "</table>\n",
       "</div>"
      ],
      "text/plain": [
       "   acc_train  acc_validate  index\n",
       "1   0.794872      0.821622    2.0\n",
       "2   0.797203      0.821622    3.0\n",
       "3   0.808858      0.821622    4.0\n",
       "4   0.811189      0.821622    5.0\n",
       "5   0.825175      0.810811    6.0"
      ]
     },
     "execution_count": 92,
     "metadata": {},
     "output_type": "execute_result"
    }
   ],
   "source": [
    "xax = range(1,25,1)\n",
    "f1 = pd.concat([cutoff_df.accuracy,cutoff_df1.accuracy],1)\n",
    "f1.columns = ['acc_train','acc_validate']\n",
    "df1 = pd.DataFrame({'index': xax})\n",
    "f1 = pd.concat([f1,df1],1)\n",
    "f1 = f1.dropna()\n",
    "f1.head()"
   ]
  },
  {
   "cell_type": "code",
   "execution_count": 93,
   "metadata": {},
   "outputs": [
    {
     "data": {
      "text/plain": [
       "<matplotlib.axes._subplots.AxesSubplot at 0x1afacabb4a8>"
      ]
     },
     "execution_count": 93,
     "metadata": {},
     "output_type": "execute_result"
    },
    {
     "data": {
      "image/png": "[encoded data removed]",
      "text/plain": [
       "<Figure size 432x288 with 1 Axes>"
      ]
     },
     "metadata": {
      "needs_background": "light"
     },
     "output_type": "display_data"
    }
   ],
   "source": [
    "f1.plot.line(x ='index',y = ['acc_train','acc_validate'])"
   ]
  },
  {
   "cell_type": "code",
   "execution_count": 94,
   "metadata": {},
   "outputs": [],
   "source": [
    "## finally decided that the criterion is entropy and cutoff is 5:"
   ]
  },
  {
   "cell_type": "code",
   "execution_count": 163,
   "metadata": {},
   "outputs": [],
   "source": [
    "from sklearn.model_selection import KFold, cross_val_score\n",
    "kf = KFold(n_splits=5, shuffle=True, random_state=27)"
   ]
  },
  {
   "cell_type": "code",
   "execution_count": 174,
   "metadata": {},
   "outputs": [],
   "source": [
    "# Do k-fold cross-validation\n",
    "dec = tree.DecisionTreeClassifier(criterion = 'entropy',max_depth = 2)\n",
    "cv_results = cross_val_score(dec,X_train, # Feature matrix\n",
    "                             y_train, # Target vector\n",
    "                             cv=kf, # Cross-validation technique\n",
    "                             scoring=\"accuracy\", # Loss function\n",
    "                             n_jobs=-1) # Use all CPU scores"
   ]
  },
  {
   "cell_type": "code",
   "execution_count": 175,
   "metadata": {},
   "outputs": [
    {
     "data": {
      "text/plain": [
       "0.7902051983584131"
      ]
     },
     "execution_count": 175,
     "metadata": {},
     "output_type": "execute_result"
    }
   ],
   "source": [
    "# Calculate mean\n",
    "cv_results.mean()"
   ]
  },
  {
   "cell_type": "code",
   "execution_count": 176,
   "metadata": {},
   "outputs": [],
   "source": [
    "### now predicting the value:"
   ]
  },
  {
   "cell_type": "code",
   "execution_count": 177,
   "metadata": {},
   "outputs": [],
   "source": [
    "#X = df_train.drop(['Loan_ID','Loan_Status'],axis = 1)\n",
    "#y = df_train['Loan_Status']"
   ]
  },
  {
   "cell_type": "code",
   "execution_count": 178,
   "metadata": {},
   "outputs": [
    {
     "name": "stdout",
     "output_type": "stream",
     "text": [
      "<class 'pandas.core.frame.DataFrame'>\n",
      "RangeIndex: 367 entries, 0 to 366\n",
      "Data columns (total 12 columns):\n",
      "Loan_ID              367 non-null object\n",
      "Gender               356 non-null object\n",
      "Married              367 non-null object\n",
      "Dependents           357 non-null object\n",
      "Education            367 non-null object\n",
      "Self_Employed        344 non-null object\n",
      "ApplicantIncome      367 non-null int64\n",
      "CoapplicantIncome    367 non-null int64\n",
      "LoanAmount           362 non-null float64\n",
      "Loan_Amount_Term     361 non-null float64\n",
      "Credit_History       338 non-null float64\n",
      "Property_Area        367 non-null object\n",
      "dtypes: float64(3), int64(2), object(7)\n",
      "memory usage: 34.5+ KB\n"
     ]
    }
   ],
   "source": [
    "df_test = pd.read_csv('test.csv')\n",
    "df_test.info()"
   ]
  },
  {
   "cell_type": "code",
   "execution_count": 179,
   "metadata": {},
   "outputs": [
    {
     "data": {
      "text/plain": [
       "Loan_ID               0\n",
       "Gender               11\n",
       "Married               0\n",
       "Dependents           10\n",
       "Education             0\n",
       "Self_Employed        23\n",
       "ApplicantIncome       0\n",
       "CoapplicantIncome     0\n",
       "LoanAmount            5\n",
       "Loan_Amount_Term      6\n",
       "Credit_History       29\n",
       "Property_Area         0\n",
       "dtype: int64"
      ]
     },
     "execution_count": 179,
     "metadata": {},
     "output_type": "execute_result"
    }
   ],
   "source": [
    "df_test.isnull().sum()"
   ]
  },
  {
   "cell_type": "code",
   "execution_count": 180,
   "metadata": {},
   "outputs": [],
   "source": [
    "\n",
    "df_test['Credit_History'] = df_test['Credit_History'].fillna(method = 'bfill')\n",
    "df_test['Gender'] = df_test['Gender'].fillna(method = 'bfill')\n",
    "df_test['Self_Employed'] = df_test['Self_Employed'].fillna(method = 'bfill')\n",
    "df_test['LoanAmount'] = df_test['LoanAmount'].fillna(df_test['LoanAmount'].mean())\n",
    "df_test['Dependents'] = df_test['Dependents'].fillna(method = 'bfill')\n",
    "df_test['Loan_Amount_Term'] = df_test['Loan_Amount_Term'].fillna(method = 'bfill')\n",
    "#df_train['Gender'] = df_train['Gender'].fillna(method = 'ffill')\n",
    "#df_train['Married'] = df_train['Married'].fillna(method = 'bfill')\n"
   ]
  },
  {
   "cell_type": "code",
   "execution_count": 181,
   "metadata": {},
   "outputs": [],
   "source": [
    "## continous variables:\n",
    "features1 = ['ApplicantIncome','CoapplicantIncome','LoanAmount']\n",
    "normalized_df1 = df_test[features1]\n",
    "normalized_df1 = normalized_df1 - normalized_df1.mean()/normalized_df1.std()"
   ]
  },
  {
   "cell_type": "code",
   "execution_count": 182,
   "metadata": {},
   "outputs": [],
   "source": [
    "df_test['Education'] =df_test['Education'].map({'Graduate':1,'Not Graduate':0}) \n",
    "df_test['Gender'] = df_test['Gender'].map({'Male': 1,'Female': 0})\n",
    "df_test['Married'] = df_test['Married'].map({'Yes': 1,'No': 0})\n",
    "df_test['Self_Employed'] = df_test['Self_Employed'].map({'Yes': 1,'No': 0})\n",
    "df_test['Loan_Amount_Term'] = df_test['Loan_Amount_Term'].map({360.0 : \"30 Years\",180.0:'15 Years',480.0:'40 Years',300.0:'25 Years',84.0:'7 Years',240.0:'20 Years',120.0:'10 Years',36.0:'3 Years',350.0:'29 Years',12.0:'1 Year',6.0:'half Year'})"
   ]
  },
  {
   "cell_type": "code",
   "execution_count": 183,
   "metadata": {},
   "outputs": [],
   "source": [
    "df_test = df_test.replace({'Dependents':{'0':'dep_None','2':'dep_Two','1':'dep_One','3+':'dep_More_than_three'}})"
   ]
  },
  {
   "cell_type": "code",
   "execution_count": 184,
   "metadata": {},
   "outputs": [],
   "source": [
    "## dummy variables(gender,dependents,education,Loan_Amount_Term,Property_Area)\n",
    "#gen1 = pd.get_dummies(df_test['Gender'],drop_first = True)\n",
    "dep1 = pd.get_dummies(df_test['Dependents'],drop_first = True)\n",
    "#ed1 = pd.get_dummies(df_test['Education'],drop_first = True)\n",
    "#lat1 = pd.get_dummies(df_test['Loan_Amount_Term'],drop_first = True)\n",
    "pa1 = pd.get_dummies(df_test['Property_Area'],drop_first = True)\n",
    "lat1 = pd.get_dummies(df_test['Loan_Amount_Term'],drop_first = True)\n",
    "\n",
    "df_test = pd.concat([df_test,pa1,lat1,dep1],axis = 1)"
   ]
  },
  {
   "cell_type": "code",
   "execution_count": 185,
   "metadata": {},
   "outputs": [],
   "source": [
    "df_test1 = df_test.drop(['Loan_ID','Dependents','Loan_Amount_Term','Property_Area','ApplicantIncome','CoapplicantIncome','LoanAmount'],axis = 1)\n",
    "df_test1 = pd.concat([df_test1,normalized_df1],axis = 1)"
   ]
  },
  {
   "cell_type": "code",
   "execution_count": 186,
   "metadata": {},
   "outputs": [],
   "source": [
    "df_test1 = df_test1.drop(['half Year'],1)"
   ]
  },
  {
   "cell_type": "code",
   "execution_count": 187,
   "metadata": {},
   "outputs": [
    {
     "name": "stdout",
     "output_type": "stream",
     "text": [
      "<class 'pandas.core.frame.DataFrame'>\n",
      "RangeIndex: 367 entries, 0 to 366\n",
      "Data columns (total 22 columns):\n",
      "Gender               367 non-null int64\n",
      "Married              367 non-null int64\n",
      "Education            367 non-null int64\n",
      "Self_Employed        367 non-null int64\n",
      "Credit_History       367 non-null float64\n",
      "Semiurban            367 non-null uint8\n",
      "Urban                367 non-null uint8\n",
      "10 Years             367 non-null uint8\n",
      "15 Years             367 non-null uint8\n",
      "20 Years             367 non-null uint8\n",
      "25 Years             367 non-null uint8\n",
      "29 Years             367 non-null uint8\n",
      "3 Years              367 non-null uint8\n",
      "30 Years             367 non-null uint8\n",
      "40 Years             367 non-null uint8\n",
      "7 Years              367 non-null uint8\n",
      "dep_None             367 non-null uint8\n",
      "dep_One              367 non-null uint8\n",
      "dep_Two              367 non-null uint8\n",
      "ApplicantIncome      367 non-null float64\n",
      "CoapplicantIncome    367 non-null float64\n",
      "LoanAmount           367 non-null float64\n",
      "dtypes: float64(4), int64(4), uint8(14)\n",
      "memory usage: 28.0 KB\n"
     ]
    }
   ],
   "source": [
    "df_test1.info()"
   ]
  },
  {
   "cell_type": "code",
   "execution_count": null,
   "metadata": {},
   "outputs": [],
   "source": []
  },
  {
   "cell_type": "code",
   "execution_count": 194,
   "metadata": {},
   "outputs": [],
   "source": [
    "dec = tree.DecisionTreeClassifier(criterion = 'entropy',max_depth = 1)\n",
    "dec.fit(X_train,y_train)\n",
    "y_pred = dec.predict(df_test1)"
   ]
  },
  {
   "cell_type": "code",
   "execution_count": 195,
   "metadata": {},
   "outputs": [
    {
     "data": {
      "text/html": [
       "<div>\n",
       "<style scoped>\n",
       "    .dataframe tbody tr th:only-of-type {\n",
       "        vertical-align: middle;\n",
       "    }\n",
       "\n",
       "    .dataframe tbody tr th {\n",
       "        vertical-align: top;\n",
       "    }\n",
       "\n",
       "    .dataframe thead th {\n",
       "        text-align: right;\n",
       "    }\n",
       "</style>\n",
       "<table border=\"1\" class=\"dataframe\">\n",
       "  <thead>\n",
       "    <tr style=\"text-align: right;\">\n",
       "      <th></th>\n",
       "      <th>0</th>\n",
       "    </tr>\n",
       "  </thead>\n",
       "  <tbody>\n",
       "    <tr>\n",
       "      <th>0</th>\n",
       "      <td>1</td>\n",
       "    </tr>\n",
       "    <tr>\n",
       "      <th>1</th>\n",
       "      <td>1</td>\n",
       "    </tr>\n",
       "    <tr>\n",
       "      <th>2</th>\n",
       "      <td>1</td>\n",
       "    </tr>\n",
       "    <tr>\n",
       "      <th>3</th>\n",
       "      <td>1</td>\n",
       "    </tr>\n",
       "    <tr>\n",
       "      <th>4</th>\n",
       "      <td>1</td>\n",
       "    </tr>\n",
       "  </tbody>\n",
       "</table>\n",
       "</div>"
      ],
      "text/plain": [
       "   0\n",
       "0  1\n",
       "1  1\n",
       "2  1\n",
       "3  1\n",
       "4  1"
      ]
     },
     "execution_count": 195,
     "metadata": {},
     "output_type": "execute_result"
    }
   ],
   "source": [
    "y_pred_df = pd.DataFrame(y_pred)\n",
    "y_pred_df.head()"
   ]
  },
  {
   "cell_type": "code",
   "execution_count": 196,
   "metadata": {},
   "outputs": [
    {
     "data": {
      "text/html": [
       "<div>\n",
       "<style scoped>\n",
       "    .dataframe tbody tr th:only-of-type {\n",
       "        vertical-align: middle;\n",
       "    }\n",
       "\n",
       "    .dataframe tbody tr th {\n",
       "        vertical-align: top;\n",
       "    }\n",
       "\n",
       "    .dataframe thead th {\n",
       "        text-align: right;\n",
       "    }\n",
       "</style>\n",
       "<table border=\"1\" class=\"dataframe\">\n",
       "  <thead>\n",
       "    <tr style=\"text-align: right;\">\n",
       "      <th></th>\n",
       "      <th>Loan_Status</th>\n",
       "    </tr>\n",
       "  </thead>\n",
       "  <tbody>\n",
       "    <tr>\n",
       "      <th>0</th>\n",
       "      <td>1</td>\n",
       "    </tr>\n",
       "    <tr>\n",
       "      <th>1</th>\n",
       "      <td>1</td>\n",
       "    </tr>\n",
       "    <tr>\n",
       "      <th>2</th>\n",
       "      <td>1</td>\n",
       "    </tr>\n",
       "    <tr>\n",
       "      <th>3</th>\n",
       "      <td>1</td>\n",
       "    </tr>\n",
       "    <tr>\n",
       "      <th>4</th>\n",
       "      <td>1</td>\n",
       "    </tr>\n",
       "  </tbody>\n",
       "</table>\n",
       "</div>"
      ],
      "text/plain": [
       "   Loan_Status\n",
       "0            1\n",
       "1            1\n",
       "2            1\n",
       "3            1\n",
       "4            1"
      ]
     },
     "execution_count": 196,
     "metadata": {},
     "output_type": "execute_result"
    }
   ],
   "source": [
    "y_pred_df= y_pred_df.rename(columns={ 0 : 'Loan_Status'})\n",
    "y_pred_df.head()"
   ]
  },
  {
   "cell_type": "code",
   "execution_count": 197,
   "metadata": {},
   "outputs": [],
   "source": [
    "loan = pd.DataFrame(df_test['Loan_ID'])"
   ]
  },
  {
   "cell_type": "code",
   "execution_count": 198,
   "metadata": {},
   "outputs": [
    {
     "data": {
      "text/html": [
       "<div>\n",
       "<style scoped>\n",
       "    .dataframe tbody tr th:only-of-type {\n",
       "        vertical-align: middle;\n",
       "    }\n",
       "\n",
       "    .dataframe tbody tr th {\n",
       "        vertical-align: top;\n",
       "    }\n",
       "\n",
       "    .dataframe thead th {\n",
       "        text-align: right;\n",
       "    }\n",
       "</style>\n",
       "<table border=\"1\" class=\"dataframe\">\n",
       "  <thead>\n",
       "    <tr style=\"text-align: right;\">\n",
       "      <th></th>\n",
       "      <th>Loan_ID</th>\n",
       "      <th>Loan_Status</th>\n",
       "    </tr>\n",
       "  </thead>\n",
       "  <tbody>\n",
       "    <tr>\n",
       "      <th>0</th>\n",
       "      <td>LP001015</td>\n",
       "      <td>1</td>\n",
       "    </tr>\n",
       "    <tr>\n",
       "      <th>1</th>\n",
       "      <td>LP001022</td>\n",
       "      <td>1</td>\n",
       "    </tr>\n",
       "    <tr>\n",
       "      <th>2</th>\n",
       "      <td>LP001031</td>\n",
       "      <td>1</td>\n",
       "    </tr>\n",
       "    <tr>\n",
       "      <th>3</th>\n",
       "      <td>LP001035</td>\n",
       "      <td>1</td>\n",
       "    </tr>\n",
       "    <tr>\n",
       "      <th>4</th>\n",
       "      <td>LP001051</td>\n",
       "      <td>1</td>\n",
       "    </tr>\n",
       "  </tbody>\n",
       "</table>\n",
       "</div>"
      ],
      "text/plain": [
       "    Loan_ID  Loan_Status\n",
       "0  LP001015            1\n",
       "1  LP001022            1\n",
       "2  LP001031            1\n",
       "3  LP001035            1\n",
       "4  LP001051            1"
      ]
     },
     "execution_count": 198,
     "metadata": {},
     "output_type": "execute_result"
    }
   ],
   "source": [
    "# Removing index for both dataframes to append them side by side \n",
    "y_pred_df.reset_index(drop=True, inplace=True)\n",
    "loan.reset_index(drop=True, inplace=True)\n",
    "# Appending y_test_df and y_pred_1\n",
    "final = pd.concat([loan,y_pred_df],axis=1)\n",
    "final.head()"
   ]
  },
  {
   "cell_type": "code",
   "execution_count": 199,
   "metadata": {},
   "outputs": [],
   "source": [
    "final[\"Loan_Status\"] = np.where(final.Loan_Status ==1,\"Y\",\"N\")\n",
    "final.to_csv('decisiontreetry4.csv', index = False)"
   ]
  },
  {
   "cell_type": "code",
   "execution_count": null,
   "metadata": {},
   "outputs": [],
   "source": []
  }
 ],
 "metadata": {
  "kernelspec": {
   "display_name": "Python 3",
   "language": "python",
   "name": "python3"
  },
  "language_info": {
   "codemirror_mode": {
    "name": "ipython",
    "version": 3
   },
   "file_extension": ".py",
   "mimetype": "text/x-python",
   "name": "python",
   "nbconvert_exporter": "python",
   "pygments_lexer": "ipython3",
   "version": "3.7.0"
  }
 },
 "nbformat": 4,
 "nbformat_minor": 2
}
