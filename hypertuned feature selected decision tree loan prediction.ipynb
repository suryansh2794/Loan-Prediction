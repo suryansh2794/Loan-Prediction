{
 "cells": [
  {
   "cell_type": "code",
   "execution_count": 1,
   "metadata": {},
   "outputs": [],
   "source": [
    "import numpy as np\n",
    "import pandas as pd\n",
    "import matplotlib.pyplot as plt\n",
    "import seaborn as sns\n",
    "%matplotlib inline"
   ]
  },
  {
   "cell_type": "code",
   "execution_count": 2,
   "metadata": {},
   "outputs": [
    {
     "data": {
      "text/html": [
       "<div>\n",
       "<style scoped>\n",
       "    .dataframe tbody tr th:only-of-type {\n",
       "        vertical-align: middle;\n",
       "    }\n",
       "\n",
       "    .dataframe tbody tr th {\n",
       "        vertical-align: top;\n",
       "    }\n",
       "\n",
       "    .dataframe thead th {\n",
       "        text-align: right;\n",
       "    }\n",
       "</style>\n",
       "<table border=\"1\" class=\"dataframe\">\n",
       "  <thead>\n",
       "    <tr style=\"text-align: right;\">\n",
       "      <th></th>\n",
       "      <th>Loan_ID</th>\n",
       "      <th>Gender</th>\n",
       "      <th>Married</th>\n",
       "      <th>Dependents</th>\n",
       "      <th>Education</th>\n",
       "      <th>Self_Employed</th>\n",
       "      <th>ApplicantIncome</th>\n",
       "      <th>CoapplicantIncome</th>\n",
       "      <th>LoanAmount</th>\n",
       "      <th>Loan_Amount_Term</th>\n",
       "      <th>Credit_History</th>\n",
       "      <th>Property_Area</th>\n",
       "      <th>Loan_Status</th>\n",
       "    </tr>\n",
       "  </thead>\n",
       "  <tbody>\n",
       "    <tr>\n",
       "      <th>0</th>\n",
       "      <td>LP001002</td>\n",
       "      <td>Male</td>\n",
       "      <td>No</td>\n",
       "      <td>0</td>\n",
       "      <td>Graduate</td>\n",
       "      <td>No</td>\n",
       "      <td>5849</td>\n",
       "      <td>0.0</td>\n",
       "      <td>NaN</td>\n",
       "      <td>360.0</td>\n",
       "      <td>1.0</td>\n",
       "      <td>Urban</td>\n",
       "      <td>Y</td>\n",
       "    </tr>\n",
       "    <tr>\n",
       "      <th>1</th>\n",
       "      <td>LP001003</td>\n",
       "      <td>Male</td>\n",
       "      <td>Yes</td>\n",
       "      <td>1</td>\n",
       "      <td>Graduate</td>\n",
       "      <td>No</td>\n",
       "      <td>4583</td>\n",
       "      <td>1508.0</td>\n",
       "      <td>128.0</td>\n",
       "      <td>360.0</td>\n",
       "      <td>1.0</td>\n",
       "      <td>Rural</td>\n",
       "      <td>N</td>\n",
       "    </tr>\n",
       "    <tr>\n",
       "      <th>2</th>\n",
       "      <td>LP001005</td>\n",
       "      <td>Male</td>\n",
       "      <td>Yes</td>\n",
       "      <td>0</td>\n",
       "      <td>Graduate</td>\n",
       "      <td>Yes</td>\n",
       "      <td>3000</td>\n",
       "      <td>0.0</td>\n",
       "      <td>66.0</td>\n",
       "      <td>360.0</td>\n",
       "      <td>1.0</td>\n",
       "      <td>Urban</td>\n",
       "      <td>Y</td>\n",
       "    </tr>\n",
       "    <tr>\n",
       "      <th>3</th>\n",
       "      <td>LP001006</td>\n",
       "      <td>Male</td>\n",
       "      <td>Yes</td>\n",
       "      <td>0</td>\n",
       "      <td>Not Graduate</td>\n",
       "      <td>No</td>\n",
       "      <td>2583</td>\n",
       "      <td>2358.0</td>\n",
       "      <td>120.0</td>\n",
       "      <td>360.0</td>\n",
       "      <td>1.0</td>\n",
       "      <td>Urban</td>\n",
       "      <td>Y</td>\n",
       "    </tr>\n",
       "    <tr>\n",
       "      <th>4</th>\n",
       "      <td>LP001008</td>\n",
       "      <td>Male</td>\n",
       "      <td>No</td>\n",
       "      <td>0</td>\n",
       "      <td>Graduate</td>\n",
       "      <td>No</td>\n",
       "      <td>6000</td>\n",
       "      <td>0.0</td>\n",
       "      <td>141.0</td>\n",
       "      <td>360.0</td>\n",
       "      <td>1.0</td>\n",
       "      <td>Urban</td>\n",
       "      <td>Y</td>\n",
       "    </tr>\n",
       "  </tbody>\n",
       "</table>\n",
       "</div>"
      ],
      "text/plain": [
       "    Loan_ID Gender Married Dependents     Education Self_Employed  \\\n",
       "0  LP001002   Male      No          0      Graduate            No   \n",
       "1  LP001003   Male     Yes          1      Graduate            No   \n",
       "2  LP001005   Male     Yes          0      Graduate           Yes   \n",
       "3  LP001006   Male     Yes          0  Not Graduate            No   \n",
       "4  LP001008   Male      No          0      Graduate            No   \n",
       "\n",
       "   ApplicantIncome  CoapplicantIncome  LoanAmount  Loan_Amount_Term  \\\n",
       "0             5849                0.0         NaN             360.0   \n",
       "1             4583             1508.0       128.0             360.0   \n",
       "2             3000                0.0        66.0             360.0   \n",
       "3             2583             2358.0       120.0             360.0   \n",
       "4             6000                0.0       141.0             360.0   \n",
       "\n",
       "   Credit_History Property_Area Loan_Status  \n",
       "0             1.0         Urban           Y  \n",
       "1             1.0         Rural           N  \n",
       "2             1.0         Urban           Y  \n",
       "3             1.0         Urban           Y  \n",
       "4             1.0         Urban           Y  "
      ]
     },
     "execution_count": 2,
     "metadata": {},
     "output_type": "execute_result"
    }
   ],
   "source": [
    "df_train = pd.read_csv('train.csv')\n",
    "df_train.head()"
   ]
  },
  {
   "cell_type": "code",
   "execution_count": 3,
   "metadata": {},
   "outputs": [
    {
     "data": {
      "text/html": [
       "<div>\n",
       "<style scoped>\n",
       "    .dataframe tbody tr th:only-of-type {\n",
       "        vertical-align: middle;\n",
       "    }\n",
       "\n",
       "    .dataframe tbody tr th {\n",
       "        vertical-align: top;\n",
       "    }\n",
       "\n",
       "    .dataframe thead th {\n",
       "        text-align: right;\n",
       "    }\n",
       "</style>\n",
       "<table border=\"1\" class=\"dataframe\">\n",
       "  <thead>\n",
       "    <tr style=\"text-align: right;\">\n",
       "      <th></th>\n",
       "      <th>column_name</th>\n",
       "      <th>values</th>\n",
       "      <th>percent</th>\n",
       "    </tr>\n",
       "  </thead>\n",
       "  <tbody>\n",
       "    <tr>\n",
       "      <th>0</th>\n",
       "      <td>Credit_History</td>\n",
       "      <td>50</td>\n",
       "      <td>8.143322</td>\n",
       "    </tr>\n",
       "    <tr>\n",
       "      <th>1</th>\n",
       "      <td>Self_Employed</td>\n",
       "      <td>32</td>\n",
       "      <td>5.211726</td>\n",
       "    </tr>\n",
       "    <tr>\n",
       "      <th>2</th>\n",
       "      <td>LoanAmount</td>\n",
       "      <td>22</td>\n",
       "      <td>3.583062</td>\n",
       "    </tr>\n",
       "    <tr>\n",
       "      <th>3</th>\n",
       "      <td>Dependents</td>\n",
       "      <td>15</td>\n",
       "      <td>2.442997</td>\n",
       "    </tr>\n",
       "    <tr>\n",
       "      <th>4</th>\n",
       "      <td>Loan_Amount_Term</td>\n",
       "      <td>14</td>\n",
       "      <td>2.280130</td>\n",
       "    </tr>\n",
       "    <tr>\n",
       "      <th>5</th>\n",
       "      <td>Gender</td>\n",
       "      <td>13</td>\n",
       "      <td>2.117264</td>\n",
       "    </tr>\n",
       "    <tr>\n",
       "      <th>6</th>\n",
       "      <td>Married</td>\n",
       "      <td>3</td>\n",
       "      <td>0.488599</td>\n",
       "    </tr>\n",
       "    <tr>\n",
       "      <th>7</th>\n",
       "      <td>Loan_Status</td>\n",
       "      <td>0</td>\n",
       "      <td>0.000000</td>\n",
       "    </tr>\n",
       "    <tr>\n",
       "      <th>8</th>\n",
       "      <td>Property_Area</td>\n",
       "      <td>0</td>\n",
       "      <td>0.000000</td>\n",
       "    </tr>\n",
       "    <tr>\n",
       "      <th>9</th>\n",
       "      <td>CoapplicantIncome</td>\n",
       "      <td>0</td>\n",
       "      <td>0.000000</td>\n",
       "    </tr>\n",
       "    <tr>\n",
       "      <th>10</th>\n",
       "      <td>ApplicantIncome</td>\n",
       "      <td>0</td>\n",
       "      <td>0.000000</td>\n",
       "    </tr>\n",
       "    <tr>\n",
       "      <th>11</th>\n",
       "      <td>Education</td>\n",
       "      <td>0</td>\n",
       "      <td>0.000000</td>\n",
       "    </tr>\n",
       "    <tr>\n",
       "      <th>12</th>\n",
       "      <td>Loan_ID</td>\n",
       "      <td>0</td>\n",
       "      <td>0.000000</td>\n",
       "    </tr>\n",
       "  </tbody>\n",
       "</table>\n",
       "</div>"
      ],
      "text/plain": [
       "          column_name  values   percent\n",
       "0      Credit_History      50  8.143322\n",
       "1       Self_Employed      32  5.211726\n",
       "2          LoanAmount      22  3.583062\n",
       "3          Dependents      15  2.442997\n",
       "4    Loan_Amount_Term      14  2.280130\n",
       "5              Gender      13  2.117264\n",
       "6             Married       3  0.488599\n",
       "7         Loan_Status       0  0.000000\n",
       "8       Property_Area       0  0.000000\n",
       "9   CoapplicantIncome       0  0.000000\n",
       "10    ApplicantIncome       0  0.000000\n",
       "11          Education       0  0.000000\n",
       "12            Loan_ID       0  0.000000"
      ]
     },
     "execution_count": 3,
     "metadata": {},
     "output_type": "execute_result"
    }
   ],
   "source": [
    "null_values = pd.DataFrame(df_train.isnull().sum().sort_values(ascending = False)).reset_index()\n",
    "null_values.columns = ['column_name','values']\n",
    "percent = pd.DataFrame(df_train.isnull().sum().sort_values(ascending = False)/len(df_train)*100).reset_index()\n",
    "percent.columns = ['column_name','percent']\n",
    "percent_1 = pd.DataFrame(percent.loc[:,'percent'])\n",
    "\n",
    "null_df = pd.concat([null_values,percent_1],axis = 1)\n",
    "null_df"
   ]
  },
  {
   "cell_type": "code",
   "execution_count": 4,
   "metadata": {},
   "outputs": [],
   "source": [
    "\n",
    "df_train['Self_Employed'] = df_train['Self_Employed'].fillna(method = 'bfill')\n",
    "df_train['LoanAmount'] = df_train['LoanAmount'].fillna(df_train['LoanAmount'].mean())\n",
    "df_train['Dependents'] = df_train['Dependents'].fillna(method = 'bfill')\n",
    "df_train['Loan_Amount_Term'] = df_train['Loan_Amount_Term'].fillna(method = 'bfill')\n",
    "#df_train['Gender'] = df_train['Gender'].fillna(method = 'ffill')\n",
    "#df_train['Married'] = df_train['Married'].fillna(method = 'bfill')\n"
   ]
  },
  {
   "cell_type": "code",
   "execution_count": 5,
   "metadata": {},
   "outputs": [],
   "source": [
    "df_train['Credit_History'] = df_train['Credit_History'].fillna(method = 'bfill')"
   ]
  },
  {
   "cell_type": "code",
   "execution_count": 6,
   "metadata": {},
   "outputs": [],
   "source": [
    "df_train['Gender'] = df_train['Gender'].fillna(method = 'bfill')\n",
    "df_train['Married'] = df_train['Married'].fillna(method = 'bfill')"
   ]
  },
  {
   "cell_type": "code",
   "execution_count": 7,
   "metadata": {},
   "outputs": [],
   "source": [
    "features = ['ApplicantIncome','CoapplicantIncome','LoanAmount']\n",
    "normalized_df = df_train[features]\n",
    "normalized_df = normalized_df - normalized_df.mean()/normalized_df.std()\n"
   ]
  },
  {
   "cell_type": "code",
   "execution_count": 8,
   "metadata": {},
   "outputs": [],
   "source": [
    "df_train['Gender'] = df_train['Gender'].map({'Male': 1,'Female': 0})\n",
    "df_train['Married'] = df_train['Married'].map({'Yes': 1,'No': 0})\n",
    "df_train['Self_Employed'] = df_train['Self_Employed'].map({'Yes': 1,'No': 0})\n",
    "df_train['Loan_Status'] = df_train['Loan_Status'].map({'Y': 1,'N': 0})\n",
    "df_train['Loan_Amount_Term'] = df_train['Loan_Amount_Term'].map({360.0 : \"30 Years\",180.0:'15 Years',480.0:'40 Years',300.0:'25 Years',84.0:'7 Years',240.0:'20 Years',120.0:'10 Years',36.0:'3 Years',60.0:'5 Years',12.0:'1 Year'})"
   ]
  },
  {
   "cell_type": "code",
   "execution_count": 9,
   "metadata": {},
   "outputs": [],
   "source": [
    "df_train = df_train.replace({'Dependents':{'0':'dep_None','2':'dep_Two','1':'dep_One','3+':'dep_More_than_three'}})"
   ]
  },
  {
   "cell_type": "code",
   "execution_count": 10,
   "metadata": {},
   "outputs": [],
   "source": [
    "df_train['Education'] =df_train['Education'].map({'Graduate':1,'Not Graduate':0}) "
   ]
  },
  {
   "cell_type": "code",
   "execution_count": 11,
   "metadata": {},
   "outputs": [
    {
     "name": "stdout",
     "output_type": "stream",
     "text": [
      "<class 'pandas.core.frame.DataFrame'>\n",
      "RangeIndex: 614 entries, 0 to 613\n",
      "Data columns (total 13 columns):\n",
      "Loan_ID              614 non-null object\n",
      "Gender               614 non-null int64\n",
      "Married              614 non-null int64\n",
      "Dependents           614 non-null object\n",
      "Education            614 non-null int64\n",
      "Self_Employed        614 non-null int64\n",
      "ApplicantIncome      614 non-null int64\n",
      "CoapplicantIncome    614 non-null float64\n",
      "LoanAmount           614 non-null float64\n",
      "Loan_Amount_Term     614 non-null object\n",
      "Credit_History       614 non-null float64\n",
      "Property_Area        614 non-null object\n",
      "Loan_Status          614 non-null int64\n",
      "dtypes: float64(3), int64(6), object(4)\n",
      "memory usage: 62.4+ KB\n"
     ]
    }
   ],
   "source": [
    "df_train.info()"
   ]
  },
  {
   "cell_type": "code",
   "execution_count": 12,
   "metadata": {},
   "outputs": [],
   "source": [
    "## dummy variables(gender,dependents,education,Loan_Amount_Term,Property_Area)\n",
    "#gen = pd.get_dummies(df_train['Gender'],drop_first = True)\n",
    "dep = pd.get_dummies(df_train['Dependents'],drop_first = True)\n",
    "#ed = pd.get_dummies(df_train['Education'],drop_first = True)\n",
    "lat = pd.get_dummies(df_train['Loan_Amount_Term'],drop_first = True)\n",
    "pa = pd.get_dummies(df_train['Property_Area'],drop_first = True)\n",
    "\n",
    "df_train = pd.concat([df_train,dep,lat,pa],axis = 1)"
   ]
  },
  {
   "cell_type": "code",
   "execution_count": 13,
   "metadata": {},
   "outputs": [],
   "source": [
    "from sklearn.preprocessing import StandardScaler"
   ]
  },
  {
   "cell_type": "code",
   "execution_count": 14,
   "metadata": {},
   "outputs": [],
   "source": [
    "df_train = df_train.drop(['Dependents','Loan_Amount_Term','Property_Area','ApplicantIncome','CoapplicantIncome','LoanAmount'],axis = 1)\n"
   ]
  },
  {
   "cell_type": "code",
   "execution_count": 15,
   "metadata": {},
   "outputs": [
    {
     "name": "stdout",
     "output_type": "stream",
     "text": [
      "<class 'pandas.core.frame.DataFrame'>\n",
      "RangeIndex: 614 entries, 0 to 613\n",
      "Data columns (total 24 columns):\n",
      "Loan_ID              614 non-null object\n",
      "Gender               614 non-null int64\n",
      "Married              614 non-null int64\n",
      "Education            614 non-null int64\n",
      "Self_Employed        614 non-null int64\n",
      "Credit_History       614 non-null float64\n",
      "Loan_Status          614 non-null int64\n",
      "dep_None             614 non-null uint8\n",
      "dep_One              614 non-null uint8\n",
      "dep_Two              614 non-null uint8\n",
      "10 Years             614 non-null uint8\n",
      "15 Years             614 non-null uint8\n",
      "20 Years             614 non-null uint8\n",
      "25 Years             614 non-null uint8\n",
      "3 Years              614 non-null uint8\n",
      "30 Years             614 non-null uint8\n",
      "40 Years             614 non-null uint8\n",
      "5 Years              614 non-null uint8\n",
      "7 Years              614 non-null uint8\n",
      "Semiurban            614 non-null uint8\n",
      "Urban                614 non-null uint8\n",
      "ApplicantIncome      614 non-null float64\n",
      "CoapplicantIncome    614 non-null float64\n",
      "LoanAmount           614 non-null float64\n",
      "dtypes: float64(4), int64(5), object(1), uint8(14)\n",
      "memory usage: 56.4+ KB\n"
     ]
    }
   ],
   "source": [
    "df_train = pd.concat([df_train,normalized_df],axis = 1)\n",
    "df_train.info()"
   ]
  },
  {
   "cell_type": "code",
   "execution_count": 16,
   "metadata": {},
   "outputs": [],
   "source": [
    "from sklearn import tree\n",
    "from sklearn.tree import DecisionTreeClassifier\n",
    "from sklearn.model_selection import train_test_split\n",
    "from sklearn import metrics\n",
    "from sklearn.metrics import accuracy_score,f1_score,recall_score,precision_score"
   ]
  },
  {
   "cell_type": "code",
   "execution_count": 17,
   "metadata": {},
   "outputs": [],
   "source": [
    "X = df_train.drop(['Loan_ID','Loan_Status'],axis = 1)\n",
    "y = df_train['Loan_Status']"
   ]
  },
  {
   "cell_type": "code",
   "execution_count": 18,
   "metadata": {},
   "outputs": [],
   "source": [
    "X_train,X_test,y_train,y_test = train_test_split(X,y,test_size = 0.3,random_state = 5)"
   ]
  },
  {
   "cell_type": "code",
   "execution_count": 19,
   "metadata": {},
   "outputs": [],
   "source": [
    "#X_test and y_test are for validation:"
   ]
  },
  {
   "cell_type": "code",
   "execution_count": 26,
   "metadata": {},
   "outputs": [
    {
     "name": "stdout",
     "output_type": "stream",
     "text": [
      "max_depth: 22\n",
      "accuracy 1.0\n",
      "recall 1.0\n",
      "precision 1.0\n",
      "f1 score 3.0\n",
      "false positive rate 0.0\n"
     ]
    }
   ],
   "source": [
    "dec = tree.DecisionTreeClassifier()\n",
    "dec.fit(X_train,y_train)\n",
    "ypred = dec.predict(X_train)\n",
    "#score = accuracy_score(y_train,ypred)\n",
    "from sklearn.metrics import confusion_matrix\n",
    "cm1 = metrics.confusion_matrix( y_train,ypred)\n",
    "total1=sum(sum(cm1))\n",
    "accuracy = (cm1[0,0]+cm1[1,1])/total1\n",
    "rec = cm1[0,0]/(cm1[0,0]+cm1[1,0])\n",
    "pre = cm1[0,0]/(cm1[0,0]+cm1[0,1])\n",
    "fsc = (cm1[0,0]/(cm1[0,0]+cm1[0,1]))*(cm1[0,0]/(cm1[0,0]+cm1[1,0]))/(cm1[0,0]/(cm1[0,0]+cm1[0,1]))+(cm1[0,0]/(cm1[0,0]+cm1[1,0]))*2\n",
    "fpr = cm1[0,1]/(cm1[0,1]+cm1[1,1])\n",
    "print('max_depth:',dec.tree_.max_depth)\n",
    "print(\"accuracy\",accuracy)\n",
    "print(\"recall\",rec)\n",
    "print(\"precision\",pre)\n",
    "print(\"f1 score\",fsc)\n",
    "print(\"false positive rate\",fpr)\n"
   ]
  },
  {
   "cell_type": "code",
   "execution_count": 28,
   "metadata": {},
   "outputs": [],
   "source": [
    "## now trying on validation set:"
   ]
  },
  {
   "cell_type": "code",
   "execution_count": 29,
   "metadata": {},
   "outputs": [
    {
     "name": "stdout",
     "output_type": "stream",
     "text": [
      "max_depth: 21\n",
      "accuracy 0.7189189189189189\n",
      "recall 0.4918032786885246\n",
      "precision 0.5882352941176471\n",
      "f1 score 1.4754098360655739\n",
      "false positive rate 0.1693548387096774\n"
     ]
    }
   ],
   "source": [
    "dec = tree.DecisionTreeClassifier()\n",
    "dec.fit(X_train,y_train)\n",
    "ypred = dec.predict(X_test)\n",
    "#score = accuracy_score(y_train,ypred)\n",
    "from sklearn.metrics import confusion_matrix\n",
    "cm1 = metrics.confusion_matrix( y_test,ypred)\n",
    "total1=sum(sum(cm1))\n",
    "accuracy = (cm1[0,0]+cm1[1,1])/total1\n",
    "rec = cm1[0,0]/(cm1[0,0]+cm1[1,0])\n",
    "pre = cm1[0,0]/(cm1[0,0]+cm1[0,1])\n",
    "fsc = (cm1[0,0]/(cm1[0,0]+cm1[0,1]))*(cm1[0,0]/(cm1[0,0]+cm1[1,0]))/(cm1[0,0]/(cm1[0,0]+cm1[0,1]))+(cm1[0,0]/(cm1[0,0]+cm1[1,0]))*2\n",
    "fpr = cm1[0,1]/(cm1[0,1]+cm1[1,1])\n",
    "print('max_depth:',dec.tree_.max_depth)\n",
    "print(\"accuracy\",accuracy)\n",
    "print(\"recall\",rec)\n",
    "print(\"precision\",pre)\n",
    "print(\"f1 score\",fsc)\n",
    "print(\"false positive rate\",fpr)\n"
   ]
  },
  {
   "cell_type": "code",
   "execution_count": 30,
   "metadata": {},
   "outputs": [],
   "source": [
    "## now checking entropy:"
   ]
  },
  {
   "cell_type": "code",
   "execution_count": 27,
   "metadata": {},
   "outputs": [
    {
     "name": "stdout",
     "output_type": "stream",
     "text": [
      "max_depth: 22\n",
      "accuracy 1.0\n",
      "recall 1.0\n",
      "precision 1.0\n",
      "f1 score 3.0\n",
      "false positive rate 0.0\n"
     ]
    }
   ],
   "source": [
    "tree.DecisionTreeClassifier(criterion = 'entropy')\n",
    "dec.fit(X_train,y_train)\n",
    "ypred = dec.predict(X_train)\n",
    "#score = accuracy_score(y_train,ypred)\n",
    "from sklearn.metrics import confusion_matrix\n",
    "cm1 = metrics.confusion_matrix( y_train,ypred)\n",
    "total1=sum(sum(cm1))\n",
    "accuracy = (cm1[0,0]+cm1[1,1])/total1\n",
    "rec = cm1[0,0]/(cm1[0,0]+cm1[1,0])\n",
    "pre = cm1[0,0]/(cm1[0,0]+cm1[0,1])\n",
    "fsc = (cm1[0,0]/(cm1[0,0]+cm1[0,1]))*(cm1[0,0]/(cm1[0,0]+cm1[1,0]))/(cm1[0,0]/(cm1[0,0]+cm1[0,1]))+(cm1[0,0]/(cm1[0,0]+cm1[1,0]))*2\n",
    "fpr = cm1[0,1]/(cm1[0,1]+cm1[1,1])\n",
    "print('max_depth:',dec.tree_.max_depth)\n",
    "print(\"accuracy\",accuracy)\n",
    "print(\"recall\",rec)\n",
    "print(\"precision\",pre)\n",
    "print(\"f1 score\",fsc)\n",
    "print(\"false positive rate\",fpr)\n"
   ]
  },
  {
   "cell_type": "code",
   "execution_count": 31,
   "metadata": {},
   "outputs": [],
   "source": [
    "## now checking it on validation set:"
   ]
  },
  {
   "cell_type": "code",
   "execution_count": 32,
   "metadata": {},
   "outputs": [
    {
     "name": "stdout",
     "output_type": "stream",
     "text": [
      "max_depth: 18\n",
      "accuracy 0.7567567567567568\n",
      "recall 0.5517241379310345\n",
      "precision 0.6274509803921569\n",
      "f1 score 1.6551724137931034\n",
      "false positive rate 0.14960629921259844\n"
     ]
    }
   ],
   "source": [
    "dec = tree.DecisionTreeClassifier(criterion = 'entropy')\n",
    "dec.fit(X_train,y_train)\n",
    "ypred = dec.predict(X_test)\n",
    "#score = accuracy_score(y_train,ypred)\n",
    "from sklearn.metrics import confusion_matrix\n",
    "cm1 = metrics.confusion_matrix( y_test,ypred)\n",
    "total1=sum(sum(cm1))\n",
    "accuracy = (cm1[0,0]+cm1[1,1])/total1\n",
    "rec = cm1[0,0]/(cm1[0,0]+cm1[1,0])\n",
    "pre = cm1[0,0]/(cm1[0,0]+cm1[0,1])\n",
    "fsc = (cm1[0,0]/(cm1[0,0]+cm1[0,1]))*(cm1[0,0]/(cm1[0,0]+cm1[1,0]))/(cm1[0,0]/(cm1[0,0]+cm1[0,1]))+(cm1[0,0]/(cm1[0,0]+cm1[1,0]))*2\n",
    "fpr = cm1[0,1]/(cm1[0,1]+cm1[1,1])\n",
    "print('max_depth:',dec.tree_.max_depth)\n",
    "print(\"accuracy\",accuracy)\n",
    "print(\"recall\",rec)\n",
    "print(\"precision\",pre)\n",
    "print(\"f1 score\",fsc)\n",
    "print(\"false positive rate\",fpr)\n"
   ]
  },
  {
   "cell_type": "code",
   "execution_count": 33,
   "metadata": {},
   "outputs": [],
   "source": [
    "##so finally choosing entropy and now hyper tuning it."
   ]
  },
  {
   "cell_type": "code",
   "execution_count": 34,
   "metadata": {},
   "outputs": [],
   "source": [
    "## feature selection."
   ]
  },
  {
   "cell_type": "code",
   "execution_count": 47,
   "metadata": {},
   "outputs": [
    {
     "data": {
      "text/plain": [
       "array([0.01723409, 0.02156347, 0.01793608, 0.03604415, 0.2114875 ,\n",
       "       0.03039451, 0.01555321, 0.        , 0.        , 0.00750546,\n",
       "       0.00906763, 0.00969799, 0.01422809, 0.0051031 , 0.00756739,\n",
       "       0.        , 0.        , 0.01486168, 0.00828007, 0.22272133,\n",
       "       0.12651959, 0.22423467])"
      ]
     },
     "execution_count": 47,
     "metadata": {},
     "output_type": "execute_result"
    }
   ],
   "source": [
    "dec.feature_importances_"
   ]
  },
  {
   "cell_type": "code",
   "execution_count": 72,
   "metadata": {},
   "outputs": [
    {
     "data": {
      "text/html": [
       "<div>\n",
       "<style scoped>\n",
       "    .dataframe tbody tr th:only-of-type {\n",
       "        vertical-align: middle;\n",
       "    }\n",
       "\n",
       "    .dataframe tbody tr th {\n",
       "        vertical-align: top;\n",
       "    }\n",
       "\n",
       "    .dataframe thead th {\n",
       "        text-align: right;\n",
       "    }\n",
       "</style>\n",
       "<table border=\"1\" class=\"dataframe\">\n",
       "  <thead>\n",
       "    <tr style=\"text-align: right;\">\n",
       "      <th></th>\n",
       "      <th>features</th>\n",
       "      <th>score</th>\n",
       "    </tr>\n",
       "  </thead>\n",
       "  <tbody>\n",
       "    <tr>\n",
       "      <th>0</th>\n",
       "      <td>Gender</td>\n",
       "      <td>0.017234</td>\n",
       "    </tr>\n",
       "    <tr>\n",
       "      <th>1</th>\n",
       "      <td>Married</td>\n",
       "      <td>0.021563</td>\n",
       "    </tr>\n",
       "    <tr>\n",
       "      <th>2</th>\n",
       "      <td>Education</td>\n",
       "      <td>0.017936</td>\n",
       "    </tr>\n",
       "    <tr>\n",
       "      <th>3</th>\n",
       "      <td>Self_Employed</td>\n",
       "      <td>0.036044</td>\n",
       "    </tr>\n",
       "    <tr>\n",
       "      <th>4</th>\n",
       "      <td>Credit_History</td>\n",
       "      <td>0.211487</td>\n",
       "    </tr>\n",
       "    <tr>\n",
       "      <th>5</th>\n",
       "      <td>dep_None</td>\n",
       "      <td>0.030395</td>\n",
       "    </tr>\n",
       "    <tr>\n",
       "      <th>6</th>\n",
       "      <td>dep_One</td>\n",
       "      <td>0.015553</td>\n",
       "    </tr>\n",
       "    <tr>\n",
       "      <th>7</th>\n",
       "      <td>dep_Two</td>\n",
       "      <td>0.000000</td>\n",
       "    </tr>\n",
       "    <tr>\n",
       "      <th>8</th>\n",
       "      <td>10 Years</td>\n",
       "      <td>0.000000</td>\n",
       "    </tr>\n",
       "    <tr>\n",
       "      <th>9</th>\n",
       "      <td>15 Years</td>\n",
       "      <td>0.007505</td>\n",
       "    </tr>\n",
       "    <tr>\n",
       "      <th>10</th>\n",
       "      <td>20 Years</td>\n",
       "      <td>0.009068</td>\n",
       "    </tr>\n",
       "    <tr>\n",
       "      <th>11</th>\n",
       "      <td>25 Years</td>\n",
       "      <td>0.009698</td>\n",
       "    </tr>\n",
       "    <tr>\n",
       "      <th>12</th>\n",
       "      <td>3 Years</td>\n",
       "      <td>0.014228</td>\n",
       "    </tr>\n",
       "    <tr>\n",
       "      <th>13</th>\n",
       "      <td>30 Years</td>\n",
       "      <td>0.005103</td>\n",
       "    </tr>\n",
       "    <tr>\n",
       "      <th>14</th>\n",
       "      <td>40 Years</td>\n",
       "      <td>0.007567</td>\n",
       "    </tr>\n",
       "    <tr>\n",
       "      <th>15</th>\n",
       "      <td>5 Years</td>\n",
       "      <td>0.000000</td>\n",
       "    </tr>\n",
       "    <tr>\n",
       "      <th>16</th>\n",
       "      <td>7 Years</td>\n",
       "      <td>0.000000</td>\n",
       "    </tr>\n",
       "    <tr>\n",
       "      <th>17</th>\n",
       "      <td>Semiurban</td>\n",
       "      <td>0.014862</td>\n",
       "    </tr>\n",
       "    <tr>\n",
       "      <th>18</th>\n",
       "      <td>Urban</td>\n",
       "      <td>0.008280</td>\n",
       "    </tr>\n",
       "    <tr>\n",
       "      <th>19</th>\n",
       "      <td>ApplicantIncome</td>\n",
       "      <td>0.222721</td>\n",
       "    </tr>\n",
       "    <tr>\n",
       "      <th>20</th>\n",
       "      <td>CoapplicantIncome</td>\n",
       "      <td>0.126520</td>\n",
       "    </tr>\n",
       "    <tr>\n",
       "      <th>21</th>\n",
       "      <td>LoanAmount</td>\n",
       "      <td>0.224235</td>\n",
       "    </tr>\n",
       "  </tbody>\n",
       "</table>\n",
       "</div>"
      ],
      "text/plain": [
       "             features     score\n",
       "0              Gender  0.017234\n",
       "1             Married  0.021563\n",
       "2           Education  0.017936\n",
       "3       Self_Employed  0.036044\n",
       "4      Credit_History  0.211487\n",
       "5            dep_None  0.030395\n",
       "6             dep_One  0.015553\n",
       "7             dep_Two  0.000000\n",
       "8            10 Years  0.000000\n",
       "9            15 Years  0.007505\n",
       "10           20 Years  0.009068\n",
       "11           25 Years  0.009698\n",
       "12            3 Years  0.014228\n",
       "13           30 Years  0.005103\n",
       "14           40 Years  0.007567\n",
       "15            5 Years  0.000000\n",
       "16            7 Years  0.000000\n",
       "17          Semiurban  0.014862\n",
       "18              Urban  0.008280\n",
       "19    ApplicantIncome  0.222721\n",
       "20  CoapplicantIncome  0.126520\n",
       "21         LoanAmount  0.224235"
      ]
     },
     "execution_count": 72,
     "metadata": {},
     "output_type": "execute_result"
    }
   ],
   "source": [
    "df3"
   ]
  },
  {
   "cell_type": "code",
   "execution_count": null,
   "metadata": {},
   "outputs": [],
   "source": [
    "## LoanAmount,ApplicantIncome,Credit_History,CoApplicantIncome, Self_Employed,dep_None"
   ]
  },
  {
   "cell_type": "code",
   "execution_count": 55,
   "metadata": {},
   "outputs": [
    {
     "data": {
      "text/plain": [
       "21    0.224235\n",
       "19    0.222721\n",
       "4     0.211487\n",
       "20    0.126520\n",
       "3     0.036044\n",
       "5     0.030395\n",
       "1     0.021563\n",
       "2     0.017936\n",
       "0     0.017234\n",
       "6     0.015553\n",
       "17    0.014862\n",
       "12    0.014228\n",
       "11    0.009698\n",
       "10    0.009068\n",
       "18    0.008280\n",
       "14    0.007567\n",
       "9     0.007505\n",
       "13    0.005103\n",
       "8     0.000000\n",
       "7     0.000000\n",
       "15    0.000000\n",
       "16    0.000000\n",
       "Name: score, dtype: float64"
      ]
     },
     "execution_count": 55,
     "metadata": {},
     "output_type": "execute_result"
    }
   ],
   "source": [
    "df1 = pd.DataFrame(dec.feature_importances_)\n",
    "df1.columns = ['score']\n",
    "#df1.head()\n",
    "df2 = pd.DataFrame(X_train.columns)\n",
    "df2.columns = ['features']\n",
    "df2.head()\n",
    "df3 = pd.concat([df2,df1],1)\n",
    "df3['score'].sort_values(ascending = False)"
   ]
  },
  {
   "cell_type": "code",
   "execution_count": 56,
   "metadata": {},
   "outputs": [],
   "source": [
    "## remove dep_Two,10 Years,5 Year,7 Year"
   ]
  },
  {
   "cell_type": "code",
   "execution_count": 57,
   "metadata": {},
   "outputs": [],
   "source": [
    "## using grid search"
   ]
  },
  {
   "cell_type": "code",
   "execution_count": 62,
   "metadata": {},
   "outputs": [
    {
     "name": "stdout",
     "output_type": "stream",
     "text": [
      "DecisionTreeClassifier(class_weight=None, criterion='entropy', max_depth=1,\n",
      "            max_features=None, max_leaf_nodes=None,\n",
      "            min_impurity_decrease=0.0, min_impurity_split=None,\n",
      "            min_samples_leaf=1, min_samples_split=2,\n",
      "            min_weight_fraction_leaf=0.0, presort=False, random_state=None,\n",
      "            splitter='best')\n"
     ]
    }
   ],
   "source": [
    "from sklearn.model_selection import GridSearchCV\n",
    "dec1 = tree.DecisionTreeClassifier()\n",
    "#log1.fit(X_train,y_train)\n",
    "grid_values = {'max_depth':range(1,20,1),'criterion':['entropy'] }\n",
    "clf = GridSearchCV(estimator = dec1,param_grid = grid_values )\n",
    "clf.fit(X_train,y_train)\n",
    "dt_model = clf.best_estimator_\n",
    "print(dt_model)\n",
    "\n",
    "\n",
    "\n",
    "\n"
   ]
  },
  {
   "cell_type": "code",
   "execution_count": 74,
   "metadata": {},
   "outputs": [
    {
     "data": {
      "text/plain": [
       "Index(['Gender', 'Married', 'Education', 'Self_Employed', 'Credit_History',\n",
       "       'dep_None', 'dep_One', 'dep_Two', '10 Years', '15 Years', '20 Years',\n",
       "       '25 Years', '3 Years', '30 Years', '40 Years', '5 Years', '7 Years',\n",
       "       'Semiurban', 'Urban', 'ApplicantIncome', 'CoapplicantIncome',\n",
       "       'LoanAmount'],\n",
       "      dtype='object')"
      ]
     },
     "execution_count": 74,
     "metadata": {},
     "output_type": "execute_result"
    }
   ],
   "source": [
    "X_train.columns"
   ]
  },
  {
   "cell_type": "code",
   "execution_count": 85,
   "metadata": {},
   "outputs": [
    {
     "data": {
      "text/plain": [
       "(429, 7)"
      ]
     },
     "execution_count": 85,
     "metadata": {},
     "output_type": "execute_result"
    }
   ],
   "source": [
    "X_train1 = X_train.drop(['Gender', 'Education', 'dep_One', 'dep_Two', '10 Years', '15 Years', '20 Years',\n",
    "       '25 Years', '3 Years', '30 Years', '40 Years', '5 Years', '7 Years',\n",
    "       'Semiurban', 'Urban'],1)\n",
    "X_train1.shape"
   ]
  },
  {
   "cell_type": "code",
   "execution_count": 86,
   "metadata": {},
   "outputs": [
    {
     "data": {
      "text/plain": [
       "(185, 7)"
      ]
     },
     "execution_count": 86,
     "metadata": {},
     "output_type": "execute_result"
    }
   ],
   "source": [
    "col = X_train1.columns\n",
    "X_test1 = X_test[col]\n",
    "X_test1.shape"
   ]
  },
  {
   "cell_type": "code",
   "execution_count": 87,
   "metadata": {},
   "outputs": [],
   "source": [
    "## using iterative feature selected in entropy to find best max depth."
   ]
  },
  {
   "cell_type": "code",
   "execution_count": 88,
   "metadata": {},
   "outputs": [
    {
     "name": "stdout",
     "output_type": "stream",
     "text": [
      "    depth  accuracy    recall  precision  f1_score  false positive rate\n",
      "1     1.0  0.821622  0.781250   0.490196  2.343750             0.169935\n",
      "2     2.0  0.821622  0.781250   0.490196  2.343750             0.169935\n",
      "3     3.0  0.821622  0.781250   0.490196  2.343750             0.169935\n",
      "4     4.0  0.805405  0.702703   0.509804  2.108108             0.168919\n",
      "5     5.0  0.805405  0.714286   0.490196  2.142857             0.173333\n",
      "6     6.0  0.789189  0.657895   0.490196  1.973684             0.176871\n",
      "7     7.0  0.783784  0.657143   0.450980  1.971429             0.186667\n",
      "8     8.0  0.767568  0.600000   0.470588  1.800000             0.186207\n",
      "9     9.0  0.735135  0.519231   0.529412  1.557692             0.180451\n",
      "10   10.0  0.740541  0.531915   0.490196  1.595745             0.188406\n",
      "11   11.0  0.735135  0.518519   0.549020  1.555556             0.175573\n",
      "12   12.0  0.740541  0.528302   0.549020  1.584906             0.174242\n",
      "13   13.0  0.735135  0.518519   0.549020  1.555556             0.175573\n",
      "14   14.0  0.718919  0.490566   0.509804  1.471698             0.189394\n",
      "15   15.0  0.713514  0.481481   0.509804  1.444444             0.190840\n",
      "16   16.0  0.708108  0.473684   0.529412  1.421053             0.187500\n",
      "17   17.0  0.729730  0.509434   0.529412  1.528302             0.181818\n",
      "18   18.0  0.702703  0.465517   0.529412  1.396552             0.188976\n",
      "19   19.0  0.691892  0.448276   0.509804  1.344828             0.196850\n",
      "20   20.0  0.718919  0.491803   0.588235  1.475410             0.169355\n",
      "21   21.0  0.702703  0.467742   0.568627  1.403226             0.178862\n",
      "22   22.0  0.691892  0.450000   0.529412  1.350000             0.192000\n"
     ]
    }
   ],
   "source": [
    "cutoff_df = pd.DataFrame( columns = ['depth','accuracy','recall','precision','f1_score','false positive rate'])\n",
    "from sklearn.metrics import confusion_matrix\n",
    "num = range(1,23,1)\n",
    "for i in num:\n",
    "    dec = tree.DecisionTreeClassifier(criterion = 'entropy',max_depth = i)\n",
    "    dec.fit(X_train1,y_train)\n",
    "    ypred = dec.predict(X_test1)\n",
    "    cm1 = metrics.confusion_matrix( y_test,ypred)\n",
    "    total1=sum(sum(cm1))\n",
    "    accuracy = (cm1[0,0]+cm1[1,1])/total1\n",
    "    rec = cm1[0,0]/(cm1[0,0]+cm1[1,0])\n",
    "    pre = cm1[0,0]/(cm1[0,0]+cm1[0,1])\n",
    "    fsc = (cm1[0,0]/(cm1[0,0]+cm1[0,1]))*(cm1[0,0]/(cm1[0,0]+cm1[1,0]))/(cm1[0,0]/(cm1[0,0]+cm1[0,1]))+(cm1[0,0]/(cm1[0,0]+cm1[1,0]))*2\n",
    "    fpr = cm1[0,1]/(cm1[0,1]+cm1[1,1])\n",
    "    cutoff_df.loc[i] =[ i ,accuracy,rec,pre,fsc,fpr]\n",
    "print(cutoff_df)"
   ]
  },
  {
   "cell_type": "code",
   "execution_count": 89,
   "metadata": {},
   "outputs": [
    {
     "data": {
      "text/plain": [
       "<matplotlib.axes._subplots.AxesSubplot at 0x28a6e6076a0>"
      ]
     },
     "execution_count": 89,
     "metadata": {},
     "output_type": "execute_result"
    },
    {
     "data": {
      "text/plain": [
       "<Figure size 1080x504 with 0 Axes>"
      ]
     },
     "metadata": {},
     "output_type": "display_data"
    },
    {
     "data": {
      "image/png": "[encoded data removed]",
      "text/plain": [
       "<Figure size 432x288 with 1 Axes>"
      ]
     },
     "metadata": {
      "needs_background": "light"
     },
     "output_type": "display_data"
    }
   ],
   "source": [
    "# Let's plot accuracy recall precision f1 score and false positive rate for various depths.\n",
    "plt.figure(figsize = (15,7))\n",
    "cutoff_df.plot.line(x='depth', y=['accuracy','recall','precision','f1_score','false positive rate'])"
   ]
  },
  {
   "cell_type": "code",
   "execution_count": 90,
   "metadata": {},
   "outputs": [],
   "source": [
    "## report 1: features = 22, max_depth = 6\n",
    "## report 2: features =  4, max_depth = 4 acc = 80.5\n",
    "## report 3: features = 6, max_depth = 3\n",
    "## report 4: features = 7, max_depth = 3\n"
   ]
  },
  {
   "cell_type": "code",
   "execution_count": null,
   "metadata": {},
   "outputs": [],
   "source": []
  },
  {
   "cell_type": "code",
   "execution_count": null,
   "metadata": {},
   "outputs": [],
   "source": []
  },
  {
   "cell_type": "code",
   "execution_count": null,
   "metadata": {},
   "outputs": [],
   "source": []
  },
  {
   "cell_type": "code",
   "execution_count": 91,
   "metadata": {},
   "outputs": [],
   "source": [
    "## finally testing on testing data"
   ]
  },
  {
   "cell_type": "code",
   "execution_count": null,
   "metadata": {},
   "outputs": [],
   "source": []
  },
  {
   "cell_type": "code",
   "execution_count": null,
   "metadata": {},
   "outputs": [],
   "source": []
  },
  {
   "cell_type": "code",
   "execution_count": null,
   "metadata": {},
   "outputs": [],
   "source": []
  },
  {
   "cell_type": "code",
   "execution_count": null,
   "metadata": {},
   "outputs": [],
   "source": []
  },
  {
   "cell_type": "code",
   "execution_count": 94,
   "metadata": {},
   "outputs": [],
   "source": [
    "## finally decided that the criterion is entropy and cutoff is 5:"
   ]
  },
  {
   "cell_type": "code",
   "execution_count": 92,
   "metadata": {},
   "outputs": [],
   "source": [
    "from sklearn.model_selection import KFold, cross_val_score\n",
    "kf = KFold(n_splits=5, shuffle=True, random_state=27)"
   ]
  },
  {
   "cell_type": "code",
   "execution_count": 93,
   "metadata": {},
   "outputs": [],
   "source": [
    "# Do k-fold cross-validation\n",
    "dec = tree.DecisionTreeClassifier(criterion = 'entropy',max_depth = 3)\n",
    "cv_results = cross_val_score(dec,X_train1, # Feature matrix\n",
    "                             y_train, # Target vector\n",
    "                             cv=kf, # Cross-validation technique\n",
    "                             scoring=\"accuracy\", # Loss function\n",
    "                             n_jobs=-1) # Use all CPU scores"
   ]
  },
  {
   "cell_type": "code",
   "execution_count": 94,
   "metadata": {},
   "outputs": [
    {
     "data": {
      "text/plain": [
       "0.7832558139534884"
      ]
     },
     "execution_count": 94,
     "metadata": {},
     "output_type": "execute_result"
    }
   ],
   "source": [
    "# Calculate mean\n",
    "cv_results.mean()"
   ]
  },
  {
   "cell_type": "code",
   "execution_count": 95,
   "metadata": {},
   "outputs": [],
   "source": [
    "### now predicting the value:"
   ]
  },
  {
   "cell_type": "code",
   "execution_count": 96,
   "metadata": {},
   "outputs": [],
   "source": [
    "#X = df_train.drop(['Loan_ID','Loan_Status'],axis = 1)\n",
    "#y = df_train['Loan_Status']"
   ]
  },
  {
   "cell_type": "code",
   "execution_count": 97,
   "metadata": {},
   "outputs": [
    {
     "name": "stdout",
     "output_type": "stream",
     "text": [
      "<class 'pandas.core.frame.DataFrame'>\n",
      "RangeIndex: 367 entries, 0 to 366\n",
      "Data columns (total 12 columns):\n",
      "Loan_ID              367 non-null object\n",
      "Gender               356 non-null object\n",
      "Married              367 non-null object\n",
      "Dependents           357 non-null object\n",
      "Education            367 non-null object\n",
      "Self_Employed        344 non-null object\n",
      "ApplicantIncome      367 non-null int64\n",
      "CoapplicantIncome    367 non-null int64\n",
      "LoanAmount           362 non-null float64\n",
      "Loan_Amount_Term     361 non-null float64\n",
      "Credit_History       338 non-null float64\n",
      "Property_Area        367 non-null object\n",
      "dtypes: float64(3), int64(2), object(7)\n",
      "memory usage: 34.5+ KB\n"
     ]
    }
   ],
   "source": [
    "df_test = pd.read_csv('test.csv')\n",
    "df_test.info()"
   ]
  },
  {
   "cell_type": "code",
   "execution_count": 98,
   "metadata": {},
   "outputs": [
    {
     "data": {
      "text/plain": [
       "Loan_ID               0\n",
       "Gender               11\n",
       "Married               0\n",
       "Dependents           10\n",
       "Education             0\n",
       "Self_Employed        23\n",
       "ApplicantIncome       0\n",
       "CoapplicantIncome     0\n",
       "LoanAmount            5\n",
       "Loan_Amount_Term      6\n",
       "Credit_History       29\n",
       "Property_Area         0\n",
       "dtype: int64"
      ]
     },
     "execution_count": 98,
     "metadata": {},
     "output_type": "execute_result"
    }
   ],
   "source": [
    "df_test.isnull().sum()"
   ]
  },
  {
   "cell_type": "code",
   "execution_count": 99,
   "metadata": {},
   "outputs": [],
   "source": [
    "\n",
    "df_test['Credit_History'] = df_test['Credit_History'].fillna(method = 'bfill')\n",
    "df_test['Gender'] = df_test['Gender'].fillna(method = 'bfill')\n",
    "df_test['Self_Employed'] = df_test['Self_Employed'].fillna(method = 'bfill')\n",
    "df_test['LoanAmount'] = df_test['LoanAmount'].fillna(df_test['LoanAmount'].mean())\n",
    "df_test['Dependents'] = df_test['Dependents'].fillna(method = 'bfill')\n",
    "df_test['Loan_Amount_Term'] = df_test['Loan_Amount_Term'].fillna(method = 'bfill')\n",
    "#df_train['Gender'] = df_train['Gender'].fillna(method = 'ffill')\n",
    "#df_train['Married'] = df_train['Married'].fillna(method = 'bfill')\n"
   ]
  },
  {
   "cell_type": "code",
   "execution_count": 100,
   "metadata": {},
   "outputs": [],
   "source": [
    "## continous variables:\n",
    "features1 = ['ApplicantIncome','CoapplicantIncome','LoanAmount']\n",
    "normalized_df1 = df_test[features1]\n",
    "normalized_df1 = normalized_df1 - normalized_df1.mean()/normalized_df1.std()"
   ]
  },
  {
   "cell_type": "code",
   "execution_count": 101,
   "metadata": {},
   "outputs": [],
   "source": [
    "df_test['Education'] =df_test['Education'].map({'Graduate':1,'Not Graduate':0}) \n",
    "df_test['Gender'] = df_test['Gender'].map({'Male': 1,'Female': 0})\n",
    "df_test['Married'] = df_test['Married'].map({'Yes': 1,'No': 0})\n",
    "df_test['Self_Employed'] = df_test['Self_Employed'].map({'Yes': 1,'No': 0})\n",
    "df_test['Loan_Amount_Term'] = df_test['Loan_Amount_Term'].map({360.0 : \"30 Years\",180.0:'15 Years',480.0:'40 Years',300.0:'25 Years',84.0:'7 Years',240.0:'20 Years',120.0:'10 Years',36.0:'3 Years',350.0:'29 Years',12.0:'1 Year',6.0:'half Year'})"
   ]
  },
  {
   "cell_type": "code",
   "execution_count": 102,
   "metadata": {},
   "outputs": [],
   "source": [
    "df_test = df_test.replace({'Dependents':{'0':'dep_None','2':'dep_Two','1':'dep_One','3+':'dep_More_than_three'}})"
   ]
  },
  {
   "cell_type": "code",
   "execution_count": 103,
   "metadata": {},
   "outputs": [],
   "source": [
    "## dummy variables(gender,dependents,education,Loan_Amount_Term,Property_Area)\n",
    "#gen1 = pd.get_dummies(df_test['Gender'],drop_first = True)\n",
    "dep1 = pd.get_dummies(df_test['Dependents'],drop_first = True)\n",
    "#ed1 = pd.get_dummies(df_test['Education'],drop_first = True)\n",
    "#lat1 = pd.get_dummies(df_test['Loan_Amount_Term'],drop_first = True)\n",
    "pa1 = pd.get_dummies(df_test['Property_Area'],drop_first = True)\n",
    "lat1 = pd.get_dummies(df_test['Loan_Amount_Term'],drop_first = True)\n",
    "\n",
    "df_test = pd.concat([df_test,pa1,lat1,dep1],axis = 1)"
   ]
  },
  {
   "cell_type": "code",
   "execution_count": 104,
   "metadata": {},
   "outputs": [],
   "source": [
    "df_test1 = df_test.drop(['Loan_ID','Dependents','Loan_Amount_Term','Property_Area','ApplicantIncome','CoapplicantIncome','LoanAmount'],axis = 1)\n",
    "df_test1 = pd.concat([df_test1,normalized_df1],axis = 1)"
   ]
  },
  {
   "cell_type": "code",
   "execution_count": 105,
   "metadata": {},
   "outputs": [],
   "source": [
    "df_test1 = df_test1.drop(['half Year'],1)"
   ]
  },
  {
   "cell_type": "code",
   "execution_count": 106,
   "metadata": {},
   "outputs": [
    {
     "name": "stdout",
     "output_type": "stream",
     "text": [
      "<class 'pandas.core.frame.DataFrame'>\n",
      "RangeIndex: 367 entries, 0 to 366\n",
      "Data columns (total 22 columns):\n",
      "Gender               367 non-null int64\n",
      "Married              367 non-null int64\n",
      "Education            367 non-null int64\n",
      "Self_Employed        367 non-null int64\n",
      "Credit_History       367 non-null float64\n",
      "Semiurban            367 non-null uint8\n",
      "Urban                367 non-null uint8\n",
      "10 Years             367 non-null uint8\n",
      "15 Years             367 non-null uint8\n",
      "20 Years             367 non-null uint8\n",
      "25 Years             367 non-null uint8\n",
      "29 Years             367 non-null uint8\n",
      "3 Years              367 non-null uint8\n",
      "30 Years             367 non-null uint8\n",
      "40 Years             367 non-null uint8\n",
      "7 Years              367 non-null uint8\n",
      "dep_None             367 non-null uint8\n",
      "dep_One              367 non-null uint8\n",
      "dep_Two              367 non-null uint8\n",
      "ApplicantIncome      367 non-null float64\n",
      "CoapplicantIncome    367 non-null float64\n",
      "LoanAmount           367 non-null float64\n",
      "dtypes: float64(4), int64(4), uint8(14)\n",
      "memory usage: 28.0 KB\n"
     ]
    }
   ],
   "source": [
    "df_test1.info()"
   ]
  },
  {
   "cell_type": "code",
   "execution_count": 107,
   "metadata": {},
   "outputs": [
    {
     "data": {
      "text/plain": [
       "(367, 7)"
      ]
     },
     "execution_count": 107,
     "metadata": {},
     "output_type": "execute_result"
    }
   ],
   "source": [
    "col = X_train1.columns\n",
    "df_test2 = df_test1[col]\n",
    "df_test2.shape"
   ]
  },
  {
   "cell_type": "code",
   "execution_count": 108,
   "metadata": {},
   "outputs": [],
   "source": [
    "dec = tree.DecisionTreeClassifier(criterion = 'entropy',max_depth = 3)\n",
    "dec.fit(X_train1,y_train)\n",
    "y_pred = dec.predict(df_test2)"
   ]
  },
  {
   "cell_type": "code",
   "execution_count": 109,
   "metadata": {},
   "outputs": [
    {
     "data": {
      "text/html": [
       "<div>\n",
       "<style scoped>\n",
       "    .dataframe tbody tr th:only-of-type {\n",
       "        vertical-align: middle;\n",
       "    }\n",
       "\n",
       "    .dataframe tbody tr th {\n",
       "        vertical-align: top;\n",
       "    }\n",
       "\n",
       "    .dataframe thead th {\n",
       "        text-align: right;\n",
       "    }\n",
       "</style>\n",
       "<table border=\"1\" class=\"dataframe\">\n",
       "  <thead>\n",
       "    <tr style=\"text-align: right;\">\n",
       "      <th></th>\n",
       "      <th>0</th>\n",
       "    </tr>\n",
       "  </thead>\n",
       "  <tbody>\n",
       "    <tr>\n",
       "      <th>0</th>\n",
       "      <td>1</td>\n",
       "    </tr>\n",
       "    <tr>\n",
       "      <th>1</th>\n",
       "      <td>1</td>\n",
       "    </tr>\n",
       "    <tr>\n",
       "      <th>2</th>\n",
       "      <td>1</td>\n",
       "    </tr>\n",
       "    <tr>\n",
       "      <th>3</th>\n",
       "      <td>1</td>\n",
       "    </tr>\n",
       "    <tr>\n",
       "      <th>4</th>\n",
       "      <td>1</td>\n",
       "    </tr>\n",
       "  </tbody>\n",
       "</table>\n",
       "</div>"
      ],
      "text/plain": [
       "   0\n",
       "0  1\n",
       "1  1\n",
       "2  1\n",
       "3  1\n",
       "4  1"
      ]
     },
     "execution_count": 109,
     "metadata": {},
     "output_type": "execute_result"
    }
   ],
   "source": [
    "y_pred_df = pd.DataFrame(y_pred)\n",
    "y_pred_df.head()"
   ]
  },
  {
   "cell_type": "code",
   "execution_count": 110,
   "metadata": {},
   "outputs": [
    {
     "data": {
      "text/html": [
       "<div>\n",
       "<style scoped>\n",
       "    .dataframe tbody tr th:only-of-type {\n",
       "        vertical-align: middle;\n",
       "    }\n",
       "\n",
       "    .dataframe tbody tr th {\n",
       "        vertical-align: top;\n",
       "    }\n",
       "\n",
       "    .dataframe thead th {\n",
       "        text-align: right;\n",
       "    }\n",
       "</style>\n",
       "<table border=\"1\" class=\"dataframe\">\n",
       "  <thead>\n",
       "    <tr style=\"text-align: right;\">\n",
       "      <th></th>\n",
       "      <th>Loan_Status</th>\n",
       "    </tr>\n",
       "  </thead>\n",
       "  <tbody>\n",
       "    <tr>\n",
       "      <th>0</th>\n",
       "      <td>1</td>\n",
       "    </tr>\n",
       "    <tr>\n",
       "      <th>1</th>\n",
       "      <td>1</td>\n",
       "    </tr>\n",
       "    <tr>\n",
       "      <th>2</th>\n",
       "      <td>1</td>\n",
       "    </tr>\n",
       "    <tr>\n",
       "      <th>3</th>\n",
       "      <td>1</td>\n",
       "    </tr>\n",
       "    <tr>\n",
       "      <th>4</th>\n",
       "      <td>1</td>\n",
       "    </tr>\n",
       "  </tbody>\n",
       "</table>\n",
       "</div>"
      ],
      "text/plain": [
       "   Loan_Status\n",
       "0            1\n",
       "1            1\n",
       "2            1\n",
       "3            1\n",
       "4            1"
      ]
     },
     "execution_count": 110,
     "metadata": {},
     "output_type": "execute_result"
    }
   ],
   "source": [
    "y_pred_df= y_pred_df.rename(columns={ 0 : 'Loan_Status'})\n",
    "y_pred_df.head()"
   ]
  },
  {
   "cell_type": "code",
   "execution_count": 111,
   "metadata": {},
   "outputs": [],
   "source": [
    "loan = pd.DataFrame(df_test['Loan_ID'])"
   ]
  },
  {
   "cell_type": "code",
   "execution_count": 112,
   "metadata": {},
   "outputs": [
    {
     "data": {
      "text/html": [
       "<div>\n",
       "<style scoped>\n",
       "    .dataframe tbody tr th:only-of-type {\n",
       "        vertical-align: middle;\n",
       "    }\n",
       "\n",
       "    .dataframe tbody tr th {\n",
       "        vertical-align: top;\n",
       "    }\n",
       "\n",
       "    .dataframe thead th {\n",
       "        text-align: right;\n",
       "    }\n",
       "</style>\n",
       "<table border=\"1\" class=\"dataframe\">\n",
       "  <thead>\n",
       "    <tr style=\"text-align: right;\">\n",
       "      <th></th>\n",
       "      <th>Loan_ID</th>\n",
       "      <th>Loan_Status</th>\n",
       "    </tr>\n",
       "  </thead>\n",
       "  <tbody>\n",
       "    <tr>\n",
       "      <th>0</th>\n",
       "      <td>LP001015</td>\n",
       "      <td>1</td>\n",
       "    </tr>\n",
       "    <tr>\n",
       "      <th>1</th>\n",
       "      <td>LP001022</td>\n",
       "      <td>1</td>\n",
       "    </tr>\n",
       "    <tr>\n",
       "      <th>2</th>\n",
       "      <td>LP001031</td>\n",
       "      <td>1</td>\n",
       "    </tr>\n",
       "    <tr>\n",
       "      <th>3</th>\n",
       "      <td>LP001035</td>\n",
       "      <td>1</td>\n",
       "    </tr>\n",
       "    <tr>\n",
       "      <th>4</th>\n",
       "      <td>LP001051</td>\n",
       "      <td>1</td>\n",
       "    </tr>\n",
       "  </tbody>\n",
       "</table>\n",
       "</div>"
      ],
      "text/plain": [
       "    Loan_ID  Loan_Status\n",
       "0  LP001015            1\n",
       "1  LP001022            1\n",
       "2  LP001031            1\n",
       "3  LP001035            1\n",
       "4  LP001051            1"
      ]
     },
     "execution_count": 112,
     "metadata": {},
     "output_type": "execute_result"
    }
   ],
   "source": [
    "# Removing index for both dataframes to append them side by side \n",
    "y_pred_df.reset_index(drop=True, inplace=True)\n",
    "loan.reset_index(drop=True, inplace=True)\n",
    "# Appending y_test_df and y_pred_1\n",
    "final = pd.concat([loan,y_pred_df],axis=1)\n",
    "final.head()"
   ]
  },
  {
   "cell_type": "code",
   "execution_count": 113,
   "metadata": {},
   "outputs": [],
   "source": [
    "final[\"Loan_Status\"] = np.where(final.Loan_Status ==1,\"Y\",\"N\")\n",
    "final.to_csv('tuneddectree123.csv', index = False)"
   ]
  },
  {
   "cell_type": "code",
   "execution_count": null,
   "metadata": {},
   "outputs": [],
   "source": []
  }
 ],
 "metadata": {
  "kernelspec": {
   "display_name": "Python 3",
   "language": "python",
   "name": "python3"
  },
  "language_info": {
   "codemirror_mode": {
    "name": "ipython",
    "version": 3
   },
   "file_extension": ".py",
   "mimetype": "text/x-python",
   "name": "python",
   "nbconvert_exporter": "python",
   "pygments_lexer": "ipython3",
   "version": "3.7.0"
  }
 },
 "nbformat": 4,
 "nbformat_minor": 2
}
