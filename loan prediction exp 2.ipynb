{
 "cells": [
  {
   "cell_type": "code",
   "execution_count": 1,
   "metadata": {},
   "outputs": [],
   "source": [
    "import numpy as np\n",
    "import pandas as pd\n",
    "import matplotlib.pyplot as plt\n",
    "import seaborn as sns\n",
    "%matplotlib inline"
   ]
  },
  {
   "cell_type": "code",
   "execution_count": 2,
   "metadata": {},
   "outputs": [
    {
     "data": {
      "text/html": [
       "<div>\n",
       "<style scoped>\n",
       "    .dataframe tbody tr th:only-of-type {\n",
       "        vertical-align: middle;\n",
       "    }\n",
       "\n",
       "    .dataframe tbody tr th {\n",
       "        vertical-align: top;\n",
       "    }\n",
       "\n",
       "    .dataframe thead th {\n",
       "        text-align: right;\n",
       "    }\n",
       "</style>\n",
       "<table border=\"1\" class=\"dataframe\">\n",
       "  <thead>\n",
       "    <tr style=\"text-align: right;\">\n",
       "      <th></th>\n",
       "      <th>Loan_ID</th>\n",
       "      <th>Gender</th>\n",
       "      <th>Married</th>\n",
       "      <th>Dependents</th>\n",
       "      <th>Education</th>\n",
       "      <th>Self_Employed</th>\n",
       "      <th>ApplicantIncome</th>\n",
       "      <th>CoapplicantIncome</th>\n",
       "      <th>LoanAmount</th>\n",
       "      <th>Loan_Amount_Term</th>\n",
       "      <th>Credit_History</th>\n",
       "      <th>Property_Area</th>\n",
       "      <th>Loan_Status</th>\n",
       "    </tr>\n",
       "  </thead>\n",
       "  <tbody>\n",
       "    <tr>\n",
       "      <th>0</th>\n",
       "      <td>LP001002</td>\n",
       "      <td>Male</td>\n",
       "      <td>No</td>\n",
       "      <td>0</td>\n",
       "      <td>Graduate</td>\n",
       "      <td>No</td>\n",
       "      <td>5849</td>\n",
       "      <td>0.0</td>\n",
       "      <td>NaN</td>\n",
       "      <td>360.0</td>\n",
       "      <td>1.0</td>\n",
       "      <td>Urban</td>\n",
       "      <td>Y</td>\n",
       "    </tr>\n",
       "    <tr>\n",
       "      <th>1</th>\n",
       "      <td>LP001003</td>\n",
       "      <td>Male</td>\n",
       "      <td>Yes</td>\n",
       "      <td>1</td>\n",
       "      <td>Graduate</td>\n",
       "      <td>No</td>\n",
       "      <td>4583</td>\n",
       "      <td>1508.0</td>\n",
       "      <td>128.0</td>\n",
       "      <td>360.0</td>\n",
       "      <td>1.0</td>\n",
       "      <td>Rural</td>\n",
       "      <td>N</td>\n",
       "    </tr>\n",
       "    <tr>\n",
       "      <th>2</th>\n",
       "      <td>LP001005</td>\n",
       "      <td>Male</td>\n",
       "      <td>Yes</td>\n",
       "      <td>0</td>\n",
       "      <td>Graduate</td>\n",
       "      <td>Yes</td>\n",
       "      <td>3000</td>\n",
       "      <td>0.0</td>\n",
       "      <td>66.0</td>\n",
       "      <td>360.0</td>\n",
       "      <td>1.0</td>\n",
       "      <td>Urban</td>\n",
       "      <td>Y</td>\n",
       "    </tr>\n",
       "    <tr>\n",
       "      <th>3</th>\n",
       "      <td>LP001006</td>\n",
       "      <td>Male</td>\n",
       "      <td>Yes</td>\n",
       "      <td>0</td>\n",
       "      <td>Not Graduate</td>\n",
       "      <td>No</td>\n",
       "      <td>2583</td>\n",
       "      <td>2358.0</td>\n",
       "      <td>120.0</td>\n",
       "      <td>360.0</td>\n",
       "      <td>1.0</td>\n",
       "      <td>Urban</td>\n",
       "      <td>Y</td>\n",
       "    </tr>\n",
       "    <tr>\n",
       "      <th>4</th>\n",
       "      <td>LP001008</td>\n",
       "      <td>Male</td>\n",
       "      <td>No</td>\n",
       "      <td>0</td>\n",
       "      <td>Graduate</td>\n",
       "      <td>No</td>\n",
       "      <td>6000</td>\n",
       "      <td>0.0</td>\n",
       "      <td>141.0</td>\n",
       "      <td>360.0</td>\n",
       "      <td>1.0</td>\n",
       "      <td>Urban</td>\n",
       "      <td>Y</td>\n",
       "    </tr>\n",
       "  </tbody>\n",
       "</table>\n",
       "</div>"
      ],
      "text/plain": [
       "    Loan_ID Gender Married Dependents     Education Self_Employed  \\\n",
       "0  LP001002   Male      No          0      Graduate            No   \n",
       "1  LP001003   Male     Yes          1      Graduate            No   \n",
       "2  LP001005   Male     Yes          0      Graduate           Yes   \n",
       "3  LP001006   Male     Yes          0  Not Graduate            No   \n",
       "4  LP001008   Male      No          0      Graduate            No   \n",
       "\n",
       "   ApplicantIncome  CoapplicantIncome  LoanAmount  Loan_Amount_Term  \\\n",
       "0             5849                0.0         NaN             360.0   \n",
       "1             4583             1508.0       128.0             360.0   \n",
       "2             3000                0.0        66.0             360.0   \n",
       "3             2583             2358.0       120.0             360.0   \n",
       "4             6000                0.0       141.0             360.0   \n",
       "\n",
       "   Credit_History Property_Area Loan_Status  \n",
       "0             1.0         Urban           Y  \n",
       "1             1.0         Rural           N  \n",
       "2             1.0         Urban           Y  \n",
       "3             1.0         Urban           Y  \n",
       "4             1.0         Urban           Y  "
      ]
     },
     "execution_count": 2,
     "metadata": {},
     "output_type": "execute_result"
    }
   ],
   "source": [
    "df_train = pd.read_csv('train.csv')\n",
    "df_train.head()"
   ]
  },
  {
   "cell_type": "code",
   "execution_count": 3,
   "metadata": {},
   "outputs": [
    {
     "data": {
      "text/html": [
       "<div>\n",
       "<style scoped>\n",
       "    .dataframe tbody tr th:only-of-type {\n",
       "        vertical-align: middle;\n",
       "    }\n",
       "\n",
       "    .dataframe tbody tr th {\n",
       "        vertical-align: top;\n",
       "    }\n",
       "\n",
       "    .dataframe thead th {\n",
       "        text-align: right;\n",
       "    }\n",
       "</style>\n",
       "<table border=\"1\" class=\"dataframe\">\n",
       "  <thead>\n",
       "    <tr style=\"text-align: right;\">\n",
       "      <th></th>\n",
       "      <th>column_name</th>\n",
       "      <th>values</th>\n",
       "      <th>percent</th>\n",
       "    </tr>\n",
       "  </thead>\n",
       "  <tbody>\n",
       "    <tr>\n",
       "      <th>0</th>\n",
       "      <td>Credit_History</td>\n",
       "      <td>50</td>\n",
       "      <td>8.143322</td>\n",
       "    </tr>\n",
       "    <tr>\n",
       "      <th>1</th>\n",
       "      <td>Self_Employed</td>\n",
       "      <td>32</td>\n",
       "      <td>5.211726</td>\n",
       "    </tr>\n",
       "    <tr>\n",
       "      <th>2</th>\n",
       "      <td>LoanAmount</td>\n",
       "      <td>22</td>\n",
       "      <td>3.583062</td>\n",
       "    </tr>\n",
       "    <tr>\n",
       "      <th>3</th>\n",
       "      <td>Dependents</td>\n",
       "      <td>15</td>\n",
       "      <td>2.442997</td>\n",
       "    </tr>\n",
       "    <tr>\n",
       "      <th>4</th>\n",
       "      <td>Loan_Amount_Term</td>\n",
       "      <td>14</td>\n",
       "      <td>2.280130</td>\n",
       "    </tr>\n",
       "    <tr>\n",
       "      <th>5</th>\n",
       "      <td>Gender</td>\n",
       "      <td>13</td>\n",
       "      <td>2.117264</td>\n",
       "    </tr>\n",
       "    <tr>\n",
       "      <th>6</th>\n",
       "      <td>Married</td>\n",
       "      <td>3</td>\n",
       "      <td>0.488599</td>\n",
       "    </tr>\n",
       "    <tr>\n",
       "      <th>7</th>\n",
       "      <td>Loan_Status</td>\n",
       "      <td>0</td>\n",
       "      <td>0.000000</td>\n",
       "    </tr>\n",
       "    <tr>\n",
       "      <th>8</th>\n",
       "      <td>Property_Area</td>\n",
       "      <td>0</td>\n",
       "      <td>0.000000</td>\n",
       "    </tr>\n",
       "    <tr>\n",
       "      <th>9</th>\n",
       "      <td>CoapplicantIncome</td>\n",
       "      <td>0</td>\n",
       "      <td>0.000000</td>\n",
       "    </tr>\n",
       "    <tr>\n",
       "      <th>10</th>\n",
       "      <td>ApplicantIncome</td>\n",
       "      <td>0</td>\n",
       "      <td>0.000000</td>\n",
       "    </tr>\n",
       "    <tr>\n",
       "      <th>11</th>\n",
       "      <td>Education</td>\n",
       "      <td>0</td>\n",
       "      <td>0.000000</td>\n",
       "    </tr>\n",
       "    <tr>\n",
       "      <th>12</th>\n",
       "      <td>Loan_ID</td>\n",
       "      <td>0</td>\n",
       "      <td>0.000000</td>\n",
       "    </tr>\n",
       "  </tbody>\n",
       "</table>\n",
       "</div>"
      ],
      "text/plain": [
       "          column_name  values   percent\n",
       "0      Credit_History      50  8.143322\n",
       "1       Self_Employed      32  5.211726\n",
       "2          LoanAmount      22  3.583062\n",
       "3          Dependents      15  2.442997\n",
       "4    Loan_Amount_Term      14  2.280130\n",
       "5              Gender      13  2.117264\n",
       "6             Married       3  0.488599\n",
       "7         Loan_Status       0  0.000000\n",
       "8       Property_Area       0  0.000000\n",
       "9   CoapplicantIncome       0  0.000000\n",
       "10    ApplicantIncome       0  0.000000\n",
       "11          Education       0  0.000000\n",
       "12            Loan_ID       0  0.000000"
      ]
     },
     "execution_count": 3,
     "metadata": {},
     "output_type": "execute_result"
    }
   ],
   "source": [
    "null_values = pd.DataFrame(df_train.isnull().sum().sort_values(ascending = False)).reset_index()\n",
    "null_values.columns = ['column_name','values']\n",
    "percent = pd.DataFrame(df_train.isnull().sum().sort_values(ascending = False)/len(df_train)*100).reset_index()\n",
    "percent.columns = ['column_name','percent']\n",
    "percent_1 = pd.DataFrame(percent.loc[:,'percent'])\n",
    "\n",
    "null_df = pd.concat([null_values,percent_1],axis = 1)\n",
    "null_df"
   ]
  },
  {
   "cell_type": "code",
   "execution_count": 4,
   "metadata": {},
   "outputs": [],
   "source": [
    "\n",
    "df_train['Self_Employed'] = df_train['Self_Employed'].fillna(method = 'bfill')\n",
    "df_train['LoanAmount'] = df_train['LoanAmount'].fillna(df_train['LoanAmount'].mean())\n",
    "df_train['Dependents'] = df_train['Dependents'].fillna(method = 'bfill')\n",
    "df_train['Loan_Amount_Term'] = df_train['Loan_Amount_Term'].fillna(method = 'bfill')\n",
    "#df_train['Gender'] = df_train['Gender'].fillna(method = 'ffill')\n",
    "#df_train['Married'] = df_train['Married'].fillna(method = 'bfill')\n"
   ]
  },
  {
   "cell_type": "code",
   "execution_count": 5,
   "metadata": {},
   "outputs": [],
   "source": [
    "df_train['Credit_History'] = df_train['Credit_History'].fillna(method = 'bfill')"
   ]
  },
  {
   "cell_type": "code",
   "execution_count": 6,
   "metadata": {},
   "outputs": [],
   "source": [
    "df_train['Gender'] = df_train['Gender'].fillna(method = 'bfill')\n",
    "df_train['Married'] = df_train['Married'].fillna(method = 'bfill')"
   ]
  },
  {
   "cell_type": "code",
   "execution_count": 7,
   "metadata": {},
   "outputs": [],
   "source": [
    "features = ['ApplicantIncome','CoapplicantIncome','LoanAmount']\n",
    "normalized_df = df_train[features]\n",
    "normalized_df = normalized_df - normalized_df.mean()/normalized_df.std()\n"
   ]
  },
  {
   "cell_type": "code",
   "execution_count": 8,
   "metadata": {},
   "outputs": [],
   "source": [
    "df_train['Gender'] = df_train['Gender'].map({'Male': 1,'Female': 0})\n",
    "df_train['Married'] = df_train['Married'].map({'Yes': 1,'No': 0})\n",
    "df_train['Self_Employed'] = df_train['Self_Employed'].map({'Yes': 1,'No': 0})\n",
    "df_train['Loan_Status'] = df_train['Loan_Status'].map({'Y': 1,'N': 0})\n",
    "df_train['Loan_Amount_Term'] = df_train['Loan_Amount_Term'].map({360.0 : \"30 Years\",180.0:'15 Years',480.0:'40 Years',300.0:'25 Years',84.0:'7 Years',240.0:'20 Years',120.0:'10 Years',36.0:'3 Years',60.0:'5 Years',12.0:'1 Year'})"
   ]
  },
  {
   "cell_type": "code",
   "execution_count": 9,
   "metadata": {},
   "outputs": [],
   "source": [
    "df_train = df_train.replace({'Dependents':{'0':'dep_None','2':'dep_Two','1':'dep_One','3+':'dep_More_than_three'}})"
   ]
  },
  {
   "cell_type": "code",
   "execution_count": 10,
   "metadata": {},
   "outputs": [],
   "source": [
    "df_train['Education'] =df_train['Education'].map({'Graduate':1,'Not Graduate':0}) "
   ]
  },
  {
   "cell_type": "code",
   "execution_count": 11,
   "metadata": {},
   "outputs": [
    {
     "name": "stdout",
     "output_type": "stream",
     "text": [
      "<class 'pandas.core.frame.DataFrame'>\n",
      "RangeIndex: 614 entries, 0 to 613\n",
      "Data columns (total 13 columns):\n",
      "Loan_ID              614 non-null object\n",
      "Gender               614 non-null int64\n",
      "Married              614 non-null int64\n",
      "Dependents           614 non-null object\n",
      "Education            614 non-null int64\n",
      "Self_Employed        614 non-null int64\n",
      "ApplicantIncome      614 non-null int64\n",
      "CoapplicantIncome    614 non-null float64\n",
      "LoanAmount           614 non-null float64\n",
      "Loan_Amount_Term     614 non-null object\n",
      "Credit_History       614 non-null float64\n",
      "Property_Area        614 non-null object\n",
      "Loan_Status          614 non-null int64\n",
      "dtypes: float64(3), int64(6), object(4)\n",
      "memory usage: 62.4+ KB\n"
     ]
    }
   ],
   "source": [
    "df_train.info()"
   ]
  },
  {
   "cell_type": "code",
   "execution_count": 12,
   "metadata": {},
   "outputs": [],
   "source": [
    "## dummy variables(gender,dependents,education,Loan_Amount_Term,Property_Area)\n",
    "#gen = pd.get_dummies(df_train['Gender'],drop_first = True)\n",
    "dep = pd.get_dummies(df_train['Dependents'],drop_first = True)\n",
    "#ed = pd.get_dummies(df_train['Education'],drop_first = True)\n",
    "lat = pd.get_dummies(df_train['Loan_Amount_Term'],drop_first = True)\n",
    "pa = pd.get_dummies(df_train['Property_Area'],drop_first = True)\n",
    "\n",
    "df_train = pd.concat([df_train,dep,lat,pa],axis = 1)"
   ]
  },
  {
   "cell_type": "code",
   "execution_count": 13,
   "metadata": {},
   "outputs": [],
   "source": [
    "from sklearn.preprocessing import StandardScaler"
   ]
  },
  {
   "cell_type": "code",
   "execution_count": 14,
   "metadata": {},
   "outputs": [],
   "source": [
    "df_train = df_train.drop(['Dependents','Loan_Amount_Term','Property_Area','ApplicantIncome','CoapplicantIncome','LoanAmount'],axis = 1)\n"
   ]
  },
  {
   "cell_type": "code",
   "execution_count": 15,
   "metadata": {},
   "outputs": [
    {
     "name": "stdout",
     "output_type": "stream",
     "text": [
      "<class 'pandas.core.frame.DataFrame'>\n",
      "RangeIndex: 614 entries, 0 to 613\n",
      "Data columns (total 24 columns):\n",
      "Loan_ID              614 non-null object\n",
      "Gender               614 non-null int64\n",
      "Married              614 non-null int64\n",
      "Education            614 non-null int64\n",
      "Self_Employed        614 non-null int64\n",
      "Credit_History       614 non-null float64\n",
      "Loan_Status          614 non-null int64\n",
      "dep_None             614 non-null uint8\n",
      "dep_One              614 non-null uint8\n",
      "dep_Two              614 non-null uint8\n",
      "10 Years             614 non-null uint8\n",
      "15 Years             614 non-null uint8\n",
      "20 Years             614 non-null uint8\n",
      "25 Years             614 non-null uint8\n",
      "3 Years              614 non-null uint8\n",
      "30 Years             614 non-null uint8\n",
      "40 Years             614 non-null uint8\n",
      "5 Years              614 non-null uint8\n",
      "7 Years              614 non-null uint8\n",
      "Semiurban            614 non-null uint8\n",
      "Urban                614 non-null uint8\n",
      "ApplicantIncome      614 non-null float64\n",
      "CoapplicantIncome    614 non-null float64\n",
      "LoanAmount           614 non-null float64\n",
      "dtypes: float64(4), int64(5), object(1), uint8(14)\n",
      "memory usage: 56.4+ KB\n"
     ]
    }
   ],
   "source": [
    "df_train = pd.concat([df_train,normalized_df],axis = 1)\n",
    "df_train.info()"
   ]
  },
  {
   "cell_type": "code",
   "execution_count": 16,
   "metadata": {},
   "outputs": [],
   "source": [
    "X = df_train.drop(['Loan_ID','Loan_Status'],axis = 1)\n",
    "y = df_train['Loan_Status']"
   ]
  },
  {
   "cell_type": "code",
   "execution_count": 17,
   "metadata": {},
   "outputs": [],
   "source": [
    "from sklearn.linear_model import LogisticRegression\n",
    "from sklearn.feature_selection import RFE"
   ]
  },
  {
   "cell_type": "code",
   "execution_count": 18,
   "metadata": {},
   "outputs": [
    {
     "name": "stdout",
     "output_type": "stream",
     "text": [
      "[ True  True  True  True  True  True  True  True  True  True  True  True\n",
      "  True  True  True  True  True  True  True  True  True  True]\n",
      "[1 1 1 1 1 1 1 1 1 1 1 1 1 1 1 1 1 1 1 1 1 1]\n"
     ]
    }
   ],
   "source": [
    "log = LogisticRegression()\n",
    "rfe = RFE(log,23)\n",
    "rfe1 = rfe.fit(X,y)\n",
    "print(rfe1.support_)\n",
    "print(rfe1.ranking_)"
   ]
  },
  {
   "cell_type": "code",
   "execution_count": 19,
   "metadata": {},
   "outputs": [],
   "source": [
    "col = X.columns[rfe.support_]\n",
    "X_train = X[col]"
   ]
  },
  {
   "cell_type": "code",
   "execution_count": 20,
   "metadata": {},
   "outputs": [
    {
     "data": {
      "text/html": [
       "<table class=\"simpletable\">\n",
       "<caption>Generalized Linear Model Regression Results</caption>\n",
       "<tr>\n",
       "  <th>Dep. Variable:</th>     <td>Loan_Status</td>   <th>  No. Observations:  </th>  <td>   614</td>  \n",
       "</tr>\n",
       "<tr>\n",
       "  <th>Model:</th>                 <td>GLM</td>       <th>  Df Residuals:      </th>  <td>   591</td>  \n",
       "</tr>\n",
       "<tr>\n",
       "  <th>Model Family:</th>       <td>Binomial</td>     <th>  Df Model:          </th>  <td>    22</td>  \n",
       "</tr>\n",
       "<tr>\n",
       "  <th>Link Function:</th>        <td>logit</td>      <th>  Scale:             </th> <td>  1.0000</td> \n",
       "</tr>\n",
       "<tr>\n",
       "  <th>Method:</th>               <td>IRLS</td>       <th>  Log-Likelihood:    </th> <td> -281.22</td> \n",
       "</tr>\n",
       "<tr>\n",
       "  <th>Date:</th>           <td>Thu, 14 Mar 2019</td> <th>  Deviance:          </th> <td>  562.44</td> \n",
       "</tr>\n",
       "<tr>\n",
       "  <th>Time:</th>               <td>13:14:50</td>     <th>  Pearson chi2:      </th>  <td>  612.</td>  \n",
       "</tr>\n",
       "<tr>\n",
       "  <th>No. Iterations:</th>        <td>21</td>        <th>  Covariance Type:   </th> <td>nonrobust</td>\n",
       "</tr>\n",
       "</table>\n",
       "<table class=\"simpletable\">\n",
       "<tr>\n",
       "          <td></td>             <th>coef</th>     <th>std err</th>      <th>z</th>      <th>P>|z|</th>  <th>[0.025</th>    <th>0.975]</th>  \n",
       "</tr>\n",
       "<tr>\n",
       "  <th>const</th>             <td>   18.4775</td> <td> 4.82e+04</td> <td>    0.000</td> <td> 1.000</td> <td>-9.44e+04</td> <td> 9.45e+04</td>\n",
       "</tr>\n",
       "<tr>\n",
       "  <th>Gender</th>            <td>   -0.0885</td> <td>    0.301</td> <td>   -0.294</td> <td> 0.768</td> <td>   -0.678</td> <td>    0.501</td>\n",
       "</tr>\n",
       "<tr>\n",
       "  <th>Married</th>           <td>    0.5073</td> <td>    0.256</td> <td>    1.979</td> <td> 0.048</td> <td>    0.005</td> <td>    1.010</td>\n",
       "</tr>\n",
       "<tr>\n",
       "  <th>Education</th>         <td>    0.3334</td> <td>    0.262</td> <td>    1.270</td> <td> 0.204</td> <td>   -0.181</td> <td>    0.848</td>\n",
       "</tr>\n",
       "<tr>\n",
       "  <th>Self_Employed</th>     <td>   -0.1901</td> <td>    0.308</td> <td>   -0.618</td> <td> 0.537</td> <td>   -0.793</td> <td>    0.413</td>\n",
       "</tr>\n",
       "<tr>\n",
       "  <th>Credit_History</th>    <td>    3.3859</td> <td>    0.337</td> <td>   10.061</td> <td> 0.000</td> <td>    2.726</td> <td>    4.045</td>\n",
       "</tr>\n",
       "<tr>\n",
       "  <th>dep_None</th>          <td>    0.0734</td> <td>    0.412</td> <td>    0.178</td> <td> 0.858</td> <td>   -0.734</td> <td>    0.881</td>\n",
       "</tr>\n",
       "<tr>\n",
       "  <th>dep_One</th>           <td>   -0.2296</td> <td>    0.454</td> <td>   -0.505</td> <td> 0.613</td> <td>   -1.120</td> <td>    0.661</td>\n",
       "</tr>\n",
       "<tr>\n",
       "  <th>dep_Two</th>           <td>    0.4141</td> <td>    0.468</td> <td>    0.885</td> <td> 0.376</td> <td>   -0.503</td> <td>    1.331</td>\n",
       "</tr>\n",
       "<tr>\n",
       "  <th>10 Years</th>          <td>   -0.5366</td> <td> 5.55e+04</td> <td>-9.66e-06</td> <td> 1.000</td> <td>-1.09e+05</td> <td> 1.09e+05</td>\n",
       "</tr>\n",
       "<tr>\n",
       "  <th>15 Years</th>          <td>  -20.8453</td> <td> 4.82e+04</td> <td>   -0.000</td> <td> 1.000</td> <td>-9.45e+04</td> <td> 9.44e+04</td>\n",
       "</tr>\n",
       "<tr>\n",
       "  <th>20 Years</th>          <td>  -19.9936</td> <td> 4.82e+04</td> <td>   -0.000</td> <td> 1.000</td> <td>-9.45e+04</td> <td> 9.44e+04</td>\n",
       "</tr>\n",
       "<tr>\n",
       "  <th>25 Years</th>          <td>  -20.9564</td> <td> 4.82e+04</td> <td>   -0.000</td> <td> 1.000</td> <td>-9.45e+04</td> <td> 9.44e+04</td>\n",
       "</tr>\n",
       "<tr>\n",
       "  <th>3 Years</th>           <td>  -45.2775</td> <td>  5.9e+04</td> <td>   -0.001</td> <td> 0.999</td> <td>-1.16e+05</td> <td> 1.16e+05</td>\n",
       "</tr>\n",
       "<tr>\n",
       "  <th>30 Years</th>          <td>  -21.1320</td> <td> 4.82e+04</td> <td>   -0.000</td> <td> 1.000</td> <td>-9.45e+04</td> <td> 9.44e+04</td>\n",
       "</tr>\n",
       "<tr>\n",
       "  <th>40 Years</th>          <td>  -22.4766</td> <td> 4.82e+04</td> <td>   -0.000</td> <td> 1.000</td> <td>-9.45e+04</td> <td> 9.44e+04</td>\n",
       "</tr>\n",
       "<tr>\n",
       "  <th>5 Years</th>           <td>    0.5965</td> <td> 5.89e+04</td> <td> 1.01e-05</td> <td> 1.000</td> <td>-1.16e+05</td> <td> 1.16e+05</td>\n",
       "</tr>\n",
       "<tr>\n",
       "  <th>7 Years</th>           <td>  -21.5741</td> <td> 4.82e+04</td> <td>   -0.000</td> <td> 1.000</td> <td>-9.45e+04</td> <td> 9.44e+04</td>\n",
       "</tr>\n",
       "<tr>\n",
       "  <th>Semiurban</th>         <td>    0.9571</td> <td>    0.270</td> <td>    3.549</td> <td> 0.000</td> <td>    0.428</td> <td>    1.486</td>\n",
       "</tr>\n",
       "<tr>\n",
       "  <th>Urban</th>             <td>    0.1956</td> <td>    0.260</td> <td>    0.752</td> <td> 0.452</td> <td>   -0.314</td> <td>    0.705</td>\n",
       "</tr>\n",
       "<tr>\n",
       "  <th>ApplicantIncome</th>   <td> 4.796e-06</td> <td> 2.38e-05</td> <td>    0.202</td> <td> 0.840</td> <td>-4.18e-05</td> <td> 5.14e-05</td>\n",
       "</tr>\n",
       "<tr>\n",
       "  <th>CoapplicantIncome</th> <td>-6.314e-05</td> <td> 3.63e-05</td> <td>   -1.737</td> <td> 0.082</td> <td>   -0.000</td> <td> 8.09e-06</td>\n",
       "</tr>\n",
       "<tr>\n",
       "  <th>LoanAmount</th>        <td>   -0.0015</td> <td>    0.002</td> <td>   -0.906</td> <td> 0.365</td> <td>   -0.005</td> <td>    0.002</td>\n",
       "</tr>\n",
       "</table>"
      ],
      "text/plain": [
       "<class 'statsmodels.iolib.summary.Summary'>\n",
       "\"\"\"\n",
       "                 Generalized Linear Model Regression Results                  \n",
       "==============================================================================\n",
       "Dep. Variable:            Loan_Status   No. Observations:                  614\n",
       "Model:                            GLM   Df Residuals:                      591\n",
       "Model Family:                Binomial   Df Model:                           22\n",
       "Link Function:                  logit   Scale:                          1.0000\n",
       "Method:                          IRLS   Log-Likelihood:                -281.22\n",
       "Date:                Thu, 14 Mar 2019   Deviance:                       562.44\n",
       "Time:                        13:14:50   Pearson chi2:                     612.\n",
       "No. Iterations:                    21   Covariance Type:             nonrobust\n",
       "=====================================================================================\n",
       "                        coef    std err          z      P>|z|      [0.025      0.975]\n",
       "-------------------------------------------------------------------------------------\n",
       "const                18.4775   4.82e+04      0.000      1.000   -9.44e+04    9.45e+04\n",
       "Gender               -0.0885      0.301     -0.294      0.768      -0.678       0.501\n",
       "Married               0.5073      0.256      1.979      0.048       0.005       1.010\n",
       "Education             0.3334      0.262      1.270      0.204      -0.181       0.848\n",
       "Self_Employed        -0.1901      0.308     -0.618      0.537      -0.793       0.413\n",
       "Credit_History        3.3859      0.337     10.061      0.000       2.726       4.045\n",
       "dep_None              0.0734      0.412      0.178      0.858      -0.734       0.881\n",
       "dep_One              -0.2296      0.454     -0.505      0.613      -1.120       0.661\n",
       "dep_Two               0.4141      0.468      0.885      0.376      -0.503       1.331\n",
       "10 Years             -0.5366   5.55e+04  -9.66e-06      1.000   -1.09e+05    1.09e+05\n",
       "15 Years            -20.8453   4.82e+04     -0.000      1.000   -9.45e+04    9.44e+04\n",
       "20 Years            -19.9936   4.82e+04     -0.000      1.000   -9.45e+04    9.44e+04\n",
       "25 Years            -20.9564   4.82e+04     -0.000      1.000   -9.45e+04    9.44e+04\n",
       "3 Years             -45.2775    5.9e+04     -0.001      0.999   -1.16e+05    1.16e+05\n",
       "30 Years            -21.1320   4.82e+04     -0.000      1.000   -9.45e+04    9.44e+04\n",
       "40 Years            -22.4766   4.82e+04     -0.000      1.000   -9.45e+04    9.44e+04\n",
       "5 Years               0.5965   5.89e+04   1.01e-05      1.000   -1.16e+05    1.16e+05\n",
       "7 Years             -21.5741   4.82e+04     -0.000      1.000   -9.45e+04    9.44e+04\n",
       "Semiurban             0.9571      0.270      3.549      0.000       0.428       1.486\n",
       "Urban                 0.1956      0.260      0.752      0.452      -0.314       0.705\n",
       "ApplicantIncome    4.796e-06   2.38e-05      0.202      0.840   -4.18e-05    5.14e-05\n",
       "CoapplicantIncome -6.314e-05   3.63e-05     -1.737      0.082      -0.000    8.09e-06\n",
       "LoanAmount           -0.0015      0.002     -0.906      0.365      -0.005       0.002\n",
       "=====================================================================================\n",
       "\"\"\""
      ]
     },
     "execution_count": 20,
     "metadata": {},
     "output_type": "execute_result"
    }
   ],
   "source": [
    "import statsmodels.api as sm\n",
    "model = sm.GLM(y,sm.add_constant(X_train[col]),family = sm.families.Binomial())\n",
    "model.fit().summary()"
   ]
  },
  {
   "cell_type": "code",
   "execution_count": null,
   "metadata": {},
   "outputs": [],
   "source": []
  },
  {
   "cell_type": "code",
   "execution_count": null,
   "metadata": {},
   "outputs": [],
   "source": []
  },
  {
   "cell_type": "code",
   "execution_count": 21,
   "metadata": {},
   "outputs": [],
   "source": [
    "X1 = df_train.drop(['Loan_ID','Loan_Status','3 Years','5 Years','10 Years','dep_One','dep_Two','20 Years','Education','Gender','Self_Employed','Urban','7 Years','30 Years','15 Years','25 Years','dep_None','LoanAmount','ApplicantIncome','CoapplicantIncome'],axis = 1)\n",
    "y = df_train['Loan_Status']"
   ]
  },
  {
   "cell_type": "code",
   "execution_count": 22,
   "metadata": {},
   "outputs": [
    {
     "name": "stdout",
     "output_type": "stream",
     "text": [
      "[ True  True  True  True]\n",
      "[1 1 1 1]\n"
     ]
    }
   ],
   "source": [
    "log1 = LogisticRegression()\n",
    "rfe2 = RFE(log1,6)\n",
    "rfe2 = rfe2.fit(X1,y)\n",
    "print(rfe2.support_)\n",
    "print(rfe2.ranking_)"
   ]
  },
  {
   "cell_type": "code",
   "execution_count": 23,
   "metadata": {},
   "outputs": [],
   "source": [
    "#CoapplicantIncome"
   ]
  },
  {
   "cell_type": "code",
   "execution_count": 24,
   "metadata": {},
   "outputs": [],
   "source": [
    "col1 = X1.columns[rfe2.support_]\n",
    "X_train1 = X1[col1]"
   ]
  },
  {
   "cell_type": "code",
   "execution_count": 25,
   "metadata": {},
   "outputs": [
    {
     "data": {
      "text/html": [
       "<table class=\"simpletable\">\n",
       "<caption>Generalized Linear Model Regression Results</caption>\n",
       "<tr>\n",
       "  <th>Dep. Variable:</th>     <td>Loan_Status</td>   <th>  No. Observations:  </th>  <td>   614</td>  \n",
       "</tr>\n",
       "<tr>\n",
       "  <th>Model:</th>                 <td>GLM</td>       <th>  Df Residuals:      </th>  <td>   609</td>  \n",
       "</tr>\n",
       "<tr>\n",
       "  <th>Model Family:</th>       <td>Binomial</td>     <th>  Df Model:          </th>  <td>     4</td>  \n",
       "</tr>\n",
       "<tr>\n",
       "  <th>Link Function:</th>        <td>logit</td>      <th>  Scale:             </th> <td>  1.0000</td> \n",
       "</tr>\n",
       "<tr>\n",
       "  <th>Method:</th>               <td>IRLS</td>       <th>  Log-Likelihood:    </th> <td> -292.00</td> \n",
       "</tr>\n",
       "<tr>\n",
       "  <th>Date:</th>           <td>Thu, 14 Mar 2019</td> <th>  Deviance:          </th> <td>  584.00</td> \n",
       "</tr>\n",
       "<tr>\n",
       "  <th>Time:</th>               <td>13:14:50</td>     <th>  Pearson chi2:      </th>  <td>  612.</td>  \n",
       "</tr>\n",
       "<tr>\n",
       "  <th>No. Iterations:</th>         <td>5</td>        <th>  Covariance Type:   </th> <td>nonrobust</td>\n",
       "</tr>\n",
       "</table>\n",
       "<table class=\"simpletable\">\n",
       "<tr>\n",
       "         <td></td>           <th>coef</th>     <th>std err</th>      <th>z</th>      <th>P>|z|</th>  <th>[0.025</th>    <th>0.975]</th>  \n",
       "</tr>\n",
       "<tr>\n",
       "  <th>const</th>          <td>   -2.4935</td> <td>    0.357</td> <td>   -6.985</td> <td> 0.000</td> <td>   -3.193</td> <td>   -1.794</td>\n",
       "</tr>\n",
       "<tr>\n",
       "  <th>Married</th>        <td>    0.4885</td> <td>    0.214</td> <td>    2.286</td> <td> 0.022</td> <td>    0.070</td> <td>    0.907</td>\n",
       "</tr>\n",
       "<tr>\n",
       "  <th>Credit_History</th> <td>    3.2939</td> <td>    0.326</td> <td>   10.101</td> <td> 0.000</td> <td>    2.655</td> <td>    3.933</td>\n",
       "</tr>\n",
       "<tr>\n",
       "  <th>40 Years</th>       <td>   -1.2636</td> <td>    0.629</td> <td>   -2.010</td> <td> 0.044</td> <td>   -2.496</td> <td>   -0.031</td>\n",
       "</tr>\n",
       "<tr>\n",
       "  <th>Semiurban</th>      <td>    0.7919</td> <td>    0.228</td> <td>    3.475</td> <td> 0.001</td> <td>    0.345</td> <td>    1.239</td>\n",
       "</tr>\n",
       "</table>"
      ],
      "text/plain": [
       "<class 'statsmodels.iolib.summary.Summary'>\n",
       "\"\"\"\n",
       "                 Generalized Linear Model Regression Results                  \n",
       "==============================================================================\n",
       "Dep. Variable:            Loan_Status   No. Observations:                  614\n",
       "Model:                            GLM   Df Residuals:                      609\n",
       "Model Family:                Binomial   Df Model:                            4\n",
       "Link Function:                  logit   Scale:                          1.0000\n",
       "Method:                          IRLS   Log-Likelihood:                -292.00\n",
       "Date:                Thu, 14 Mar 2019   Deviance:                       584.00\n",
       "Time:                        13:14:50   Pearson chi2:                     612.\n",
       "No. Iterations:                     5   Covariance Type:             nonrobust\n",
       "==================================================================================\n",
       "                     coef    std err          z      P>|z|      [0.025      0.975]\n",
       "----------------------------------------------------------------------------------\n",
       "const             -2.4935      0.357     -6.985      0.000      -3.193      -1.794\n",
       "Married            0.4885      0.214      2.286      0.022       0.070       0.907\n",
       "Credit_History     3.2939      0.326     10.101      0.000       2.655       3.933\n",
       "40 Years          -1.2636      0.629     -2.010      0.044      -2.496      -0.031\n",
       "Semiurban          0.7919      0.228      3.475      0.001       0.345       1.239\n",
       "==================================================================================\n",
       "\"\"\""
      ]
     },
     "execution_count": 25,
     "metadata": {},
     "output_type": "execute_result"
    }
   ],
   "source": [
    "model1 = sm.GLM(y,sm.add_constant(X_train1[col1]),family = sm.families.Binomial())\n",
    "model1.fit().summary()"
   ]
  },
  {
   "cell_type": "code",
   "execution_count": 26,
   "metadata": {},
   "outputs": [],
   "source": [
    "### testing on the training set only:\n",
    "\n",
    "#X_train1 = X_train[col]\n",
    "X_test1 = X1[col1]\n",
    "# Predicted probabilities\n",
    "log21 = LogisticRegression()\n",
    "log21.fit(X_train1, y)\n",
    "y_pred = log21.predict_proba(X_test1)\n",
    "# Converting y_test to dataframe\n",
    "y_test_df = pd.DataFrame(y)\n",
    "# Converting y_pred to a dataframe which is an array\n",
    "y_pred_df = pd.DataFrame(y_pred)\n",
    "# Converting to column dataframe\n",
    "y_pred_1 = y_pred_df.iloc[:,[1]]"
   ]
  },
  {
   "cell_type": "code",
   "execution_count": 27,
   "metadata": {},
   "outputs": [
    {
     "data": {
      "text/html": [
       "<div>\n",
       "<style scoped>\n",
       "    .dataframe tbody tr th:only-of-type {\n",
       "        vertical-align: middle;\n",
       "    }\n",
       "\n",
       "    .dataframe tbody tr th {\n",
       "        vertical-align: top;\n",
       "    }\n",
       "\n",
       "    .dataframe thead th {\n",
       "        text-align: right;\n",
       "    }\n",
       "</style>\n",
       "<table border=\"1\" class=\"dataframe\">\n",
       "  <thead>\n",
       "    <tr style=\"text-align: right;\">\n",
       "      <th></th>\n",
       "      <th>Loan_Status</th>\n",
       "      <th>status_Prob</th>\n",
       "    </tr>\n",
       "  </thead>\n",
       "  <tbody>\n",
       "    <tr>\n",
       "      <th>0</th>\n",
       "      <td>1</td>\n",
       "      <td>0.698376</td>\n",
       "    </tr>\n",
       "    <tr>\n",
       "      <th>1</th>\n",
       "      <td>0</td>\n",
       "      <td>0.775787</td>\n",
       "    </tr>\n",
       "    <tr>\n",
       "      <th>2</th>\n",
       "      <td>1</td>\n",
       "      <td>0.775787</td>\n",
       "    </tr>\n",
       "    <tr>\n",
       "      <th>3</th>\n",
       "      <td>1</td>\n",
       "      <td>0.775787</td>\n",
       "    </tr>\n",
       "    <tr>\n",
       "      <th>4</th>\n",
       "      <td>1</td>\n",
       "      <td>0.698376</td>\n",
       "    </tr>\n",
       "  </tbody>\n",
       "</table>\n",
       "</div>"
      ],
      "text/plain": [
       "   Loan_Status  status_Prob\n",
       "0            1     0.698376\n",
       "1            0     0.775787\n",
       "2            1     0.775787\n",
       "3            1     0.775787\n",
       "4            1     0.698376"
      ]
     },
     "execution_count": 27,
     "metadata": {},
     "output_type": "execute_result"
    }
   ],
   "source": [
    "# Removing index for both dataframes to append them side by side \n",
    "y_pred_1.reset_index(drop=True, inplace=True)\n",
    "y_test_df.reset_index(drop=True, inplace=True)\n",
    "# Appending y_test_df and y_pred_1\n",
    "y_pred_final = pd.concat([y_test_df,y_pred_1],axis=1)\n",
    "# Renaming the column \n",
    "y_pred_final= y_pred_final.rename(columns={ 1 : 'status_Prob'})\n",
    "# Rearranging the columns\n",
    "y_pred_final = y_pred_final.reindex(['Loan_Status','status_Prob'], axis=1)\n",
    "y_pred_final.head()"
   ]
  },
  {
   "cell_type": "code",
   "execution_count": 28,
   "metadata": {},
   "outputs": [
    {
     "data": {
      "text/html": [
       "<div>\n",
       "<style scoped>\n",
       "    .dataframe tbody tr th:only-of-type {\n",
       "        vertical-align: middle;\n",
       "    }\n",
       "\n",
       "    .dataframe tbody tr th {\n",
       "        vertical-align: top;\n",
       "    }\n",
       "\n",
       "    .dataframe thead th {\n",
       "        text-align: right;\n",
       "    }\n",
       "</style>\n",
       "<table border=\"1\" class=\"dataframe\">\n",
       "  <thead>\n",
       "    <tr style=\"text-align: right;\">\n",
       "      <th></th>\n",
       "      <th>Loan_Status</th>\n",
       "      <th>status_Prob</th>\n",
       "      <th>0.0</th>\n",
       "      <th>0.1</th>\n",
       "      <th>0.2</th>\n",
       "      <th>0.3</th>\n",
       "      <th>0.4</th>\n",
       "      <th>0.5</th>\n",
       "      <th>0.6</th>\n",
       "      <th>0.7</th>\n",
       "      <th>0.8</th>\n",
       "      <th>0.9</th>\n",
       "    </tr>\n",
       "  </thead>\n",
       "  <tbody>\n",
       "    <tr>\n",
       "      <th>0</th>\n",
       "      <td>1</td>\n",
       "      <td>0.698376</td>\n",
       "      <td>1</td>\n",
       "      <td>1</td>\n",
       "      <td>1</td>\n",
       "      <td>1</td>\n",
       "      <td>1</td>\n",
       "      <td>1</td>\n",
       "      <td>1</td>\n",
       "      <td>0</td>\n",
       "      <td>0</td>\n",
       "      <td>0</td>\n",
       "    </tr>\n",
       "    <tr>\n",
       "      <th>1</th>\n",
       "      <td>0</td>\n",
       "      <td>0.775787</td>\n",
       "      <td>1</td>\n",
       "      <td>1</td>\n",
       "      <td>1</td>\n",
       "      <td>1</td>\n",
       "      <td>1</td>\n",
       "      <td>1</td>\n",
       "      <td>1</td>\n",
       "      <td>1</td>\n",
       "      <td>0</td>\n",
       "      <td>0</td>\n",
       "    </tr>\n",
       "    <tr>\n",
       "      <th>2</th>\n",
       "      <td>1</td>\n",
       "      <td>0.775787</td>\n",
       "      <td>1</td>\n",
       "      <td>1</td>\n",
       "      <td>1</td>\n",
       "      <td>1</td>\n",
       "      <td>1</td>\n",
       "      <td>1</td>\n",
       "      <td>1</td>\n",
       "      <td>1</td>\n",
       "      <td>0</td>\n",
       "      <td>0</td>\n",
       "    </tr>\n",
       "    <tr>\n",
       "      <th>3</th>\n",
       "      <td>1</td>\n",
       "      <td>0.775787</td>\n",
       "      <td>1</td>\n",
       "      <td>1</td>\n",
       "      <td>1</td>\n",
       "      <td>1</td>\n",
       "      <td>1</td>\n",
       "      <td>1</td>\n",
       "      <td>1</td>\n",
       "      <td>1</td>\n",
       "      <td>0</td>\n",
       "      <td>0</td>\n",
       "    </tr>\n",
       "    <tr>\n",
       "      <th>4</th>\n",
       "      <td>1</td>\n",
       "      <td>0.698376</td>\n",
       "      <td>1</td>\n",
       "      <td>1</td>\n",
       "      <td>1</td>\n",
       "      <td>1</td>\n",
       "      <td>1</td>\n",
       "      <td>1</td>\n",
       "      <td>1</td>\n",
       "      <td>0</td>\n",
       "      <td>0</td>\n",
       "      <td>0</td>\n",
       "    </tr>\n",
       "  </tbody>\n",
       "</table>\n",
       "</div>"
      ],
      "text/plain": [
       "   Loan_Status  status_Prob  0.0  0.1  0.2  0.3  0.4  0.5  0.6  0.7  0.8  0.9\n",
       "0            1     0.698376    1    1    1    1    1    1    1    0    0    0\n",
       "1            0     0.775787    1    1    1    1    1    1    1    1    0    0\n",
       "2            1     0.775787    1    1    1    1    1    1    1    1    0    0\n",
       "3            1     0.775787    1    1    1    1    1    1    1    1    0    0\n",
       "4            1     0.698376    1    1    1    1    1    1    1    0    0    0"
      ]
     },
     "execution_count": 28,
     "metadata": {},
     "output_type": "execute_result"
    }
   ],
   "source": [
    "# Let's create columns with different probability cutoffs \n",
    "numbers = [float(x)/10 for x in range(10)]\n",
    "for i in numbers:\n",
    "    y_pred_final[i]= y_pred_final.status_Prob.map( lambda x: 1 if x > i else 0)\n",
    "y_pred_final.head()"
   ]
  },
  {
   "cell_type": "code",
   "execution_count": 29,
   "metadata": {},
   "outputs": [],
   "source": [
    "from sklearn import metrics"
   ]
  },
  {
   "cell_type": "code",
   "execution_count": 30,
   "metadata": {},
   "outputs": [
    {
     "name": "stdout",
     "output_type": "stream",
     "text": [
      "     prob  accuracy     sensi     speci  false positive rate\n",
      "0.0   0.0  0.687296  0.000000  1.000000             0.000000\n",
      "0.1   0.1  0.693811  0.020833  1.000000             0.000000\n",
      "0.2   0.2  0.770358  0.302083  0.983412             0.016588\n",
      "0.3   0.3  0.802932  0.437500  0.969194             0.030806\n",
      "0.4   0.4  0.802932  0.437500  0.969194             0.030806\n",
      "0.5   0.5  0.804560  0.453125  0.964455             0.035545\n",
      "0.6   0.6  0.804560  0.453125  0.964455             0.035545\n",
      "0.7   0.7  0.737785  0.630208  0.786730             0.213270\n",
      "0.8   0.8  0.547231  0.869792  0.400474             0.599526\n",
      "0.9   0.9  0.312704  1.000000  0.000000             1.000000\n"
     ]
    }
   ],
   "source": [
    "# Now let's calculate accuracy sensitivity and specificity for various probability cutoffs.\n",
    "cutoff_df = pd.DataFrame( columns = ['prob','accuracy','sensi','speci','false positive rate'])\n",
    "from sklearn.metrics import confusion_matrix\n",
    "num = [0.0,0.1,0.2,0.3,0.4,0.5,0.6,0.7,0.8,0.9]\n",
    "for i in num:\n",
    "    cm1 = metrics.confusion_matrix( y_pred_final.Loan_Status, y_pred_final[i] )\n",
    "    total1=sum(sum(cm1))\n",
    "    accuracy = (cm1[0,0]+cm1[1,1])/total1\n",
    "    sensi = cm1[0,0]/(cm1[0,0]+cm1[0,1])\n",
    "    speci = cm1[1,1]/(cm1[1,0]+cm1[1,1])\n",
    "    fpr = 1-speci\n",
    "    cutoff_df.loc[i] =[ i ,accuracy,sensi,speci,fpr]\n",
    "print(cutoff_df)"
   ]
  },
  {
   "cell_type": "code",
   "execution_count": 31,
   "metadata": {},
   "outputs": [
    {
     "data": {
      "text/plain": [
       "<matplotlib.axes._subplots.AxesSubplot at 0x271e66e6550>"
      ]
     },
     "execution_count": 31,
     "metadata": {},
     "output_type": "execute_result"
    },
    {
     "data": {
      "image/png": "[encoded data removed]",
      "text/plain": [
       "<Figure size 432x288 with 1 Axes>"
      ]
     },
     "metadata": {
      "needs_background": "light"
     },
     "output_type": "display_data"
    }
   ],
   "source": [
    "# Let's plot accuracy sensitivity and specificity for various probabilities.\n",
    "cutoff_df.plot.line(x='prob', y=['accuracy','sensi','speci','false positive rate'])"
   ]
  },
  {
   "cell_type": "code",
   "execution_count": 32,
   "metadata": {},
   "outputs": [],
   "source": [
    "from sklearn.model_selection import KFold\n",
    "from sklearn.metrics import roc_auc_score"
   ]
  },
  {
   "cell_type": "code",
   "execution_count": null,
   "metadata": {},
   "outputs": [],
   "source": []
  },
  {
   "cell_type": "code",
   "execution_count": 34,
   "metadata": {},
   "outputs": [],
   "source": [
    "y_pred_final['final_predicted'] = y_pred_final.status_Prob.map( lambda x: 1 if x > 0.6 else 0)"
   ]
  },
  {
   "cell_type": "code",
   "execution_count": 35,
   "metadata": {},
   "outputs": [
    {
     "data": {
      "text/plain": [
       "(0.0, 1.05)"
      ]
     },
     "execution_count": 35,
     "metadata": {},
     "output_type": "execute_result"
    },
    {
     "data": {
      "image/png": "[encoded data removed]",
      "text/plain": [
       "<Figure size 1080x576 with 1 Axes>"
      ]
     },
     "metadata": {
      "needs_background": "light"
     },
     "output_type": "display_data"
    }
   ],
   "source": [
    "#Let's check the overall accuracy.\n",
    "metrics.accuracy_score( y_pred_final.Loan_Status, y_pred_final.final_predicted)\n",
    "fpr, tpr, thresholds = metrics.roc_curve( y_pred_final.Loan_Status,y_pred_final.final_predicted)\n",
    "auc_score = metrics.roc_auc_score(y_pred_final.Loan_Status,y_pred_final.final_predicted)\n",
    "auc_score\n",
    "plt.figure(figsize=(15, 8))\n",
    "plt.plot( fpr, tpr, label='ROC curve (area = %0.2f)' % auc_score )\n",
    "plt.plot([0, 1], [0, 1], 'k--')\n",
    "plt.xlim([0.0, 1.0])\n",
    "plt.ylim([0.0, 1.05])"
   ]
  },
  {
   "cell_type": "code",
   "execution_count": 36,
   "metadata": {},
   "outputs": [],
   "source": [
    "## test data"
   ]
  },
  {
   "cell_type": "code",
   "execution_count": 37,
   "metadata": {},
   "outputs": [
    {
     "name": "stdout",
     "output_type": "stream",
     "text": [
      "<class 'pandas.core.frame.DataFrame'>\n",
      "RangeIndex: 367 entries, 0 to 366\n",
      "Data columns (total 12 columns):\n",
      "Loan_ID              367 non-null object\n",
      "Gender               356 non-null object\n",
      "Married              367 non-null object\n",
      "Dependents           357 non-null object\n",
      "Education            367 non-null object\n",
      "Self_Employed        344 non-null object\n",
      "ApplicantIncome      367 non-null int64\n",
      "CoapplicantIncome    367 non-null int64\n",
      "LoanAmount           362 non-null float64\n",
      "Loan_Amount_Term     361 non-null float64\n",
      "Credit_History       338 non-null float64\n",
      "Property_Area        367 non-null object\n",
      "dtypes: float64(3), int64(2), object(7)\n",
      "memory usage: 34.5+ KB\n"
     ]
    }
   ],
   "source": [
    "df_test = pd.read_csv('test.csv')\n",
    "df_test.info()"
   ]
  },
  {
   "cell_type": "code",
   "execution_count": 38,
   "metadata": {},
   "outputs": [
    {
     "data": {
      "text/plain": [
       "Loan_ID               0\n",
       "Gender               11\n",
       "Married               0\n",
       "Dependents           10\n",
       "Education             0\n",
       "Self_Employed        23\n",
       "ApplicantIncome       0\n",
       "CoapplicantIncome     0\n",
       "LoanAmount            5\n",
       "Loan_Amount_Term      6\n",
       "Credit_History       29\n",
       "Property_Area         0\n",
       "dtype: int64"
      ]
     },
     "execution_count": 38,
     "metadata": {},
     "output_type": "execute_result"
    }
   ],
   "source": [
    "df_test.isnull().sum()"
   ]
  },
  {
   "cell_type": "code",
   "execution_count": 39,
   "metadata": {},
   "outputs": [],
   "source": [
    "\n",
    "df_test['Credit_History'] = df_test['Credit_History'].fillna(method = 'bfill')\n",
    "df_test['Gender'] = df_test['Gender'].fillna(method = 'bfill')\n",
    "df_test['Self_Employed'] = df_test['Self_Employed'].fillna(method = 'bfill')\n",
    "df_test['LoanAmount'] = df_test['LoanAmount'].fillna(df_test['LoanAmount'].mean())\n",
    "df_test['Dependents'] = df_test['Dependents'].fillna(method = 'bfill')\n",
    "df_test['Loan_Amount_Term'] = df_test['Loan_Amount_Term'].fillna(method = 'bfill')\n",
    "#df_train['Gender'] = df_train['Gender'].fillna(method = 'ffill')\n",
    "#df_train['Married'] = df_train['Married'].fillna(method = 'bfill')\n"
   ]
  },
  {
   "cell_type": "code",
   "execution_count": 40,
   "metadata": {},
   "outputs": [],
   "source": [
    "## continous variables:\n",
    "features1 = ['ApplicantIncome','CoapplicantIncome','LoanAmount']\n",
    "normalized_df1 = df_test[features1]\n",
    "normalized_df1 = normalized_df1 - normalized_df1.mean()/normalized_df1.std()"
   ]
  },
  {
   "cell_type": "code",
   "execution_count": 41,
   "metadata": {},
   "outputs": [],
   "source": [
    "df_train['Education'] =df_train['Education'].map({'Graduate':1,'Not Graduate':0}) \n",
    "df_test['Gender'] = df_test['Gender'].map({'Male': 1,'Female': 0})\n",
    "df_test['Married'] = df_test['Married'].map({'Yes': 1,'No': 0})\n",
    "df_test['Self_Employed'] = df_test['Self_Employed'].map({'Yes': 1,'No': 0})\n",
    "df_test['Loan_Amount_Term'] = df_test['Loan_Amount_Term'].map({360.0 : \"30 Years\",180.0:'15 Years',480.0:'40 Years',300.0:'25 Years',84.0:'7 Years',240.0:'20 Years',120.0:'10 Years',36.0:'3 Years',350.0:'29 Years',12.0:'1 Year',6.0:'half Year'})"
   ]
  },
  {
   "cell_type": "code",
   "execution_count": 42,
   "metadata": {},
   "outputs": [],
   "source": [
    "## dummy variables(gender,dependents,education,Loan_Amount_Term,Property_Area)\n",
    "#gen1 = pd.get_dummies(df_test['Gender'],drop_first = True)\n",
    "#dep1 = pd.get_dummies(df_test['Dependents'],drop_first = True)\n",
    "#ed1 = pd.get_dummies(df_test['Education'],drop_first = True)\n",
    "#lat1 = pd.get_dummies(df_test['Loan_Amount_Term'],drop_first = True)\n",
    "pa1 = pd.get_dummies(df_test['Property_Area'],drop_first = True)\n",
    "lat1 = pd.get_dummies(df_test['Loan_Amount_Term'],drop_first = True)\n",
    "\n",
    "df_test = pd.concat([df_test,pa1,lat1],axis = 1)"
   ]
  },
  {
   "cell_type": "code",
   "execution_count": 43,
   "metadata": {},
   "outputs": [
    {
     "name": "stdout",
     "output_type": "stream",
     "text": [
      "<class 'pandas.core.frame.DataFrame'>\n",
      "RangeIndex: 367 entries, 0 to 366\n",
      "Data columns (total 24 columns):\n",
      "Loan_ID              367 non-null object\n",
      "Gender               367 non-null int64\n",
      "Married              367 non-null int64\n",
      "Dependents           367 non-null object\n",
      "Education            367 non-null object\n",
      "Self_Employed        367 non-null int64\n",
      "ApplicantIncome      367 non-null int64\n",
      "CoapplicantIncome    367 non-null int64\n",
      "LoanAmount           367 non-null float64\n",
      "Loan_Amount_Term     366 non-null object\n",
      "Credit_History       367 non-null float64\n",
      "Property_Area        367 non-null object\n",
      "Semiurban            367 non-null uint8\n",
      "Urban                367 non-null uint8\n",
      "10 Years             367 non-null uint8\n",
      "15 Years             367 non-null uint8\n",
      "20 Years             367 non-null uint8\n",
      "25 Years             367 non-null uint8\n",
      "29 Years             367 non-null uint8\n",
      "3 Years              367 non-null uint8\n",
      "30 Years             367 non-null uint8\n",
      "40 Years             367 non-null uint8\n",
      "7 Years              367 non-null uint8\n",
      "half Year            367 non-null uint8\n",
      "dtypes: float64(2), int64(5), object(5), uint8(12)\n",
      "memory usage: 38.8+ KB\n"
     ]
    }
   ],
   "source": [
    "df_test.info()"
   ]
  },
  {
   "cell_type": "code",
   "execution_count": 44,
   "metadata": {},
   "outputs": [],
   "source": [
    "df_test = df_test.drop(['Dependents','Loan_Amount_Term','Property_Area','ApplicantIncome','CoapplicantIncome','LoanAmount'],axis = 1)\n",
    "df_test = pd.concat([df_test,normalized_df1],axis = 1)"
   ]
  },
  {
   "cell_type": "code",
   "execution_count": 45,
   "metadata": {},
   "outputs": [],
   "source": [
    "X_test2 = df_test.drop(['Loan_ID','Self_Employed','Gender','Education','Urban','10 Years','15 Years','20 Years','25 Years','29 Years','3 Years','30 Years','7 Years','half Year'],axis = 1)\n"
   ]
  },
  {
   "cell_type": "code",
   "execution_count": 46,
   "metadata": {},
   "outputs": [
    {
     "data": {
      "text/plain": [
       "Index(['Married', 'Credit_History', '40 Years', 'Semiurban'], dtype='object')"
      ]
     },
     "execution_count": 46,
     "metadata": {},
     "output_type": "execute_result"
    }
   ],
   "source": [
    "X_train1.columns"
   ]
  },
  {
   "cell_type": "code",
   "execution_count": 47,
   "metadata": {},
   "outputs": [],
   "source": [
    "X_test2 = X_test2[['Married','Credit_History','40 Years','Semiurban']]\n",
    "\n",
    "y_predicted = log21.predict_proba(X_test2)"
   ]
  },
  {
   "cell_type": "code",
   "execution_count": 48,
   "metadata": {},
   "outputs": [],
   "source": [
    "# Converting y_pred to a dataframe which is an array\n",
    "df1 = pd.DataFrame(y_predicted)\n",
    "# Converting to column dataframe\n",
    "df1 = df1.iloc[:,[1]]\n",
    "df1.head()\n",
    "df1= df1.rename(columns={ 1 : 'test_status_Prob'})\n",
    "df1['Loan_Status'] = df1.test_status_Prob.map( lambda x: 1 if x > 0.6 else 0)\n",
    "df2 = pd.DataFrame(df1['Loan_Status'])\n",
    "loan = pd.DataFrame(df_test['Loan_ID'])"
   ]
  },
  {
   "cell_type": "code",
   "execution_count": 49,
   "metadata": {},
   "outputs": [
    {
     "data": {
      "text/html": [
       "<div>\n",
       "<style scoped>\n",
       "    .dataframe tbody tr th:only-of-type {\n",
       "        vertical-align: middle;\n",
       "    }\n",
       "\n",
       "    .dataframe tbody tr th {\n",
       "        vertical-align: top;\n",
       "    }\n",
       "\n",
       "    .dataframe thead th {\n",
       "        text-align: right;\n",
       "    }\n",
       "</style>\n",
       "<table border=\"1\" class=\"dataframe\">\n",
       "  <thead>\n",
       "    <tr style=\"text-align: right;\">\n",
       "      <th></th>\n",
       "      <th>Loan_ID</th>\n",
       "      <th>Loan_Status</th>\n",
       "    </tr>\n",
       "  </thead>\n",
       "  <tbody>\n",
       "    <tr>\n",
       "      <th>0</th>\n",
       "      <td>LP001015</td>\n",
       "      <td>1</td>\n",
       "    </tr>\n",
       "    <tr>\n",
       "      <th>1</th>\n",
       "      <td>LP001022</td>\n",
       "      <td>1</td>\n",
       "    </tr>\n",
       "    <tr>\n",
       "      <th>2</th>\n",
       "      <td>LP001031</td>\n",
       "      <td>1</td>\n",
       "    </tr>\n",
       "    <tr>\n",
       "      <th>3</th>\n",
       "      <td>LP001035</td>\n",
       "      <td>1</td>\n",
       "    </tr>\n",
       "    <tr>\n",
       "      <th>4</th>\n",
       "      <td>LP001051</td>\n",
       "      <td>1</td>\n",
       "    </tr>\n",
       "  </tbody>\n",
       "</table>\n",
       "</div>"
      ],
      "text/plain": [
       "    Loan_ID  Loan_Status\n",
       "0  LP001015            1\n",
       "1  LP001022            1\n",
       "2  LP001031            1\n",
       "3  LP001035            1\n",
       "4  LP001051            1"
      ]
     },
     "execution_count": 49,
     "metadata": {},
     "output_type": "execute_result"
    }
   ],
   "source": [
    "# Removing index for both dataframes to append them side by side \n",
    "df2.reset_index(drop=True, inplace=True)\n",
    "loan.reset_index(drop=True, inplace=True)\n",
    "# Appending y_test_df and y_pred_1\n",
    "final = pd.concat([loan,df2],axis=1)\n",
    "final.head()"
   ]
  },
  {
   "cell_type": "code",
   "execution_count": 50,
   "metadata": {},
   "outputs": [],
   "source": [
    "#prediction1 = pd.DataFrame(final, columns= ['Loan_ID','Loan_Status']).to_csv('prediction1.csv')"
   ]
  },
  {
   "cell_type": "code",
   "execution_count": 51,
   "metadata": {},
   "outputs": [],
   "source": [
    "final[\"Loan_Status\"] = np.where(final.Loan_Status ==1,\"Y\",\"N\")\n",
    "final.to_csv('submission1.csv', index = False)"
   ]
  },
  {
   "cell_type": "code",
   "execution_count": null,
   "metadata": {},
   "outputs": [],
   "source": []
  }
 ],
 "metadata": {
  "kernelspec": {
   "display_name": "Python 3",
   "language": "python",
   "name": "python3"
  },
  "language_info": {
   "codemirror_mode": {
    "name": "ipython",
    "version": 3
   },
   "file_extension": ".py",
   "mimetype": "text/x-python",
   "name": "python",
   "nbconvert_exporter": "python",
   "pygments_lexer": "ipython3",
   "version": "3.7.0"
  }
 },
 "nbformat": 4,
 "nbformat_minor": 2
}
